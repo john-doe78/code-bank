{
 "cells": [
  {
   "cell_type": "markdown",
   "metadata": {
    "collapsed": false,
    "jupyter": {
     "outputs_hidden": false
    }
   },
   "source": [
    "## Data Structure: Dictionary\n",
    "\n",
    "A dictionary represents a group of objects as key-value pairs.\n",
    "\n",
    "* Keys must be unique; values can be duplicated.\n",
    "* Heterogeneous types are allowed for both keys and values.\n",
    "* Insertion order is preserved (since Python 3.7).\n",
    "* Mutable: You can add, update, or delete items.\n",
    "* Indexing and slicing are not supported.\n",
    "* Keys must be immutable.\n",
    "\n",
    "### Create an empty Dictionary\n",
    "\n",
    "```py\n",
    "d = {} \n",
    "d = dict()\n",
    "```"
   ]
  },
  {
   "cell_type": "code",
   "execution_count": 1,
   "metadata": {},
   "outputs": [
    {
     "data": {
      "text/plain": [
       "{100: 'Shiva', 'A': 300, 'Ravi': 200, 'B': 400}"
      ]
     },
     "execution_count": 1,
     "metadata": {},
     "output_type": "execute_result"
    }
   ],
   "source": [
    "dictionaries = {\n",
    "    100: \"Durga\",\n",
    "    \"A\": 300,\n",
    "    \"Ravi\": 200,\n",
    "    \"B\": 400,\n",
    "    100: \"Shiva\",\n",
    "}\n",
    "dictionaries"
   ]
  },
  {
   "cell_type": "code",
   "execution_count": 2,
   "metadata": {},
   "outputs": [
    {
     "data": {
      "text/plain": [
       "{100: 'A', 200: 'B', 300: 'C', 400: 'D'}"
      ]
     },
     "execution_count": 2,
     "metadata": {},
     "output_type": "execute_result"
    }
   ],
   "source": [
    "list_of_tuples = [\n",
    "    (100, \"A\"),\n",
    "    (200, \"B\"),\n",
    "    (300, \"C\"),\n",
    "    (400, \"D\")\n",
    "]\n",
    "dict(list_of_tuples)"
   ]
  },
  {
   "cell_type": "code",
   "execution_count": 3,
   "metadata": {},
   "outputs": [
    {
     "data": {
      "text/plain": [
       "{300: 'C', 400: 'D', 100: 'A', 200: 'B'}"
      ]
     },
     "execution_count": 3,
     "metadata": {},
     "output_type": "execute_result"
    }
   ],
   "source": [
    "set_of_tuples = {\n",
    "    (100, \"A\"),\n",
    "    (200, \"B\"),\n",
    "    (300, \"C\"),\n",
    "    (400, \"D\")\n",
    "}\n",
    "dict(set_of_tuples)"
   ]
  },
  {
   "cell_type": "code",
   "execution_count": 4,
   "metadata": {},
   "outputs": [
    {
     "ename": "TypeError",
     "evalue": "unhashable type: 'list'",
     "output_type": "error",
     "traceback": [
      "\u001b[31m---------------------------------------------------------------------------\u001b[39m",
      "\u001b[31mTypeError\u001b[39m                                 Traceback (most recent call last)",
      "\u001b[36mCell\u001b[39m\u001b[36m \u001b[39m\u001b[32mIn[4]\u001b[39m\u001b[32m, line 2\u001b[39m\n\u001b[32m      1\u001b[39m \u001b[38;5;66;03m# list is unhashable, only hashable values are allowed in set\u001b[39;00m\n\u001b[32m----> \u001b[39m\u001b[32m2\u001b[39m set_of_lists = {\n\u001b[32m      3\u001b[39m     [\u001b[32m100\u001b[39m, \u001b[33m\"\u001b[39m\u001b[33mA\u001b[39m\u001b[33m\"\u001b[39m],\n\u001b[32m      4\u001b[39m     [\u001b[32m200\u001b[39m, \u001b[33m\"\u001b[39m\u001b[33mB\u001b[39m\u001b[33m\"\u001b[39m],\n\u001b[32m      5\u001b[39m     [\u001b[32m300\u001b[39m, \u001b[33m\"\u001b[39m\u001b[33mC\u001b[39m\u001b[33m\"\u001b[39m],\n\u001b[32m      6\u001b[39m     [\u001b[32m400\u001b[39m, \u001b[33m\"\u001b[39m\u001b[33mD\u001b[39m\u001b[33m\"\u001b[39m]\n\u001b[32m      7\u001b[39m }\n\u001b[32m      8\u001b[39m \u001b[38;5;28mdict\u001b[39m(set_of_lists)\n",
      "\u001b[31mTypeError\u001b[39m: unhashable type: 'list'"
     ]
    }
   ],
   "source": [
    "# list is unhashable, only hashable values are allowed in set\n",
    "set_of_lists = {\n",
    "    [100, \"A\"],\n",
    "    [200, \"B\"],\n",
    "    [300, \"C\"],\n",
    "    [400, \"D\"]\n",
    "}\n",
    "dict(set_of_lists)"
   ]
  },
  {
   "cell_type": "code",
   "execution_count": 5,
   "metadata": {},
   "outputs": [
    {
     "data": {
      "text/plain": [
       "{'C': 300, 'D': 400, 'A': 100, 'B': 200}"
      ]
     },
     "execution_count": 5,
     "metadata": {},
     "output_type": "execute_result"
    }
   ],
   "source": [
    "set_of_tuples = {\n",
    "    (100, \"A\"),\n",
    "    (200, \"B\"),\n",
    "    (300, \"C\"),\n",
    "    (400, \"D\")\n",
    "}\n",
    "dict(map(reversed, set_of_tuples))"
   ]
  },
  {
   "cell_type": "markdown",
   "metadata": {},
   "source": [
    "### Access data from Dictionary"
   ]
  },
  {
   "cell_type": "code",
   "execution_count": 6,
   "metadata": {},
   "outputs": [
    {
     "data": {
      "text/plain": [
       "{100: 'Durga',\n",
       " 101: 'Ravi',\n",
       " 102: 'Shiva',\n",
       " 103: 'Anil',\n",
       " 104: 'Sunil',\n",
       " 105: 'Radha',\n",
       " 106: 'Kiran',\n",
       " 107: 'Geeta',\n",
       " 108: 'Meena',\n",
       " 109: 'Raj'}"
      ]
     },
     "execution_count": 6,
     "metadata": {},
     "output_type": "execute_result"
    }
   ],
   "source": [
    "dictionaries = {\n",
    "    100: \"Durga\",\n",
    "    101: \"Ravi\",\n",
    "    102: \"Shiva\",\n",
    "    103: \"Anil\",\n",
    "    104: \"Sunil\",\n",
    "    105: \"Radha\",\n",
    "    106: \"Kiran\",\n",
    "    107: \"Geeta\",\n",
    "    108: \"Meena\",\n",
    "    109: \"Raj\",\n",
    "}\n",
    "dictionaries"
   ]
  },
  {
   "cell_type": "code",
   "execution_count": 7,
   "metadata": {},
   "outputs": [
    {
     "data": {
      "text/plain": [
       "'Radha'"
      ]
     },
     "execution_count": 7,
     "metadata": {},
     "output_type": "execute_result"
    }
   ],
   "source": [
    "# retrieve data\n",
    "dictionaries[105]"
   ]
  },
  {
   "cell_type": "code",
   "execution_count": 8,
   "metadata": {},
   "outputs": [
    {
     "ename": "KeyError",
     "evalue": "110",
     "output_type": "error",
     "traceback": [
      "\u001b[31m---------------------------------------------------------------------------\u001b[39m",
      "\u001b[31mKeyError\u001b[39m                                  Traceback (most recent call last)",
      "\u001b[36mCell\u001b[39m\u001b[36m \u001b[39m\u001b[32mIn[8]\u001b[39m\u001b[32m, line 1\u001b[39m\n\u001b[32m----> \u001b[39m\u001b[32m1\u001b[39m \u001b[43mdictionaries\u001b[49m\u001b[43m[\u001b[49m\u001b[32;43m110\u001b[39;49m\u001b[43m]\u001b[49m\n",
      "\u001b[31mKeyError\u001b[39m: 110"
     ]
    }
   ],
   "source": [
    "dictionaries[110]"
   ]
  },
  {
   "cell_type": "code",
   "execution_count": 9,
   "metadata": {},
   "outputs": [
    {
     "data": {
      "text/plain": [
       "'Not Available'"
      ]
     },
     "execution_count": 9,
     "metadata": {},
     "output_type": "execute_result"
    }
   ],
   "source": [
    "dictionaries.get(110, \"Not Available\")"
   ]
  },
  {
   "cell_type": "code",
   "execution_count": 10,
   "metadata": {},
   "outputs": [
    {
     "data": {
      "text/plain": [
       "{100: 'Durga',\n",
       " 101: 'Ravi',\n",
       " 102: 'Shiva',\n",
       " 103: 'Anil',\n",
       " 104: 'Sunil',\n",
       " 105: 'Radha',\n",
       " 106: 'Kiran',\n",
       " 107: 'Geeta',\n",
       " 108: 'Meena',\n",
       " 109: 'Raj',\n",
       " 110: 'John'}"
      ]
     },
     "execution_count": 10,
     "metadata": {},
     "output_type": "execute_result"
    }
   ],
   "source": [
    "dictionaries[110] = \"John\"\n",
    "dictionaries"
   ]
  },
  {
   "cell_type": "code",
   "execution_count": 11,
   "metadata": {},
   "outputs": [
    {
     "data": {
      "text/plain": [
       "{101: 'Ravi',\n",
       " 102: 'Shiva',\n",
       " 103: 'Anil',\n",
       " 104: 'Sunil',\n",
       " 105: 'Radha',\n",
       " 106: 'Kiran',\n",
       " 107: 'Geeta',\n",
       " 108: 'Meena',\n",
       " 109: 'Raj'}"
      ]
     },
     "execution_count": 11,
     "metadata": {},
     "output_type": "execute_result"
    }
   ],
   "source": [
    "del dictionaries[100], dictionaries[110]\n",
    "dictionaries"
   ]
  },
  {
   "cell_type": "markdown",
   "metadata": {},
   "source": [
    "### Operators in Dictionary\n",
    "\n",
    "#### Membership Operators\n",
    "\n",
    "Check if a **key** exists in the dictionary:\n",
    "\n",
    "```py\n",
    "d = {'a': 1, 'b': 2}\n",
    "\n",
    "'a' in d # True\n",
    "'z' not in d # True\n",
    "```\n",
    "\n",
    "#### Comparison Operators\n",
    "\n",
    "* `==` and `!=` are supported\n",
    "* `<`, `>`, `<=`, `>=` → ❌\n",
    "\n",
    "```py\n",
    "d1 = {'a': 1, 'b': 2}\n",
    "d2 = {'b': 2, 'a': 1}\n",
    "\n",
    "d1 == d2 # True\n",
    "d1 != d2 # False\n",
    "```\n",
    "\n",
    "#### Assignment & Update Operators\n",
    "\n",
    "```py\n",
    "d = {'x': 1}\n",
    "\n",
    "d['y'] = 2  \n",
    "d['x'] += 1 # {\"x\": 2, \"y\": 2}\n",
    "del d['y']\n",
    "```\n",
    "\n",
    "#### Union Operators\n",
    "\n",
    "* `|` → Merge two dictionaries\n",
    "* `|=` → Update current dictionary (in place) with another\n",
    "\n",
    "```py\n",
    "d1 = {'a': 1, 'b': 2}\n",
    "d2 = {'b': 3, 'c': 4}\n",
    "\n",
    "d1 | d2 \n",
    "d1 |= d2\n",
    "```\n",
    "\n",
    "#### Identity Operators\n",
    "\n",
    "```py\n",
    "a = {'x': 1}\n",
    "b = a\n",
    "\n",
    "a is b\n",
    "a is not b\n",
    "```\n",
    "\n",
    "#### Logical Operators\n",
    "\n",
    "```py\n",
    "d = {} # bool(d) → False\n",
    "result = d or {'default': 1}\n",
    "print(result) # {\"default\": 1}\n",
    "```"
   ]
  },
  {
   "cell_type": "code",
   "execution_count": 12,
   "metadata": {},
   "outputs": [
    {
     "ename": "TypeError",
     "evalue": "unsupported operand type(s) for +: 'dict' and 'dict'",
     "output_type": "error",
     "traceback": [
      "\u001b[31m---------------------------------------------------------------------------\u001b[39m",
      "\u001b[31mTypeError\u001b[39m                                 Traceback (most recent call last)",
      "\u001b[36mCell\u001b[39m\u001b[36m \u001b[39m\u001b[32mIn[12]\u001b[39m\u001b[32m, line 11\u001b[39m\n\u001b[32m      1\u001b[39m d1 = {\n\u001b[32m      2\u001b[39m     \u001b[32m100\u001b[39m: \u001b[33m\"\u001b[39m\u001b[33mA\u001b[39m\u001b[33m\"\u001b[39m,\n\u001b[32m      3\u001b[39m     \u001b[32m200\u001b[39m: \u001b[33m\"\u001b[39m\u001b[33mB\u001b[39m\u001b[33m\"\u001b[39m,\n\u001b[32m      4\u001b[39m }\n\u001b[32m      6\u001b[39m d2 = {\n\u001b[32m      7\u001b[39m     \u001b[32m300\u001b[39m: \u001b[33m\"\u001b[39m\u001b[33mC\u001b[39m\u001b[33m\"\u001b[39m,\n\u001b[32m      8\u001b[39m     \u001b[32m400\u001b[39m: \u001b[33m\"\u001b[39m\u001b[33mD\u001b[39m\u001b[33m\"\u001b[39m,\n\u001b[32m      9\u001b[39m }\n\u001b[32m---> \u001b[39m\u001b[32m11\u001b[39m \u001b[43md1\u001b[49m\u001b[43m \u001b[49m\u001b[43m+\u001b[49m\u001b[43m \u001b[49m\u001b[43md2\u001b[49m \n",
      "\u001b[31mTypeError\u001b[39m: unsupported operand type(s) for +: 'dict' and 'dict'"
     ]
    }
   ],
   "source": [
    "d1 = {\n",
    "    100: \"A\",\n",
    "    200: \"B\",\n",
    "}\n",
    "\n",
    "d2 = {\n",
    "    300: \"C\",\n",
    "    400: \"D\",\n",
    "}\n",
    "\n",
    "d1 + d2 "
   ]
  },
  {
   "cell_type": "code",
   "execution_count": 13,
   "metadata": {},
   "outputs": [
    {
     "ename": "TypeError",
     "evalue": "unsupported operand type(s) for *: 'dict' and 'int'",
     "output_type": "error",
     "traceback": [
      "\u001b[31m---------------------------------------------------------------------------\u001b[39m",
      "\u001b[31mTypeError\u001b[39m                                 Traceback (most recent call last)",
      "\u001b[36mCell\u001b[39m\u001b[36m \u001b[39m\u001b[32mIn[13]\u001b[39m\u001b[32m, line 1\u001b[39m\n\u001b[32m----> \u001b[39m\u001b[32m1\u001b[39m \u001b[43md1\u001b[49m\u001b[43m \u001b[49m\u001b[43m*\u001b[49m\u001b[43m \u001b[49m\u001b[32;43m3\u001b[39;49m\n",
      "\u001b[31mTypeError\u001b[39m: unsupported operand type(s) for *: 'dict' and 'int'"
     ]
    }
   ],
   "source": [
    "d1 * 3"
   ]
  },
  {
   "cell_type": "code",
   "execution_count": 14,
   "metadata": {},
   "outputs": [
    {
     "data": {
      "text/plain": [
       "{100: 'A', 200: 'B', 300: 'C', 400: 'D'}"
      ]
     },
     "execution_count": 14,
     "metadata": {},
     "output_type": "execute_result"
    }
   ],
   "source": [
    "d1 | d2"
   ]
  },
  {
   "cell_type": "code",
   "execution_count": 15,
   "metadata": {},
   "outputs": [
    {
     "data": {
      "text/plain": [
       "{100: 'A', 200: 'B', 300: 'C', 400: 'D'}"
      ]
     },
     "execution_count": 15,
     "metadata": {},
     "output_type": "execute_result"
    }
   ],
   "source": [
    "d1 |= d2\n",
    "d1"
   ]
  },
  {
   "cell_type": "code",
   "execution_count": 16,
   "metadata": {},
   "outputs": [
    {
     "data": {
      "text/plain": [
       "{300: 'C', 400: 'D'}"
      ]
     },
     "execution_count": 16,
     "metadata": {},
     "output_type": "execute_result"
    }
   ],
   "source": [
    "d2"
   ]
  },
  {
   "cell_type": "code",
   "execution_count": 17,
   "metadata": {},
   "outputs": [
    {
     "data": {
      "text/plain": [
       "False"
      ]
     },
     "execution_count": 17,
     "metadata": {},
     "output_type": "execute_result"
    }
   ],
   "source": [
    "d1 == d2"
   ]
  },
  {
   "cell_type": "code",
   "execution_count": 18,
   "metadata": {},
   "outputs": [
    {
     "data": {
      "text/plain": [
       "{100: 'AA', 200: 'B', 300: 'C', 400: 'D'}"
      ]
     },
     "execution_count": 18,
     "metadata": {},
     "output_type": "execute_result"
    }
   ],
   "source": [
    "d1[100] += \"A\"\n",
    "d1"
   ]
  },
  {
   "cell_type": "code",
   "execution_count": 19,
   "metadata": {},
   "outputs": [
    {
     "data": {
      "text/plain": [
       "True"
      ]
     },
     "execution_count": 19,
     "metadata": {},
     "output_type": "execute_result"
    }
   ],
   "source": [
    "d3 = { 400: \"D\", 300: \"C\" }\n",
    "d3 == d2"
   ]
  },
  {
   "cell_type": "code",
   "execution_count": 20,
   "metadata": {},
   "outputs": [
    {
     "data": {
      "text/plain": [
       "True"
      ]
     },
     "execution_count": 20,
     "metadata": {},
     "output_type": "execute_result"
    }
   ],
   "source": [
    "\"AA\" in d1.values()"
   ]
  },
  {
   "cell_type": "markdown",
   "metadata": {},
   "source": [
    "### Important Methods\n",
    "\n",
    "| Method                     | Description                                      | Avg Time | Example                                  |\n",
    "|----------------------------|--------------------------------------------------|----------|------------------------------------------|\n",
    "| `d[key]`                   | Get value by key                                 | O(1)     | `d['a'] → 1`                             |\n",
    "| `d[key] = value`           | Insert or update a key                           | O(1)     | `d['c'] = 3`                             |\n",
    "| `del d[key]`               | Delete a key                                     | O(1)     | `del d['a']`                             |\n",
    "| `key in d`                 | Check key presence                               | O(1)     | `'a' in d → True`                        |\n",
    "| `len(d)`                   | Number of key-value pairs                        | O(1)     | `len(d) → 2`                             |\n",
    "| `d.get(key, default)`      | Safe access with fallback                        | O(1)     | `d.get('z', 0) → 0`                      |\n",
    "| `d.pop(key, default)`      | Remove key and return value                      | O(1)     | `d.pop('b') → 2`                         |\n",
    "| `d.popitem()`              | Remove and return last item (key, value)         | O(1)     | `d.popitem() → ('c', 3)`                 |\n",
    "| `d.clear()`                | Remove all items                                 | O(1)     | `d.clear()`                              |\n",
    "| `d.copy()`                 | Shallow copy of dictionary                       | O(n)     | `d2 = d.copy()`                          |\n",
    "| `d.update(other)`          | Merge another dict or iterable                   | O(len)   | `d.update({'x': 5})`                     |\n",
    "| `d.setdefault(key, val)`   | Set default if key missing                       | O(1)     | `d.setdefault('y', 10)`                  |\n",
    "| `d.items()`                | View of all key-value pairs                      | O(1)     | `for k, v in d.items()`                  |\n",
    "| `d.keys()`                 | View of all keys                                 | O(1)     | `list(d.keys())`                         |\n",
    "| `d.values()`               | View of all values                               | O(1)     | `list(d.values())`                       |\n",
    "| `dict.fromkeys(seq, val)`  | Create dict with keys from sequence              | O(n)     | `dict.fromkeys(['a', 'b'], 0)`           |"
   ]
  },
  {
   "cell_type": "code",
   "execution_count": 21,
   "metadata": {},
   "outputs": [
    {
     "data": {
      "text/plain": [
       "4"
      ]
     },
     "execution_count": 21,
     "metadata": {},
     "output_type": "execute_result"
    }
   ],
   "source": [
    "# number of items\n",
    "len(d1)"
   ]
  },
  {
   "cell_type": "code",
   "execution_count": 22,
   "metadata": {},
   "outputs": [
    {
     "data": {
      "text/plain": [
       "{400: 'D', 300: 'C', 200: 'B', 100: 'AA'}"
      ]
     },
     "execution_count": 22,
     "metadata": {},
     "output_type": "execute_result"
    }
   ],
   "source": [
    "dict(reversed(d1.items()))"
   ]
  },
  {
   "cell_type": "code",
   "execution_count": 23,
   "metadata": {},
   "outputs": [
    {
     "data": {
      "text/plain": [
       "{200: 'B', 300: 'C', 400: 'D', 100: 'AA'}"
      ]
     },
     "execution_count": 23,
     "metadata": {},
     "output_type": "execute_result"
    }
   ],
   "source": [
    "dict(sorted(d1.items(), key=lambda item: len(item[1]), reverse=False))"
   ]
  },
  {
   "cell_type": "code",
   "execution_count": 24,
   "metadata": {},
   "outputs": [
    {
     "data": {
      "text/plain": [
       "{100: 'AA', 200: 'B', 300: 'C', 400: 'D', 900: 'E', 800: 'D'}"
      ]
     },
     "execution_count": 24,
     "metadata": {},
     "output_type": "execute_result"
    }
   ],
   "source": [
    "d1.update([(900, \"E\"), (800, \"D\")])\n",
    "d1"
   ]
  },
  {
   "cell_type": "code",
   "execution_count": 25,
   "metadata": {},
   "outputs": [
    {
     "data": {
      "text/plain": [
       "{900: 'X', 800: 'R', 400: 'D', 300: 'C', 200: 'B', 100: 'AA'}"
      ]
     },
     "execution_count": 25,
     "metadata": {},
     "output_type": "execute_result"
    }
   ],
   "source": [
    "d1 |= [(900, \"X\"), (800, \"R\")]\n",
    "dict(sorted(d1.items(), reverse=True))"
   ]
  },
  {
   "cell_type": "code",
   "execution_count": 26,
   "metadata": {},
   "outputs": [
    {
     "data": {
      "text/plain": [
       "dict_keys([100, 200, 300, 400, 900, 800])"
      ]
     },
     "execution_count": 26,
     "metadata": {},
     "output_type": "execute_result"
    }
   ],
   "source": [
    "d1.keys()"
   ]
  },
  {
   "cell_type": "code",
   "execution_count": 27,
   "metadata": {},
   "outputs": [
    {
     "data": {
      "text/plain": [
       "dict_values(['AA', 'B', 'C', 'D', 'X', 'R'])"
      ]
     },
     "execution_count": 27,
     "metadata": {},
     "output_type": "execute_result"
    }
   ],
   "source": [
    "d1.values()"
   ]
  },
  {
   "cell_type": "code",
   "execution_count": 28,
   "metadata": {},
   "outputs": [
    {
     "data": {
      "text/plain": [
       "dict_items([(100, 'AA'), (200, 'B'), (300, 'C'), (400, 'D'), (900, 'X'), (800, 'R')])"
      ]
     },
     "execution_count": 28,
     "metadata": {},
     "output_type": "execute_result"
    }
   ],
   "source": [
    "d1.items()"
   ]
  },
  {
   "cell_type": "code",
   "execution_count": 29,
   "metadata": {},
   "outputs": [
    {
     "data": {
      "text/plain": [
       "{'a': 0, 'b': 0}"
      ]
     },
     "execution_count": 29,
     "metadata": {},
     "output_type": "execute_result"
    }
   ],
   "source": [
    "dict.fromkeys(('a', 'b'), 0)"
   ]
  },
  {
   "cell_type": "code",
   "execution_count": 30,
   "metadata": {},
   "outputs": [
    {
     "data": {
      "text/plain": [
       "{'vluwi': 10,\n",
       " 'uwuxq': 9,\n",
       " 'sdexw': 49,\n",
       " 'wlrbg': 32,\n",
       " 'fvbor': 85,\n",
       " 'nkxbi': 21,\n",
       " 'kzpfk': 88,\n",
       " 'iaotx': 72,\n",
       " 'hmaif': 38,\n",
       " 'kjgvd': 80,\n",
       " 'siihu': 28,\n",
       " 'vyvgv': 79,\n",
       " 'weqtb': 21,\n",
       " 'htlvd': 36,\n",
       " 'miqpt': 90,\n",
       " 'fvldz': 64,\n",
       " 'ouwqz': 79,\n",
       " 'tftqb': 49,\n",
       " 'bnlhr': 88,\n",
       " 'nvpyf': 20,\n",
       " 'wqjvi': 54,\n",
       " 'crcmd': 40,\n",
       " 'ilyik': 93,\n",
       " 'qonde': 17,\n",
       " 'mfyih': 29}"
      ]
     },
     "execution_count": 30,
     "metadata": {},
     "output_type": "execute_result"
    }
   ],
   "source": [
    "import random\n",
    "import string\n",
    "\n",
    "dictionaries = {}\n",
    "for _ in range(25):\n",
    "    key = ''.join(random.choices(string.ascii_lowercase, k=5))\n",
    "    value = random.randint(1, 100)\n",
    "    dictionaries[key] = value\n",
    "\n",
    "dictionaries"
   ]
  },
  {
   "cell_type": "code",
   "execution_count": 31,
   "metadata": {},
   "outputs": [
    {
     "data": {
      "text/plain": [
       "'Not Found'"
      ]
     },
     "execution_count": 31,
     "metadata": {},
     "output_type": "execute_result"
    }
   ],
   "source": [
    "dictionaries.pop('vfvgk', \"Not Found\")"
   ]
  },
  {
   "cell_type": "code",
   "execution_count": 32,
   "metadata": {},
   "outputs": [
    {
     "data": {
      "text/plain": [
       "('mfyih', 29)"
      ]
     },
     "execution_count": 32,
     "metadata": {},
     "output_type": "execute_result"
    }
   ],
   "source": [
    "dictionaries.popitem() # last item remove and return"
   ]
  },
  {
   "cell_type": "code",
   "execution_count": 33,
   "metadata": {},
   "outputs": [
    {
     "data": {
      "text/plain": [
       "89"
      ]
     },
     "execution_count": 33,
     "metadata": {},
     "output_type": "execute_result"
    }
   ],
   "source": [
    "# if the specified key exists in the dictionary, it returns the associated value without modifying anything.\n",
    "# if the specified key does not exist, it inserts the key with the given default value and returns that default value.\n",
    "dictionaries.setdefault('nfuzl', 89)"
   ]
  },
  {
   "cell_type": "code",
   "execution_count": 34,
   "metadata": {},
   "outputs": [],
   "source": [
    "# if the specified key exists in the dictionary, it updates the key with value.\n",
    "# if the specified key does not exist, it inserts the key with the given value.\n",
    "dictionaries['nfuzl'] = 99"
   ]
  },
  {
   "cell_type": "code",
   "execution_count": 35,
   "metadata": {},
   "outputs": [
    {
     "data": {
      "text/plain": [
       "{'vluwi': 10,\n",
       " 'uwuxq': 9,\n",
       " 'sdexw': 49,\n",
       " 'wlrbg': 32,\n",
       " 'fvbor': 85,\n",
       " 'nkxbi': 21,\n",
       " 'kzpfk': 88,\n",
       " 'iaotx': 72,\n",
       " 'hmaif': 38,\n",
       " 'kjgvd': 80,\n",
       " 'siihu': 28,\n",
       " 'vyvgv': 79,\n",
       " 'weqtb': 21,\n",
       " 'htlvd': 36,\n",
       " 'miqpt': 90,\n",
       " 'fvldz': 64,\n",
       " 'ouwqz': 79,\n",
       " 'tftqb': 49,\n",
       " 'bnlhr': 88,\n",
       " 'nvpyf': 20,\n",
       " 'wqjvi': 54,\n",
       " 'crcmd': 40,\n",
       " 'ilyik': 93,\n",
       " 'qonde': 17,\n",
       " 'nfuzl': 99}"
      ]
     },
     "execution_count": 35,
     "metadata": {},
     "output_type": "execute_result"
    }
   ],
   "source": [
    "dictionaries"
   ]
  },
  {
   "cell_type": "markdown",
   "metadata": {},
   "source": [
    "### Practice\n",
    "\n",
    "#### Write a program to enter name and marks into dictionary and display information on the screen"
   ]
  },
  {
   "cell_type": "code",
   "execution_count": 36,
   "metadata": {},
   "outputs": [
    {
     "name": "stdin",
     "output_type": "stream",
     "text": [
      "Enter the name:  Mosh\n",
      "Enter the mark:  150\n",
      "Do you want to continue? Y/N  N\n"
     ]
    },
    {
     "name": "stdout",
     "output_type": "stream",
     "text": [
      "{'Mosh': 150}\n"
     ]
    }
   ],
   "source": [
    "student_information = {}\n",
    "\n",
    "while True:\n",
    "    name = input(\"Enter the name: \")\n",
    "    mark = int(input(\"Enter the mark: \"))\n",
    "\n",
    "    student_information[name] = mark\n",
    "\n",
    "    value = input(\"Do you want to continue? Y/N \")\n",
    "    if value.lower() == \"n\":\n",
    "        break\n",
    "\n",
    "print(student_information)"
   ]
  },
  {
   "cell_type": "markdown",
   "metadata": {},
   "source": [
    "#### Write a program to get key from dict for the given value?"
   ]
  },
  {
   "cell_type": "code",
   "execution_count": 37,
   "metadata": {},
   "outputs": [
    {
     "data": {
      "text/plain": [
       "{'brgki': 23,\n",
       " 'ghpzt': 85,\n",
       " 'ddkei': 65,\n",
       " 'fizhj': 10,\n",
       " 'qwpfk': 12,\n",
       " 'fqpto': 11,\n",
       " 'stprp': 9,\n",
       " 'hlcvn': 45,\n",
       " 'idsxx': 66,\n",
       " 'jbzoy': 60,\n",
       " 'ioumc': 57,\n",
       " 'duogj': 92,\n",
       " 'mqhlk': 36,\n",
       " 'hweqn': 17,\n",
       " 'ezqhp': 20}"
      ]
     },
     "execution_count": 37,
     "metadata": {},
     "output_type": "execute_result"
    }
   ],
   "source": [
    "import random\n",
    "import string\n",
    "\n",
    "dictionaries = {}\n",
    "for _ in range(15):\n",
    "    key = ''.join(random.choices(string.ascii_lowercase, k=5))\n",
    "    value = random.randint(1, 100)\n",
    "    dictionaries[key] = value\n",
    "\n",
    "dictionaries"
   ]
  },
  {
   "cell_type": "code",
   "execution_count": 38,
   "metadata": {},
   "outputs": [
    {
     "name": "stdin",
     "output_type": "stream",
     "text": [
      "Enter a value:  36\n"
     ]
    },
    {
     "name": "stdout",
     "output_type": "stream",
     "text": [
      "mqhlk\n"
     ]
    }
   ],
   "source": [
    "value = int(input(\"Enter a value: \"))\n",
    "\n",
    "for k, v in dictionaries.items():\n",
    "    if v == value:\n",
    "        print(k)\n",
    "        break\n",
    "else:\n",
    "    print(\"Not found\")"
   ]
  },
  {
   "cell_type": "markdown",
   "metadata": {},
   "source": [
    "#### Write a program to get value from dict for the given key?"
   ]
  },
  {
   "cell_type": "code",
   "execution_count": 39,
   "metadata": {},
   "outputs": [
    {
     "name": "stdin",
     "output_type": "stream",
     "text": [
      "Enter a key:  ezqhp\n"
     ]
    },
    {
     "data": {
      "text/plain": [
       "20"
      ]
     },
     "execution_count": 39,
     "metadata": {},
     "output_type": "execute_result"
    }
   ],
   "source": [
    "key = input(\"Enter a key: \")\n",
    "dictionaries.get(key, \"Not found\")"
   ]
  },
  {
   "cell_type": "markdown",
   "metadata": {},
   "source": [
    "#### Write a program to take dictionary items from the keyboard and print the sum of the values."
   ]
  },
  {
   "cell_type": "code",
   "execution_count": 40,
   "metadata": {},
   "outputs": [
    {
     "name": "stdin",
     "output_type": "stream",
     "text": [
      "Keys:  A B C\n",
      "Values:  10 20 30\n"
     ]
    },
    {
     "name": "stdout",
     "output_type": "stream",
     "text": [
      "60\n"
     ]
    }
   ],
   "source": [
    "keys = input(\"Keys: \").split()\n",
    "values = list(map(int, input(\"Values: \").split()))\n",
    "dictionary = dict(zip(keys, values))\n",
    "\n",
    "print(sum(dictionary.values()))"
   ]
  },
  {
   "cell_type": "markdown",
   "metadata": {},
   "source": [
    "#### Program to find the number of occurrences of each letter in the given string."
   ]
  },
  {
   "cell_type": "code",
   "execution_count": 41,
   "metadata": {},
   "outputs": [
    {
     "data": {
      "text/plain": [
       "{'d': 1,\n",
       " 'Y': 1,\n",
       " 'x': 1,\n",
       " 'V': 1,\n",
       " 'j': 1,\n",
       " 'K': 1,\n",
       " 'z': 1,\n",
       " 'A': 2,\n",
       " 'L': 1,\n",
       " 's': 1,\n",
       " 'e': 1,\n",
       " 'T': 1,\n",
       " 'p': 1,\n",
       " 'Q': 1,\n",
       " 'w': 1,\n",
       " 'M': 1,\n",
       " 'n': 1,\n",
       " 'B': 1,\n",
       " 'v': 1}"
      ]
     },
     "execution_count": 41,
     "metadata": {},
     "output_type": "execute_result"
    }
   ],
   "source": [
    "string = \"dYxVjKzALsAeTpQwMnBv\"\n",
    "dictionary = {}\n",
    "\n",
    "def number_of_occurrences(string):\n",
    "    dictionary.clear()\n",
    "    \n",
    "    for char in string:\n",
    "        if char in dictionary.keys():\n",
    "            dictionary[char] += 1\n",
    "        else:\n",
    "            dictionary[char] = 1\n",
    "    return dictionary\n",
    "    \n",
    "number_of_occurrences(string)"
   ]
  },
  {
   "cell_type": "code",
   "execution_count": 42,
   "metadata": {},
   "outputs": [
    {
     "data": {
      "text/plain": [
       "{'A': 3, 'B': 2, 'C': 1}"
      ]
     },
     "execution_count": 42,
     "metadata": {},
     "output_type": "execute_result"
    }
   ],
   "source": [
    "number_of_occurrences('AAABBC')"
   ]
  },
  {
   "cell_type": "code",
   "execution_count": 43,
   "metadata": {},
   "outputs": [
    {
     "name": "stdout",
     "output_type": "stream",
     "text": [
      "{'A': 3, 'B': 2, 'C': 1}\n"
     ]
    }
   ],
   "source": [
    "# one liner\n",
    "string = \"AAABBC\"\n",
    "dictionary = {}\n",
    "\n",
    "for char in string:\n",
    "    dictionary[char] = dictionary.get(char, 0) + 1\n",
    "\n",
    "print(dictionary)"
   ]
  },
  {
   "cell_type": "markdown",
   "metadata": {},
   "source": [
    "#### Program to find the number of occurrences of each vowel in the given string."
   ]
  },
  {
   "cell_type": "code",
   "execution_count": 44,
   "metadata": {},
   "outputs": [
    {
     "name": "stdout",
     "output_type": "stream",
     "text": [
      "{'a': 2, 'e': 1}\n"
     ]
    }
   ],
   "source": [
    "string = \"dYxVjKzALsAeTpQwMnBv\"\n",
    "dictionary = {}\n",
    "\n",
    "for char in string:\n",
    "    char = char.lower()\n",
    "    \n",
    "    if char in 'aeiou':\n",
    "        dictionary[char] = dictionary.get(char, 0) + 1\n",
    "\n",
    "print(dictionary)"
   ]
  },
  {
   "cell_type": "markdown",
   "metadata": {},
   "source": [
    "## Dict Comprehension"
   ]
  },
  {
   "cell_type": "code",
   "execution_count": 45,
   "metadata": {},
   "outputs": [
    {
     "data": {
      "text/plain": [
       "{'gncmo': 58,\n",
       " 'sfdnq': 2,\n",
       " 'yarwd': 47,\n",
       " 'lvfvg': 50,\n",
       " 'csjfd': 60,\n",
       " 'nzjmx': 10,\n",
       " 'agcgy': 28,\n",
       " 'dmurf': 72,\n",
       " 'flifa': 84,\n",
       " 'ecbtt': 64,\n",
       " 'qkuyn': 43,\n",
       " 'ertbv': 60,\n",
       " 'dfxhj': 38,\n",
       " 'yelzh': 32,\n",
       " 'pbnku': 51}"
      ]
     },
     "execution_count": 45,
     "metadata": {},
     "output_type": "execute_result"
    }
   ],
   "source": [
    "import random\n",
    "import string\n",
    "\n",
    "dictionaries = {}\n",
    "for _ in range(15):\n",
    "    key = ''.join(random.choices(string.ascii_lowercase, k=5))\n",
    "    value = random.randint(1, 100)\n",
    "    dictionaries[key] = value\n",
    "\n",
    "dictionaries\n",
    "\n",
    "{key: value for key, value in dictionaries.items()}"
   ]
  },
  {
   "cell_type": "code",
   "execution_count": 46,
   "metadata": {},
   "outputs": [
    {
     "data": {
      "text/plain": [
       "{2: 1.4142135623730951,\n",
       " 3: 1.7320508075688772,\n",
       " 4: 2.0,\n",
       " 5: 2.23606797749979,\n",
       " 6: 2.449489742783178,\n",
       " 7: 2.6457513110645907,\n",
       " 8: 2.8284271247461903,\n",
       " 9: 3.0,\n",
       " 10: 3.1622776601683795}"
      ]
     },
     "execution_count": 46,
     "metadata": {},
     "output_type": "execute_result"
    }
   ],
   "source": [
    "{x: x**0.5 for x in range(2, 11)}"
   ]
  },
  {
   "cell_type": "markdown",
   "metadata": {},
   "source": [
    "## Merging of Collection"
   ]
  },
  {
   "cell_type": "code",
   "execution_count": 47,
   "metadata": {},
   "outputs": [
    {
     "data": {
      "text/plain": [
       "[10, 20, 30, 40]"
      ]
     },
     "execution_count": 47,
     "metadata": {},
     "output_type": "execute_result"
    }
   ],
   "source": [
    "# list merging\n",
    "l1 = [10, 20]\n",
    "l2 = [30, 40]\n",
    "l1 + l2"
   ]
  },
  {
   "cell_type": "code",
   "execution_count": 48,
   "metadata": {},
   "outputs": [
    {
     "data": {
      "text/plain": [
       "[10, 20, 30, 40]"
      ]
     },
     "execution_count": 48,
     "metadata": {},
     "output_type": "execute_result"
    }
   ],
   "source": [
    "[*l1, *l2]"
   ]
  },
  {
   "cell_type": "code",
   "execution_count": 49,
   "metadata": {},
   "outputs": [
    {
     "data": {
      "text/plain": [
       "{10, 20, 30, 40}"
      ]
     },
     "execution_count": 49,
     "metadata": {},
     "output_type": "execute_result"
    }
   ],
   "source": [
    "# set merging\n",
    "s1 = {10, 20, 30}\n",
    "s2 = {20, 30, 40}\n",
    "s1.union(s2)"
   ]
  },
  {
   "cell_type": "code",
   "execution_count": 50,
   "metadata": {},
   "outputs": [
    {
     "data": {
      "text/plain": [
       "{10, 20, 30, 40}"
      ]
     },
     "execution_count": 50,
     "metadata": {},
     "output_type": "execute_result"
    }
   ],
   "source": [
    "{*s1, *s2}"
   ]
  },
  {
   "cell_type": "code",
   "execution_count": 51,
   "metadata": {},
   "outputs": [
    {
     "data": {
      "text/plain": [
       "(10, 20, 30, 30, 40, 50)"
      ]
     },
     "execution_count": 51,
     "metadata": {},
     "output_type": "execute_result"
    }
   ],
   "source": [
    "# tuple merging\n",
    "t1 = (10, 20, 30)\n",
    "t2 = (30, 40, 50)\n",
    "t1 + t2"
   ]
  },
  {
   "cell_type": "code",
   "execution_count": 52,
   "metadata": {},
   "outputs": [
    {
     "data": {
      "text/plain": [
       "(10, 20, 30, 30, 40, 50)"
      ]
     },
     "execution_count": 52,
     "metadata": {},
     "output_type": "execute_result"
    }
   ],
   "source": [
    "(*t1, *t2)"
   ]
  },
  {
   "cell_type": "code",
   "execution_count": 53,
   "metadata": {},
   "outputs": [
    {
     "data": {
      "text/plain": [
       "{'A': 100, 'B': 200, 'C': 300, 'D': 400}"
      ]
     },
     "execution_count": 53,
     "metadata": {},
     "output_type": "execute_result"
    }
   ],
   "source": [
    "# dict merging\n",
    "d1 = { \"A\": 100, \"B\": 200 }\n",
    "d2 = { \"C\": 300, \"D\": 400 }\n",
    "d1 | d2"
   ]
  },
  {
   "cell_type": "code",
   "execution_count": 54,
   "metadata": {},
   "outputs": [],
   "source": [
    "d1.update(d2) # since 3.9 -> d1 |= d2"
   ]
  },
  {
   "cell_type": "code",
   "execution_count": 55,
   "metadata": {},
   "outputs": [
    {
     "data": {
      "text/plain": [
       "{'A': 100, 'B': 200, 'C': 300, 'D': 400}"
      ]
     },
     "execution_count": 55,
     "metadata": {},
     "output_type": "execute_result"
    }
   ],
   "source": [
    "d1"
   ]
  },
  {
   "cell_type": "code",
   "execution_count": 56,
   "metadata": {},
   "outputs": [
    {
     "data": {
      "text/plain": [
       "{'A': 100, 'B': 200, 'C': 300, 'D': 400}"
      ]
     },
     "execution_count": 56,
     "metadata": {},
     "output_type": "execute_result"
    }
   ],
   "source": [
    "{ **d1, **d2 }"
   ]
  },
  {
   "cell_type": "markdown",
   "metadata": {},
   "source": [
    "## Nested Collection"
   ]
  },
  {
   "cell_type": "code",
   "execution_count": 57,
   "metadata": {},
   "outputs": [
    {
     "data": {
      "text/plain": [
       "20"
      ]
     },
     "execution_count": 57,
     "metadata": {},
     "output_type": "execute_result"
    }
   ],
   "source": [
    "l1 = [\n",
    "    (10, 20, 30),\n",
    "    (40, 50, 60)\n",
    "]\n",
    "\n",
    "l1[0][1]"
   ]
  },
  {
   "cell_type": "code",
   "execution_count": 58,
   "metadata": {},
   "outputs": [
    {
     "name": "stdout",
     "output_type": "stream",
     "text": [
      "10 20 30\n",
      "40 50 60\n"
     ]
    }
   ],
   "source": [
    "for k, v, m in l1:\n",
    "    print(k, v, m)"
   ]
  },
  {
   "cell_type": "code",
   "execution_count": 59,
   "metadata": {},
   "outputs": [
    {
     "data": {
      "text/plain": [
       "60"
      ]
     },
     "execution_count": 59,
     "metadata": {},
     "output_type": "execute_result"
    }
   ],
   "source": [
    "l1[1][2]"
   ]
  },
  {
   "cell_type": "code",
   "execution_count": 60,
   "metadata": {},
   "outputs": [
    {
     "name": "stdout",
     "output_type": "stream",
     "text": [
      "user1:\n",
      "  Name: Alice\n",
      "  Age: 25\n",
      "user2:\n",
      "  Name: Bob\n",
      "  Age: 30\n"
     ]
    }
   ],
   "source": [
    "nested_dict = {\n",
    "    'user1': {'name': 'Alice', 'age': 25},\n",
    "    'user2': {'name': 'Bob', 'age': 30}\n",
    "}\n",
    "\n",
    "for outer_key, inner_dict in nested_dict.items():\n",
    "    print(f\"{outer_key}:\")\n",
    "    for key, value in inner_dict.items():\n",
    "        print(f\"  {key.capitalize()}: {value}\")"
   ]
  },
  {
   "cell_type": "code",
   "execution_count": 61,
   "metadata": {},
   "outputs": [
    {
     "data": {
      "text/plain": [
       "{'stores': {'store_001': {'store_name': 'FreshMart Supermarket',\n",
       "   'location': 'Downtown Plaza',\n",
       "   'departments': {'produce': {'products': {'apple': {'price': 0.5,\n",
       "       'stock': 120},\n",
       "      'banana': {'price': 0.3, 'stock': 150}}},\n",
       "    'dairy': {'products': {'milk': {'price': 1.2, 'stock': 80},\n",
       "      'cheese': {'price': 3.75, 'stock': 45}}}}},\n",
       "  'store_002': {'store_name': 'GreenGrocer Market',\n",
       "   'location': 'Uptown Mall',\n",
       "   'departments': {'bakery': {'products': {'bread': {'price': 1.5,\n",
       "       'stock': 60},\n",
       "      'croissant': {'price': 1.1, 'stock': 50}}},\n",
       "    'meat': {'products': {'chicken': {'price': 5.99, 'stock': 35},\n",
       "      'beef': {'price': 7.49, 'stock': 40}}},\n",
       "    'produce': {'products': {'orange': {'price': 0.6, 'stock': 100},\n",
       "      'grapes': {'price': 2.2, 'stock': 90}}}}}}}"
      ]
     },
     "execution_count": 61,
     "metadata": {},
     "output_type": "execute_result"
    }
   ],
   "source": [
    "supermarket_chain = {\n",
    "    'stores': {\n",
    "        'store_001': {\n",
    "            'store_name': 'FreshMart Supermarket',\n",
    "            'location': 'Downtown Plaza',\n",
    "            'departments': {\n",
    "                'produce': {\n",
    "                    'products': {\n",
    "                        'apple': {'price': 0.50, 'stock': 120},\n",
    "                        'banana': {'price': 0.30, 'stock': 150}\n",
    "                    }\n",
    "                },\n",
    "                'dairy': {\n",
    "                    'products': {\n",
    "                        'milk': {'price': 1.20, 'stock': 80},\n",
    "                        'cheese': {'price': 3.75, 'stock': 45}\n",
    "                    }\n",
    "                }\n",
    "            }\n",
    "        },\n",
    "        'store_002': {\n",
    "            'store_name': 'GreenGrocer Market',\n",
    "            'location': 'Uptown Mall',\n",
    "            'departments': {\n",
    "                'bakery': {\n",
    "                    'products': {\n",
    "                        'bread': {'price': 1.50, 'stock': 60},\n",
    "                        'croissant': {'price': 1.10, 'stock': 50}\n",
    "                    }\n",
    "                },\n",
    "                'meat': {\n",
    "                    'products': {\n",
    "                        'chicken': {'price': 5.99, 'stock': 35},\n",
    "                        'beef': {'price': 7.49, 'stock': 40}\n",
    "                    }\n",
    "                },\n",
    "                'produce': {\n",
    "                    'products': {\n",
    "                        'orange': {'price': 0.60, 'stock': 100},\n",
    "                        'grapes': {'price': 2.20, 'stock': 90}\n",
    "                    }\n",
    "                }\n",
    "            }\n",
    "        }\n",
    "    }\n",
    "}\n",
    "supermarket_chain"
   ]
  },
  {
   "cell_type": "code",
   "execution_count": 62,
   "metadata": {},
   "outputs": [
    {
     "name": "stdout",
     "output_type": "stream",
     "text": [
      "FreshMart Supermarket\n",
      "GreenGrocer Market\n"
     ]
    }
   ],
   "source": [
    "# name of the store\n",
    "for outer_key, inner_dict in supermarket_chain.items():\n",
    "    for inner_key, inner_value in inner_dict.items():\n",
    "        print(inner_value['store_name'])"
   ]
  },
  {
   "cell_type": "code",
   "execution_count": 63,
   "metadata": {},
   "outputs": [
    {
     "name": "stdout",
     "output_type": "stream",
     "text": [
      "FreshMart Supermarket\n",
      "GreenGrocer Market\n"
     ]
    }
   ],
   "source": [
    "for outer_key, inner_dict in supermarket_chain['stores'].items():\n",
    "    print(inner_dict['store_name'])"
   ]
  },
  {
   "cell_type": "markdown",
   "metadata": {},
   "source": [
    "## Dict tips & tricks"
   ]
  },
  {
   "cell_type": "markdown",
   "metadata": {},
   "source": [
    "### Using `get()` to Avoid `KeyError`"
   ]
  },
  {
   "cell_type": "code",
   "execution_count": 64,
   "metadata": {},
   "outputs": [
    {
     "name": "stdout",
     "output_type": "stream",
     "text": [
      "0\n"
     ]
    }
   ],
   "source": [
    "data = {'name': 'Alice'}\n",
    "print(data.get('age', 0))"
   ]
  },
  {
   "cell_type": "markdown",
   "metadata": {},
   "source": [
    "#### Dictionary Comprehension"
   ]
  },
  {
   "cell_type": "code",
   "execution_count": 65,
   "metadata": {},
   "outputs": [
    {
     "name": "stdout",
     "output_type": "stream",
     "text": [
      "{0: 0, 1: 1, 2: 4, 3: 9, 4: 16}\n"
     ]
    }
   ],
   "source": [
    "squares = {x: x**2 for x in range(5)}\n",
    "print(squares)"
   ]
  },
  {
   "cell_type": "markdown",
   "metadata": {},
   "source": [
    "#### Merging Dictionaries"
   ]
  },
  {
   "cell_type": "code",
   "execution_count": 66,
   "metadata": {},
   "outputs": [
    {
     "name": "stdout",
     "output_type": "stream",
     "text": [
      "{'a': 1, 'b': 2}\n"
     ]
    }
   ],
   "source": [
    "d1 = {'a': 1}\n",
    "d2 = {'b': 2}\n",
    "merged = d1 | d2\n",
    "print(merged)"
   ]
  },
  {
   "cell_type": "code",
   "execution_count": 67,
   "metadata": {},
   "outputs": [
    {
     "data": {
      "text/plain": [
       "{'a': 1, 'b': 2}"
      ]
     },
     "execution_count": 67,
     "metadata": {},
     "output_type": "execute_result"
    }
   ],
   "source": [
    "d1 |= d2 # in place\n",
    "\n",
    "d1"
   ]
  },
  {
   "cell_type": "markdown",
   "metadata": {},
   "source": [
    "#### Set Default Values with `setdefault(k, v)`"
   ]
  },
  {
   "cell_type": "code",
   "execution_count": 68,
   "metadata": {},
   "outputs": [
    {
     "name": "stdout",
     "output_type": "stream",
     "text": [
      "{'count': 1}\n"
     ]
    }
   ],
   "source": [
    "d = {}\n",
    "\n",
    "d.setdefault('count', 0)\n",
    "d['count'] += 1\n",
    "print(d)"
   ]
  },
  {
   "cell_type": "markdown",
   "metadata": {},
   "source": [
    "#### Use `collections.defaultdict` for Auto-Initialization"
   ]
  },
  {
   "cell_type": "code",
   "execution_count": 69,
   "metadata": {},
   "outputs": [
    {
     "name": "stdout",
     "output_type": "stream",
     "text": [
      "defaultdict(<class 'int'>, {'apple': 1})\n"
     ]
    }
   ],
   "source": [
    "from collections import defaultdict\n",
    "\n",
    "d = defaultdict(int)\n",
    "d['apple'] += 1\n",
    "print(d)"
   ]
  },
  {
   "cell_type": "markdown",
   "metadata": {},
   "source": [
    "#### Group Items by a Key"
   ]
  },
  {
   "cell_type": "code",
   "execution_count": 70,
   "metadata": {},
   "outputs": [
    {
     "name": "stdout",
     "output_type": "stream",
     "text": [
      "[['eat', 'tea', 'ate'], ['tan', 'nat'], ['bat']]\n"
     ]
    }
   ],
   "source": [
    "from collections import defaultdict\n",
    "\n",
    "words = [\"eat\", \"tea\", \"tan\", \"ate\", \"nat\", \"bat\"]\n",
    "anagrams = defaultdict(list)\n",
    "\n",
    "for word in words:\n",
    "    key = ''.join(sorted(word))\n",
    "    anagrams[key].append(word)\n",
    "\n",
    "print(list(anagrams.values()))"
   ]
  },
  {
   "cell_type": "markdown",
   "metadata": {},
   "source": [
    "#### Use `Counter` to Count Frequencies"
   ]
  },
  {
   "cell_type": "code",
   "execution_count": 71,
   "metadata": {},
   "outputs": [
    {
     "name": "stdout",
     "output_type": "stream",
     "text": [
      "Counter({'a': 5, 'b': 2, 'r': 2, 'c': 1, 'd': 1})\n"
     ]
    }
   ],
   "source": [
    "from collections import Counter\n",
    "\n",
    "chars = \"abracadabra\"\n",
    "count = Counter(chars)\n",
    "print(count)"
   ]
  },
  {
   "cell_type": "markdown",
   "metadata": {},
   "source": [
    "#### Loop Through Keys and Values"
   ]
  },
  {
   "cell_type": "code",
   "execution_count": 72,
   "metadata": {},
   "outputs": [
    {
     "name": "stdout",
     "output_type": "stream",
     "text": [
      "a 1\n",
      "b 2\n"
     ]
    }
   ],
   "source": [
    "d = {'a': 1, 'b': 2}\n",
    "\n",
    "for key, value in d.items():\n",
    "    print(key, value)"
   ]
  },
  {
   "cell_type": "markdown",
   "metadata": {},
   "source": [
    "#### Sort Dictionary by Value"
   ]
  },
  {
   "cell_type": "code",
   "execution_count": 73,
   "metadata": {},
   "outputs": [
    {
     "name": "stdout",
     "output_type": "stream",
     "text": [
      "{'b': 1, 'c': 2, 'a': 3}\n"
     ]
    }
   ],
   "source": [
    "d = {'a': 3, 'b': 1, 'c': 2}\n",
    "\n",
    "# ascending sort\n",
    "sorted_by_value = dict(sorted(d.items(), reverse=False, key=lambda x: x[1]))\n",
    "print(sorted_by_value)"
   ]
  },
  {
   "cell_type": "code",
   "execution_count": 74,
   "metadata": {},
   "outputs": [
    {
     "name": "stdout",
     "output_type": "stream",
     "text": [
      "{'a': 3, 'c': 2, 'b': 1}\n"
     ]
    }
   ],
   "source": [
    "d = {'a': 3, 'b': 1, 'c': 2}\n",
    "\n",
    "# descending sort\n",
    "sorted_by_value = dict(sorted(d.items(), reverse=True, key=lambda x: x[1]))\n",
    "print(sorted_by_value)"
   ]
  },
  {
   "cell_type": "markdown",
   "metadata": {},
   "source": [
    "#### Sort Dictionary by Key"
   ]
  },
  {
   "cell_type": "code",
   "execution_count": 75,
   "metadata": {},
   "outputs": [
    {
     "name": "stdout",
     "output_type": "stream",
     "text": [
      "{'a': 3, 'b': 1, 'c': 2}\n"
     ]
    }
   ],
   "source": [
    "d = {'a': 3, 'b': 1, 'c': 2}\n",
    "\n",
    "# ascending sort\n",
    "sorted_by_value = dict(sorted(d.items(), reverse=False, key=lambda x: x[0]))\n",
    "print(sorted_by_value)"
   ]
  },
  {
   "cell_type": "code",
   "execution_count": 76,
   "metadata": {},
   "outputs": [
    {
     "name": "stdout",
     "output_type": "stream",
     "text": [
      "{'c': 2, 'b': 1, 'a': 3}\n"
     ]
    }
   ],
   "source": [
    "d = {'a': 3, 'b': 1, 'c': 2}\n",
    "\n",
    "# descending sort\n",
    "sorted_by_value = dict(sorted(d.items(), reverse=True, key=lambda x: x[0]))\n",
    "print(sorted_by_value)"
   ]
  },
  {
   "cell_type": "markdown",
   "metadata": {},
   "source": [
    "#### Reverse values to keys"
   ]
  },
  {
   "cell_type": "code",
   "execution_count": 77,
   "metadata": {},
   "outputs": [
    {
     "name": "stdout",
     "output_type": "stream",
     "text": [
      "{1: 'a', 2: 'b'}\n"
     ]
    }
   ],
   "source": [
    "d = {'a': 1, 'b': 2}\n",
    "reversed_d = {v: k for k, v in d.items()}\n",
    "print(reversed_d)"
   ]
  },
  {
   "cell_type": "code",
   "execution_count": 78,
   "metadata": {},
   "outputs": [
    {
     "data": {
      "text/plain": [
       "{'b': 2, 'a': 1}"
      ]
     },
     "execution_count": 78,
     "metadata": {},
     "output_type": "execute_result"
    }
   ],
   "source": [
    "d = {'a': 1, 'b': 2}\n",
    "\n",
    "dict(reversed(d.items()))"
   ]
  },
  {
   "cell_type": "markdown",
   "metadata": {},
   "source": [
    "#### Check Key Existence"
   ]
  },
  {
   "cell_type": "code",
   "execution_count": 79,
   "metadata": {},
   "outputs": [],
   "source": [
    "if 'name' in d:\n",
    "    print(\"Key exists\")"
   ]
  },
  {
   "cell_type": "markdown",
   "metadata": {},
   "source": [
    "#### Use `dict` as a Set with Extra Info"
   ]
  },
  {
   "cell_type": "code",
   "execution_count": 80,
   "metadata": {},
   "outputs": [],
   "source": [
    "seen = {}\n",
    "for i, val in enumerate([10, 20, 30, 40, 50]):\n",
    "    if val not in seen:\n",
    "        seen[val] = i "
   ]
  },
  {
   "cell_type": "code",
   "execution_count": 81,
   "metadata": {},
   "outputs": [
    {
     "data": {
      "text/plain": [
       "{10: 0, 20: 1, 30: 2, 40: 3, 50: 4}"
      ]
     },
     "execution_count": 81,
     "metadata": {},
     "output_type": "execute_result"
    }
   ],
   "source": [
    "seen"
   ]
  }
 ],
 "metadata": {
  "kernelspec": {
   "display_name": "Python 3 (CoCalc)",
   "language": "python",
   "name": "python3"
  },
  "language_info": {
   "codemirror_mode": {
    "name": "ipython",
    "version": 3
   },
   "file_extension": ".py",
   "mimetype": "text/x-python",
   "name": "python",
   "nbconvert_exporter": "python",
   "pygments_lexer": "ipython3",
   "version": "3.12.10"
  }
 },
 "nbformat": 4,
 "nbformat_minor": 4
}
