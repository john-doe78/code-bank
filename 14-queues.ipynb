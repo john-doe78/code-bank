{
 "cells": [
  {
   "cell_type": "markdown",
   "metadata": {
    "collapsed": false,
    "jupyter": {
     "outputs_hidden": false
    }
   },
   "source": [
    "## What is a Queue?\n",
    "\n",
    "Queues are FIFO (First In, First Out) data structures, unlike Stacks, which follow a LIFO (Last In, First Out) approach. In a queue, the first element added is the first one to be removed—similar to people lining up in a queue.\n",
    "\n",
    "## Queue ADT\n",
    "\n",
    "### Data\n",
    "\n",
    "* Space for storing elements\n",
    "* Front: Points to the position from where elements are removed.\n",
    "* Rear: Points to the position where elements are added.\n",
    "\n",
    "### Operations\n",
    "\n",
    "* enqueue: Adds an element to the rear (back) of the queue.\n",
    "* dequeue: Removes an element from the front of the queue.\n",
    "* isFull: Returns `true` if the queue has reached its maximum capacity; otherwise, returns `false`.\n",
    "* isEmpty: Returns `true` if the queue contains no elements; otherwise, returns `false`.\n",
    "\n",
    "### Implementation\n",
    "\n",
    "A queue can be implemented in two main ways:\n",
    "\n",
    "* Using an Array\n",
    "* Using a Linked List\n",
    "\n",
    "### Queue Using an Array\n",
    "\n",
    "#### Queue with a Single Pointer\n",
    "\n",
    "![single-pointer](https://files.catbox.moe/mvvg05.png)\n",
    "\n",
    "In this approach, if you delete the first element, all the remaining elements to the right must be shifted one position to the left. This results in an inefficient $O(n)$ time complexity for dequeue.\n",
    "\n",
    "### Queue with Front and Rear Pointers\n",
    "\n",
    "![front-rear-pointer](https://files.catbox.moe/zafyl2.png)"
   ]
  },
  {
   "cell_type": "code",
   "execution_count": 1,
   "metadata": {},
   "outputs": [],
   "source": [
    "#include <stdio.h>\n",
    "#include <stdlib.h>\n",
    "#include <stdbool.h>\n",
    "\n",
    "struct Queue {\n",
    "    int size;\n",
    "    int front;\n",
    "    int rear;\n",
    "    int *Q;\n",
    "};"
   ]
  },
  {
   "cell_type": "code",
   "execution_count": 2,
   "metadata": {},
   "outputs": [],
   "source": [
    "void create(struct Queue *q, int size) {\n",
    "    q->size = size;\n",
    "    q->front = -1;\n",
    "    q->rear = -1;\n",
    "    q->Q = (int*)malloc(q->size * sizeof(int));\n",
    "}"
   ]
  },
  {
   "cell_type": "code",
   "execution_count": 3,
   "metadata": {},
   "outputs": [],
   "source": [
    "bool isFull(struct Queue *q) {\n",
    "    return q->rear == q->size - 1;\n",
    "}"
   ]
  },
  {
   "cell_type": "code",
   "execution_count": 4,
   "metadata": {},
   "outputs": [],
   "source": [
    "// Time O(1) | Space O(1)\n",
    "void enqueue(struct Queue *q, int value) {\n",
    "    if (isFull(q)) {\n",
    "        printf(\"Overflow: Queue is Full\\n\");\n",
    "        return;\n",
    "    }\n",
    "    \n",
    "    if (q->rear == -1) {\n",
    "        q->front = 0;\n",
    "        q->rear = 0;\n",
    "    } else {\n",
    "        q->rear += 1;\n",
    "    }\n",
    "    q->Q[q->rear] = value;\n",
    "}"
   ]
  },
  {
   "cell_type": "code",
   "execution_count": 5,
   "metadata": {},
   "outputs": [],
   "source": [
    "bool isEmpty(struct Queue *q) {\n",
    "    return q->front == -1 || q->front > q->rear;\n",
    "}"
   ]
  },
  {
   "cell_type": "code",
   "execution_count": 6,
   "metadata": {},
   "outputs": [],
   "source": [
    "// Time O(1) | Space O(1)\n",
    "int dequeue(struct Queue *q) {\n",
    "    int x = -1;\n",
    "    if (isEmpty(q)) {\n",
    "        printf(\"Underflow: Queue is empty\\n\");\n",
    "    } else {\n",
    "        x = q->Q[q->front];\n",
    "        q->front += 1;\n",
    "    }\n",
    "    return x;\n",
    "}"
   ]
  },
  {
   "cell_type": "code",
   "execution_count": 7,
   "metadata": {},
   "outputs": [],
   "source": [
    "void display(struct Queue q) {\n",
    "    if (isEmpty(&q)) {\n",
    "        printf(\"Queue is empty\\n\");\n",
    "        return;\n",
    "    }\n",
    "    \n",
    "    for (int i = q.front; i <= q.rear; i++) {\n",
    "        printf(\"%d \", q.Q[i]);\n",
    "    }\n",
    "    printf(\"\\n\");\n",
    "}"
   ]
  },
  {
   "cell_type": "code",
   "execution_count": 8,
   "metadata": {},
   "outputs": [
    {
     "name": "stdout",
     "output_type": "stream",
     "text": [
      "10 15 20 30 40 \n"
     ]
    }
   ],
   "source": [
    "struct Queue q;\n",
    "create(&q, 5); \n",
    "enqueue(&q, 10);\n",
    "enqueue(&q, 15);\n",
    "enqueue(&q, 20);\n",
    "enqueue(&q, 30);\n",
    "enqueue(&q, 40);\n",
    "display(q);"
   ]
  },
  {
   "cell_type": "code",
   "execution_count": 9,
   "metadata": {},
   "outputs": [
    {
     "name": "stdout",
     "output_type": "stream",
     "text": [
      "Overflow: Queue is Full\n"
     ]
    }
   ],
   "source": [
    "enqueue(&q, 45);"
   ]
  },
  {
   "cell_type": "code",
   "execution_count": 10,
   "metadata": {},
   "outputs": [
    {
     "name": "stdout",
     "output_type": "stream",
     "text": [
      "Dequeued 10"
     ]
    }
   ],
   "source": [
    "int val = dequeue(&q);\n",
    "if (val != -1) {\n",
    "    printf(\"Dequeued %d\", val);\n",
    "}"
   ]
  },
  {
   "cell_type": "code",
   "execution_count": 11,
   "metadata": {},
   "outputs": [
    {
     "name": "stdout",
     "output_type": "stream",
     "text": [
      "15 20 30 40 \n"
     ]
    }
   ],
   "source": [
    "display(q);"
   ]
  },
  {
   "cell_type": "code",
   "execution_count": 12,
   "metadata": {},
   "outputs": [
    {
     "name": "stdout",
     "output_type": "stream",
     "text": [
      "true"
     ]
    }
   ],
   "source": [
    "// even after dequeuing the first element, \n",
    "// isFull() still returns true because rear is at the end and space is not reused.\n",
    "printf(isFull(&q) ? \"true\": \"false\");"
   ]
  },
  {
   "cell_type": "code",
   "execution_count": 13,
   "metadata": {},
   "outputs": [
    {
     "name": "stdout",
     "output_type": "stream",
     "text": [
      "Underflow: Queue is empty\n"
     ]
    }
   ],
   "source": [
    "struct Queue q2;\n",
    "create(&q2, 5); \n",
    "\n",
    "int val = dequeue(&q2);\n",
    "if (val != -1) {\n",
    "    printf(\"Dequeued %d\", val);\n",
    "}"
   ]
  },
  {
   "cell_type": "markdown",
   "metadata": {},
   "source": [
    "#### Drawbacks\n",
    "\n",
    "![drawbacks](https://i.ibb.co/5hS4gfkc/image.png)\n",
    "\n",
    "* We cannot reuse the space of deleted elements.\n",
    "* Each location can be used only once.\n",
    "* It can reach a state where the queue appears both empty and full.\n",
    "* The queue has a fixed size.\n",
    "* Shifting elements to utilize space is inefficient $O(n)$."
   ]
  },
  {
   "cell_type": "markdown",
   "metadata": {},
   "source": [
    "### Quick Fix (reset pointers)\n",
    "\n",
    "In the `dequeue` function:\n",
    "```c\n",
    "int dequeue(struct Queue *q) {\n",
    "    int x = -1;\n",
    "    \n",
    "    if (isEmpty(q)) {\n",
    "        printf(\"Underflow: Queue is empty\\n\");\n",
    "    } else {\n",
    "        x = q->Q[q->front];\n",
    "        q->front += 1;\n",
    "        \n",
    "        if (q->front > q->rear) {\n",
    "            // reset pointers when empty\n",
    "            q->front = q->rear = -1; \n",
    "        }\n",
    "        return x;\n",
    "    }\n",
    "}\n",
    "```\n",
    "\n",
    "This works only if you completely empty the queue, but not when it's partially empty (dequeued one of five elements). So the queue is not full, but still `rear == size - 1`."
   ]
  },
  {
   "cell_type": "markdown",
   "metadata": {},
   "source": [
    "### Circular Queue"
   ]
  }
 ],
 "metadata": {
  "kernelspec": {
   "display_name": "C++11",
   "language": "C++11",
   "name": "xeus-cling-cpp11"
  },
  "language_info": {
   "codemirror_mode": "text/x-c++src",
   "file_extension": ".cpp",
   "mimetype": "text/x-c++src",
   "name": "c++",
   "version": "11"
  }
 },
 "nbformat": 4,
 "nbformat_minor": 4
}
