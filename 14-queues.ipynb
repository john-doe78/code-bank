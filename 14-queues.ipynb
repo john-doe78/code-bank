{
 "cells": [
  {
   "cell_type": "markdown",
   "metadata": {
    "collapsed": false,
    "jupyter": {
     "outputs_hidden": false
    }
   },
   "source": [
    "## What is a Queue?\n",
    "\n",
    "Queues are FIFO (First In, First Out) data structures, unlike Stacks, which follow a LIFO (Last In, First Out) approach. In a queue, the first element added is the first one to be removed—similar to people lining up in a queue.\n",
    "\n",
    "<img src=\"https://files.catbox.moe/ck73no.PNG\" alt=\"queue\" width=\"600\" height=\"600\">\n",
    "\n",
    "### Uses\n",
    "\n",
    "* Breadth-first search uses a queue to keep track of the nodes to visit next.\n",
    "* Printers use queues to manage jobs—jobs get printed in the order they're submitted.\n",
    "* Web servers use queues to manage requests—page requests get fulfilled in the order they're received.\n",
    "* Processes wait in the CPU scheduler's queue for their turn to run.\n",
    "\n",
    "## Queue ADT\n",
    "\n",
    "### Data\n",
    "\n",
    "* Space for storing elements\n",
    "* Front: Points to the position from where elements are removed.\n",
    "* Rear: Points to the position where elements are added.\n",
    "\n",
    "### Operations\n",
    "\n",
    "* `enqueue`: Adds an element to the rear (back) of the queue.\n",
    "* `dequeue`: Removes an element from the front of the queue.\n",
    "* `isFull`: Returns `true` if the queue has reached its maximum capacity; otherwise, returns `false`.\n",
    "* `isEmpty`: Returns `true` if the queue contains no elements; otherwise, returns `false`.\n",
    "\n",
    "## Implementation\n",
    "\n",
    "A queue can be implemented in two main ways:\n",
    "\n",
    "* Using an Array\n",
    "* Using a Linked List\n",
    "\n",
    "### Queue Using an Array\n",
    "\n",
    "#### Queue with a Single Pointer\n",
    "\n",
    "![single-pointer](https://files.catbox.moe/mvvg05.png)\n",
    "\n",
    "In this approach, if you delete the first element, all the remaining elements to the right must be shifted one position to the left. This results in an inefficient $O(n)$ time complexity for dequeue.\n",
    "\n",
    "#### Queue with Front and Rear Pointers\n",
    "\n",
    "![front-rear-pointer](https://img.imgdd.com/a571dbbe-3274-4869-9906-9ce3f021f570.png)"
   ]
  },
  {
   "cell_type": "code",
   "execution_count": 1,
   "metadata": {},
   "outputs": [
    {
     "name": "stdout",
     "output_type": "stream",
     "text": [
      "g++ (conda-forge gcc 10.4.0-19) 10.4.0\n",
      "Copyright (C) 2020 Free Software Foundation, Inc.\n",
      "This is free software; see the source for copying conditions.  There is NO\n",
      "warranty; not even for MERCHANTABILITY or FITNESS FOR A PARTICULAR PURPOSE.\n",
      "\n"
     ]
    }
   ],
   "source": [
    "!g++ --version"
   ]
  },
  {
   "cell_type": "code",
   "execution_count": 2,
   "metadata": {},
   "outputs": [],
   "source": [
    "#include <stdio.h>\n",
    "#include <stdlib.h>\n",
    "#include <stdbool.h>\n",
    "\n",
    "struct Queue {\n",
    "    int size;\n",
    "    int front;\n",
    "    int rear;\n",
    "    int *elements;\n",
    "};"
   ]
  },
  {
   "cell_type": "code",
   "execution_count": 3,
   "metadata": {},
   "outputs": [],
   "source": [
    "void create(struct Queue *q, int size) {\n",
    "    q->size = size;\n",
    "    q->front = -1;\n",
    "    q->rear = -1;\n",
    "    q->elements = (int*)malloc(q->size * sizeof(int));\n",
    "}"
   ]
  },
  {
   "cell_type": "code",
   "execution_count": 4,
   "metadata": {},
   "outputs": [],
   "source": [
    "bool isFull(struct Queue *q) {\n",
    "    return q->rear == q->size - 1;\n",
    "}"
   ]
  },
  {
   "cell_type": "code",
   "execution_count": 5,
   "metadata": {},
   "outputs": [],
   "source": [
    "// Time O(1) | Space O(1)\n",
    "void enqueue(struct Queue *q, int value) {\n",
    "    if (isFull(q)) {\n",
    "        printf(\"Overflow: Queue is Full\\n\");\n",
    "        return;\n",
    "    }\n",
    "    \n",
    "    if (q->rear == -1) {\n",
    "        q->front = 0;\n",
    "        q->rear = 0;\n",
    "    } else {\n",
    "        q->rear += 1;\n",
    "    }\n",
    "    q->elements[q->rear] = value;\n",
    "}"
   ]
  },
  {
   "cell_type": "code",
   "execution_count": 6,
   "metadata": {},
   "outputs": [],
   "source": [
    "bool isEmpty(struct Queue *q) {\n",
    "    return q->front == -1 || q->front > q->rear;\n",
    "}"
   ]
  },
  {
   "cell_type": "code",
   "execution_count": 7,
   "metadata": {},
   "outputs": [],
   "source": [
    "// Time O(1) | Space O(1)\n",
    "int dequeue(struct Queue *q) {\n",
    "    int x = -1;\n",
    "    if (isEmpty(q)) {\n",
    "        printf(\"Underflow: Queue is empty\\n\");\n",
    "    } else {\n",
    "        x = q->elements[q->front];\n",
    "        q->front += 1;\n",
    "    }\n",
    "    return x;\n",
    "}"
   ]
  },
  {
   "cell_type": "code",
   "execution_count": 8,
   "metadata": {},
   "outputs": [],
   "source": [
    "void display(struct Queue q) {\n",
    "    if (isEmpty(&q)) {\n",
    "        printf(\"Queue is empty\\n\");\n",
    "        return;\n",
    "    }\n",
    "    \n",
    "    for (int i = q.front; i <= q.rear; i++) {\n",
    "        printf(\"%d \", q.elements[i]);\n",
    "    }\n",
    "    printf(\"\\n\");\n",
    "}"
   ]
  },
  {
   "cell_type": "code",
   "execution_count": 9,
   "metadata": {},
   "outputs": [
    {
     "name": "stdout",
     "output_type": "stream",
     "text": [
      "10 15 20 30 40 \n"
     ]
    }
   ],
   "source": [
    "struct Queue q;\n",
    "create(&q, 5); \n",
    "enqueue(&q, 10);\n",
    "enqueue(&q, 15);\n",
    "enqueue(&q, 20);\n",
    "enqueue(&q, 30);\n",
    "enqueue(&q, 40);\n",
    "display(q);"
   ]
  },
  {
   "cell_type": "code",
   "execution_count": 10,
   "metadata": {},
   "outputs": [
    {
     "name": "stdout",
     "output_type": "stream",
     "text": [
      "Overflow: Queue is Full\n"
     ]
    }
   ],
   "source": [
    "enqueue(&q, 45);"
   ]
  },
  {
   "cell_type": "code",
   "execution_count": 11,
   "metadata": {},
   "outputs": [
    {
     "name": "stdout",
     "output_type": "stream",
     "text": [
      "Dequeued 10"
     ]
    }
   ],
   "source": [
    "int val = dequeue(&q);\n",
    "if (val != -1) {\n",
    "    printf(\"Dequeued %d\", val);\n",
    "}"
   ]
  },
  {
   "cell_type": "code",
   "execution_count": 12,
   "metadata": {},
   "outputs": [
    {
     "name": "stdout",
     "output_type": "stream",
     "text": [
      "15 20 30 40 \n"
     ]
    }
   ],
   "source": [
    "display(q);"
   ]
  },
  {
   "cell_type": "code",
   "execution_count": 13,
   "metadata": {},
   "outputs": [
    {
     "name": "stdout",
     "output_type": "stream",
     "text": [
      "true"
     ]
    }
   ],
   "source": [
    "// even after dequeuing the first element, \n",
    "// isFull() still returns true because rear is at the end and space is not reused.\n",
    "printf(isFull(&q) ? \"true\": \"false\");"
   ]
  },
  {
   "cell_type": "code",
   "execution_count": 14,
   "metadata": {},
   "outputs": [
    {
     "name": "stdout",
     "output_type": "stream",
     "text": [
      "Underflow: Queue is empty\n"
     ]
    }
   ],
   "source": [
    "struct Queue q2;\n",
    "create(&q2, 5); \n",
    "\n",
    "int val = dequeue(&q2);\n",
    "if (val != -1) {\n",
    "    printf(\"Dequeued %d\", val);\n",
    "}"
   ]
  },
  {
   "cell_type": "markdown",
   "metadata": {},
   "source": [
    "#### Drawbacks\n",
    "\n",
    "![drawbacks](https://i.ibb.co/5hS4gfkc/image.png)\n",
    "\n",
    "* We cannot reuse the space of deleted elements.\n",
    "* Each location can be used only once.\n",
    "* It can reach a state where the queue appears both empty and full.\n",
    "* The queue has a fixed size.\n",
    "* Shifting elements to utilize space is inefficient $O(n)$."
   ]
  },
  {
   "cell_type": "markdown",
   "metadata": {},
   "source": [
    "### Quick Fix (reset pointers)\n",
    "\n",
    "In the `dequeue` function:\n",
    "```c\n",
    "int dequeue(struct Queue *q) {\n",
    "  int x = -1;\n",
    "  \n",
    "  if (isEmpty(q)) {\n",
    "    printf(\"Underflow: Queue is empty\\n\");\n",
    "  } else {\n",
    "    x = q->Q[q->front];\n",
    "    q->front += 1;\n",
    "    \n",
    "    if (q->front > q->rear) {\n",
    "      // reset pointers when empty\n",
    "      q->front = q->rear = -1; \n",
    "    }\n",
    "    return x;\n",
    "  }\n",
    "}\n",
    "```\n",
    "\n",
    "This works only if you completely empty the queue, but not when it's partially empty (dequeued one of five elements). So the queue is not full, but still `rear == size - 1`."
   ]
  },
  {
   "cell_type": "markdown",
   "metadata": {},
   "source": [
    "### Circular Queue\n",
    "\n",
    "A Circular Queue is a queue that follows the FIFO principle but connects the end of the queue back to the front, forming a circle. This approach efficiently utilizes storage by reusing the vacant spaces created by dequeued elements."
   ]
  },
  {
   "cell_type": "code",
   "execution_count": 15,
   "metadata": {},
   "outputs": [],
   "source": [
    "#include <bits/stdc++.h>\n",
    "using namespace std;\n",
    "\n",
    "class CircularQueue {\n",
    "private:\n",
    "    int size;\n",
    "    int front;\n",
    "    int rear;\n",
    "    int *elements;\n",
    "\n",
    "public:\n",
    "    CircularQueue(int size) {\n",
    "        this->size = size;\n",
    "        this->front = -1;\n",
    "        this->rear = -1;\n",
    "        this->elements = new int[size];\n",
    "    }\n",
    "\n",
    "    bool isFull() {\n",
    "        return (this->rear + 1) % this->size == this->front;\n",
    "    }\n",
    "\n",
    "    bool isEmpty() {\n",
    "        return this->front == -1;\n",
    "    }\n",
    "\n",
    "    // Time O(1) | Space O(1)\n",
    "    void enqueue(int value) {\n",
    "        if (isFull()) {\n",
    "            cout << \"Overflow: Queue is full\" << endl;\n",
    "            return;\n",
    "        }\n",
    "\n",
    "        // insert if the queue is empty\n",
    "        if (this->rear == -1) {\n",
    "            this->front = 0;\n",
    "            this->rear = 0;\n",
    "        } else {\n",
    "            // move rear to the next position circularly\n",
    "            this->rear = (this->rear + 1) % this->size;\n",
    "        }\n",
    "        elements[this->rear] = value;\n",
    "    }\n",
    "\n",
    "    // Time O(1) | Space O(1)\n",
    "    int dequeue() {\n",
    "        if (isEmpty()) {\n",
    "            cout << \"Underflow: Queue is empty\" << endl;\n",
    "            return -1;\n",
    "        }\n",
    "\n",
    "        int x = elements[this->front];\n",
    "\n",
    "        // if there was only one element, reset queue\n",
    "        if (this->rear == this->front) {\n",
    "            this->rear = this->front = -1;\n",
    "        } else {\n",
    "            // move front to the next position circularly\n",
    "            this->front = (this->front + 1) % this->size;\n",
    "        }\n",
    "\n",
    "        return x;\n",
    "    }\n",
    "\n",
    "    ~CircularQueue() {\n",
    "        delete[] elements;\n",
    "    }\n",
    "\n",
    "    void display() {\n",
    "        if (isEmpty()) {\n",
    "            cout << \"Queue is empty\" << endl;\n",
    "            return;\n",
    "        }\n",
    "\n",
    "        int i = this->front;\n",
    "        while (true) {\n",
    "            cout << elements[i] << \" \";\n",
    "            if (i == this->rear)\n",
    "                break;\n",
    "            i = (i + 1) % this->size;\n",
    "        }\n",
    "        cout << endl;\n",
    "    }\n",
    "};"
   ]
  },
  {
   "cell_type": "code",
   "execution_count": 16,
   "metadata": {},
   "outputs": [],
   "source": [
    "CircularQueue queue2(5);\n",
    "queue2.enqueue(10);\n",
    "queue2.enqueue(20);\n",
    "queue2.enqueue(30);\n",
    "queue2.enqueue(40);\n",
    "queue2.enqueue(50);"
   ]
  },
  {
   "cell_type": "code",
   "execution_count": 17,
   "metadata": {},
   "outputs": [
    {
     "name": "stdout",
     "output_type": "stream",
     "text": [
      "Dequeued 10"
     ]
    }
   ],
   "source": [
    "int val = queue2.dequeue();\n",
    "if (val != -1) {\n",
    "    printf(\"Dequeued %d\", val);\n",
    "}"
   ]
  },
  {
   "cell_type": "code",
   "execution_count": 18,
   "metadata": {},
   "outputs": [],
   "source": [
    "queue2.enqueue(60);"
   ]
  },
  {
   "cell_type": "code",
   "execution_count": 19,
   "metadata": {},
   "outputs": [
    {
     "name": "stdout",
     "output_type": "stream",
     "text": [
      "20 30 40 50 60 \n"
     ]
    }
   ],
   "source": [
    "// front points at 1 and rear points at 0\n",
    "queue2.display();"
   ]
  },
  {
   "cell_type": "markdown",
   "metadata": {},
   "source": [
    "### Queue using Linked List\n",
    "\n",
    "It avoids the fixed size limitation of a circular queue, but it requires more memory as a trade-off.\n",
    "\n",
    "![linked list](https://files.catbox.moe/7rgnvb.PNG)"
   ]
  },
  {
   "cell_type": "code",
   "execution_count": 20,
   "metadata": {},
   "outputs": [],
   "source": [
    "#include <stdio.h>\n",
    "#include <stdlib.h>\n",
    "#include <stdbool.h>\n",
    "\n",
    "struct Node {\n",
    "    int data;\n",
    "    struct Node *next;\n",
    "} *rear = NULL, *front = NULL;"
   ]
  },
  {
   "cell_type": "code",
   "execution_count": 21,
   "metadata": {},
   "outputs": [],
   "source": [
    "bool isEmpty() {\n",
    "    return front == NULL;\n",
    "}"
   ]
  },
  {
   "cell_type": "code",
   "execution_count": 22,
   "metadata": {},
   "outputs": [],
   "source": [
    "bool isFull() {\n",
    "    struct Node *t;\n",
    "    t = (struct Node*)malloc(sizeof(struct Node));\n",
    "\n",
    "    bool full = (t == NULL);\n",
    "    free(t);\n",
    "    return full;\n",
    "}"
   ]
  },
  {
   "cell_type": "code",
   "execution_count": 23,
   "metadata": {},
   "outputs": [],
   "source": [
    "// Time O(1) | Space O(1)\n",
    "void enqueue(int value) {\n",
    "    struct Node *t;\n",
    "    t = (struct Node*)malloc(sizeof(struct Node));\n",
    "\n",
    "    if (isFull()) {\n",
    "        printf(\"Queue is Full\\n\");\n",
    "        return;\n",
    "    }\n",
    "\n",
    "    t->data = value;\n",
    "    t->next = NULL;\n",
    "\n",
    "    if (isEmpty()) {\n",
    "        front = rear = t;\n",
    "    } else {\n",
    "        rear->next = t;\n",
    "        rear = t;\n",
    "    }\n",
    "}"
   ]
  },
  {
   "cell_type": "code",
   "execution_count": 24,
   "metadata": {},
   "outputs": [],
   "source": [
    "// Time O(1) | Space O(1)\n",
    "int dequeue() {\n",
    "    struct Node *t;\n",
    "\n",
    "    if (isEmpty()) {\n",
    "        printf(\"Queue is Empty\\n\");\n",
    "        return -1;\n",
    "    }\n",
    "\n",
    "    t = front;\n",
    "    front = front->next;\n",
    "    int x = t->data;\n",
    "    free(t);\n",
    "\n",
    "    return x;\n",
    "}"
   ]
  },
  {
   "cell_type": "code",
   "execution_count": 25,
   "metadata": {},
   "outputs": [],
   "source": [
    "void display() {\n",
    "    struct Node *p = front;\n",
    "\n",
    "    while (p != NULL) {\n",
    "        printf(\"%d \", p->data);\n",
    "        p = p->next;\n",
    "    } \n",
    "    printf(\"\\n\");\n",
    "}"
   ]
  },
  {
   "cell_type": "code",
   "execution_count": 26,
   "metadata": {},
   "outputs": [
    {
     "name": "stdout",
     "output_type": "stream",
     "text": [
      "10 20 30 40 50 \n"
     ]
    }
   ],
   "source": [
    "enqueue(10);\n",
    "enqueue(20);\n",
    "enqueue(30);\n",
    "enqueue(40);\n",
    "enqueue(50);\n",
    "\n",
    "display();"
   ]
  },
  {
   "cell_type": "code",
   "execution_count": 27,
   "metadata": {},
   "outputs": [
    {
     "name": "stdout",
     "output_type": "stream",
     "text": [
      "10 "
     ]
    }
   ],
   "source": [
    "printf(\"%d \",dequeue());"
   ]
  },
  {
   "cell_type": "code",
   "execution_count": 28,
   "metadata": {},
   "outputs": [
    {
     "name": "stdout",
     "output_type": "stream",
     "text": [
      "20 30 40 50 \n"
     ]
    }
   ],
   "source": [
    "display();"
   ]
  },
  {
   "cell_type": "markdown",
   "metadata": {},
   "source": [
    "### Queue using Two Stacks\n",
    "\n",
    "* [GeeksforGeeks - Queue using Two Stacks](https://www.geeksforgeeks.org/dsa/queue-using-stacks/)\n",
    "\n",
    "![2-stacks](https://files.catbox.moe/mb8a0o.jpeg)\n",
    "\n",
    "Assume the stack is implemented using a linked list.\n",
    "\n",
    "```cpp\n",
    "void enqueue(int value) {\n",
    "  push(&s1, value);\n",
    "}\n",
    "\n",
    "int dequeue() {\n",
    "  if (isEmpty(s2)) {\n",
    "    if (isEmpty(s1)) {\n",
    "      printf(\"Queue is Empty\\n\");\n",
    "      return -1;\n",
    "    } else {\n",
    "      while (!isEmpty(s1)) {\n",
    "        push(&s2, pop(&s1));\n",
    "      }\n",
    "    }\n",
    "  }\n",
    "  return pop(&s2);\n",
    "}\n",
    "```\n",
    "\n",
    "## Double Ended Queue\n",
    "\n",
    "A Deque is a generalized version of the queue data structure that allows insertion and deletion from both ends—front and rear.\n",
    "\n",
    "* [Wikipedia - Double-Ended Queue](https://en.wikipedia.org/wiki/Double-ended_queue/)\n",
    "* [GeeksforGeeks - Deque in Python](https://www.geeksforgeeks.org/python/deque-in-python/)\n",
    "\n",
    "![dequeue](https://files.catbox.moe/tmzz9r.jpeg)\n",
    "\n",
    "## Priority Queue\n",
    "\n",
    "A priority queue is a data structure where each element is associated with a priority. Elements are served based on their priority—higher-priority elements are served before lower-priority ones.\n",
    "\n",
    "* [Wikipedia - Priority Queue](https://en.wikipedia.org/wiki/Priority_queue)\n",
    "* [GeeksforGeeks - Introduction to Priority Queue](https://www.geeksforgeeks.org/dsa/priority-queue-set-1-introduction/)\n",
    "* [GeeksforGeeks - Python `heapq` Module](https://www.geeksforgeeks.org/python/heap-queue-or-heapq-in-python/)\n",
    "\n",
    "There are two common ways to implement a priority queue:\n",
    "\n",
    "### Limited Set of Priorities\n",
    "\n",
    "In this method, elements are grouped into a limited number of priority levels (High, Medium, Low). Elements with the same priority are typically processed in the order they were added (FIFO within each priority level).\n",
    "\n",
    "![limited-set](https://files.catbox.moe/5cdmmt.jpeg)\n",
    "\n",
    "### Element-Based Priority\n",
    "\n",
    "In this approach, each element has its own numerical priority value. The queue is often implemented using a **heap**, where the element with the highest or lowest priority value is served first.\n",
    "\n",
    "![element](https://files.catbox.moe/s0aa88.jpeg)"
   ]
  },
  {
   "cell_type": "markdown",
   "metadata": {},
   "source": [
    "## Queue in STL\n",
    "\n",
    "Queue is defined as the `std::queue` class template inside `<queue>` header file.\n",
    "\n",
    "> Syntax: `queue<T> q;`\n",
    "\n",
    "* `T`: Type of elements in the queue.\n",
    "* `q`: Name assigned to the queue.\n",
    "\n",
    "**Note:** The STL queue does not allow direct iteration or random acces\n",
    "\n",
    "### Basic Operations\n",
    "\n",
    "| Function     | Description                            | Time Complexity       |\n",
    "|--------------|----------------------------------------|-----------------------|\n",
    "| `q.push(x)`  | Adds element `x` to the back           | Amortized O(1)        |\n",
    "| `q.pop()`    | Removes the front element              | Amortized O(1)        |\n",
    "| `q.front()`  | Returns reference to the front element | O(1)                  |\n",
    "| `q.back()`   | Returns reference to the last element  | O(1)                  |\n",
    "| `q.empty()`  | Returns `true` if queue is empty       | O(1)                  |\n",
    "| `q.size()`   | Returns number of elements in queue    | O(1)                  |"
   ]
  },
  {
   "cell_type": "code",
   "execution_count": 29,
   "metadata": {},
   "outputs": [],
   "source": [
    "#include <bits/stdc++.h>\n",
    "using namespace std;"
   ]
  },
  {
   "cell_type": "code",
   "execution_count": 30,
   "metadata": {},
   "outputs": [
    {
     "name": "stdout",
     "output_type": "stream",
     "text": [
      "5\n"
     ]
    }
   ],
   "source": [
    "queue<int> q;\n",
    "q.push(10);\n",
    "q.push(20);\n",
    "q.push(30);\n",
    "q.push(40);\n",
    "q.push(50);\n",
    "\n",
    "cout << q.size() << endl;"
   ]
  },
  {
   "cell_type": "code",
   "execution_count": 31,
   "metadata": {},
   "outputs": [
    {
     "name": "stdout",
     "output_type": "stream",
     "text": [
      "false\n"
     ]
    }
   ],
   "source": [
    "cout << boolalpha; // enables true/false output\n",
    "cout << q.empty() << endl;"
   ]
  },
  {
   "cell_type": "code",
   "execution_count": 32,
   "metadata": {},
   "outputs": [
    {
     "name": "stdout",
     "output_type": "stream",
     "text": [
      "10\n",
      "50\n"
     ]
    }
   ],
   "source": [
    "cout << q.front() << endl;\n",
    "cout << q.back() << endl;"
   ]
  },
  {
   "cell_type": "code",
   "execution_count": 33,
   "metadata": {},
   "outputs": [],
   "source": [
    "q.pop();"
   ]
  },
  {
   "cell_type": "code",
   "execution_count": 34,
   "metadata": {},
   "outputs": [
    {
     "name": "stdout",
     "output_type": "stream",
     "text": [
      "20\n",
      "30\n",
      "40\n",
      "50\n"
     ]
    }
   ],
   "source": [
    "// traverse the queue\n",
    "while (!q.empty()) {\n",
    "    cout << q.front() << endl;\n",
    "    q.pop();\n",
    "}"
   ]
  },
  {
   "cell_type": "markdown",
   "metadata": {},
   "source": [
    "## Deque in STL\n",
    "\n",
    "Deque is defined as the `std::deque` class template inside the `<deque>` header file.\n",
    "\n",
    "> Syntax: `deque<T> dq;`\n",
    "\n",
    "* `T`: Type of elements in deque.\n",
    "* `dq`: Name assigned to the deque.\n",
    "\n",
    "```cpp\n",
    "// empty deque\n",
    "deque<int> dq;\n",
    "\n",
    "// deque with initalizer values\n",
    "deque<int> dq = {1, 2, 3, 4, 5};\n",
    "\n",
    "// deque with default size and values\n",
    "deque<int> dq(3, 4);\n",
    "```\n",
    "\n",
    "### Basic Operations\n",
    "\n",
    "| Function             | Description                                             | Time Complexity       |\n",
    "|----------------------|---------------------------------------------------------|------------------------|\n",
    "| `dq.push_back(x)`    | Adds element `x` to the end                             | Amortized O(1)         |\n",
    "| `dq.push_front(x)`   | Adds element `x` to the front                           | Amortized O(1)         |\n",
    "| `dq.pop_back()`      | Removes element from the end                            | Amortized O(1)         |\n",
    "| `dq.pop_front()`     | Removes element from the front                          | Amortized O(1)         |\n",
    "| `dq.front()`         | Returns reference to the first element                  | O(1)                   |\n",
    "| `dq.back()`          | Returns reference to the last element                   | O(1)                   |\n",
    "| `dq.empty()`         | Returns `true` if deque is empty                        | O(1)                   |\n",
    "| `dq.size()`          | Returns number of elements in deque                     | O(1)                   |\n",
    "| `dq[i]`              | Access element at index `i` (no bounds check)           | O(1)                   |\n",
    "| `dq.at(i)`           | Access element at index `i` with bounds checking        | O(1)                   |\n",
    "| `dq.clear()`         | Removes all elements                                    | O(n)                   |"
   ]
  },
  {
   "cell_type": "code",
   "execution_count": 35,
   "metadata": {},
   "outputs": [],
   "source": [
    "deque<int> dq;\n",
    "dq.push_back(10);\n",
    "dq.push_front(20);\n",
    "dq.push_back(30);"
   ]
  },
  {
   "cell_type": "code",
   "execution_count": 36,
   "metadata": {},
   "outputs": [
    {
     "name": "stdout",
     "output_type": "stream",
     "text": [
      "Front: 20\n",
      "Back: 30\n"
     ]
    }
   ],
   "source": [
    "cout << \"Front: \" << dq.front() << endl;\n",
    "cout << \"Back: \" << dq.back() << endl;"
   ]
  },
  {
   "cell_type": "code",
   "execution_count": 37,
   "metadata": {},
   "outputs": [
    {
     "name": "stdout",
     "output_type": "stream",
     "text": [
      "10\n"
     ]
    }
   ],
   "source": [
    "dq.pop_front();\n",
    "dq.pop_back();\n",
    "\n",
    "cout << dq[0] << endl;"
   ]
  },
  {
   "cell_type": "code",
   "execution_count": 38,
   "metadata": {},
   "outputs": [
    {
     "name": "stdout",
     "output_type": "stream",
     "text": [
      "10\n"
     ]
    }
   ],
   "source": [
    "cout << dq.back() << endl;"
   ]
  },
  {
   "cell_type": "code",
   "execution_count": 39,
   "metadata": {},
   "outputs": [
    {
     "name": "stdout",
     "output_type": "stream",
     "text": [
      "10\n"
     ]
    }
   ],
   "source": [
    "cout << dq.front() << endl;"
   ]
  },
  {
   "cell_type": "code",
   "execution_count": 40,
   "metadata": {},
   "outputs": [],
   "source": [
    "dq.push_front(-5);\n",
    "dq.push_back(-50);"
   ]
  },
  {
   "cell_type": "code",
   "execution_count": 41,
   "metadata": {},
   "outputs": [
    {
     "name": "stdout",
     "output_type": "stream",
     "text": [
      "-5\n",
      "10\n",
      "-50\n"
     ]
    }
   ],
   "source": [
    "for (auto q: dq) \n",
    "    cout << q << endl;"
   ]
  },
  {
   "cell_type": "code",
   "execution_count": 42,
   "metadata": {},
   "outputs": [
    {
     "name": "stdout",
     "output_type": "stream",
     "text": [
      "-50\n",
      "-5\n",
      "10\n"
     ]
    }
   ],
   "source": [
    "sort(dq.begin(), dq.end());\n",
    "\n",
    "for (auto q: dq) \n",
    "    cout << q << endl;"
   ]
  },
  {
   "cell_type": "code",
   "execution_count": 43,
   "metadata": {},
   "outputs": [
    {
     "name": "stdout",
     "output_type": "stream",
     "text": [
      "10\n",
      "-5\n",
      "-50\n"
     ]
    }
   ],
   "source": [
    "reverse(dq.begin(), dq.end());\n",
    "\n",
    "for (auto q: dq) \n",
    "    cout << q << endl;"
   ]
  },
  {
   "cell_type": "markdown",
   "metadata": {},
   "source": [
    "## Practice Problems\n",
    "\n",
    "### Reversing the first K elements of a Queue\n",
    "\n",
    "* https://www.geeksforgeeks.org/dsa/reversing-first-k-elements-queue/\n",
    "\n",
    "Given an integer `k` and a queue of integers, The task is to reverse the order of the first `k` elements of the queue, leaving the other elements in the same relative order.\n",
    "\n",
    "Only following standard operations are allowed on the queue. \n",
    "\n",
    "* `enqueue(x)`: Add an item x to rear of queue\n",
    "* `dequeue()`: Remove an item from the front of the queue\n",
    "* `size()`: Returns the number of elements in the queue.\n",
    "* `front()`: Finds front item.\n",
    "\n",
    "#### Examples\n",
    "\n",
    "```txt\n",
    "Input: q = 1 2 3 4 5, k = 3\n",
    "Output: 3 2 1 4 5\n",
    "\n",
    "Input: q = 4 3 2 1, k= 4\n",
    "Output: 1 2 3 4\n",
    "```"
   ]
  },
  {
   "cell_type": "code",
   "execution_count": 44,
   "metadata": {},
   "outputs": [
    {
     "name": "stdout",
     "output_type": "stream",
     "text": [
      "3 2 1 4 5 \n"
     ]
    }
   ],
   "source": [
    "// Time O(n+k) | Space O(k)\n",
    "void reverseFirstK(queue<int> &q, int k) {\n",
    "    stack<int> st;\n",
    "    int n = q.size();\n",
    "    \n",
    "    if (q.empty() || k > n || k <= 0) {\n",
    "        return;\n",
    "    }\n",
    "    \n",
    "    // push first k elements into the stack\n",
    "    for (int i = 0 ; i < k; i++) {\n",
    "        st.push(move(q.front())); // st.push(q.front())\n",
    "        q.pop();\n",
    "    }\n",
    "\n",
    "    // push the stack elements back to queue\n",
    "    while (!st.empty()) {\n",
    "        q.push(move(st.top())); // q.push(st.top())\n",
    "        st.pop();\n",
    "    }\n",
    "\n",
    "    // move the remaining elements to the back of the queue\n",
    "    for (int i = 0; i < n - k; i++) {\n",
    "        q.push(move(q.front())); // q.push(q.front())\n",
    "        q.pop();\n",
    "    }\n",
    "}\n",
    "\n",
    "queue<int> q;\n",
    "q.push(move(1));\n",
    "q.push(move(2));\n",
    "q.push(move(3));\n",
    "q.push(move(4));\n",
    "q.push(move(5));\n",
    "\n",
    "int k = 3;\n",
    "reverseFirstK(q, k);\n",
    "while (!q.empty()) {\n",
    "    cout << q.front() << \" \";\n",
    "    q.pop();\n",
    "}\n",
    "cout << endl;"
   ]
  },
  {
   "cell_type": "code",
   "execution_count": 45,
   "metadata": {},
   "outputs": [
    {
     "name": "stdout",
     "output_type": "stream",
     "text": [
      "1 2 3 4 \n"
     ]
    }
   ],
   "source": [
    "queue<int> q2;\n",
    "q2.push(move(4));\n",
    "q2.push(move(3));\n",
    "q2.push(move(2));\n",
    "q2.push(move(1));\n",
    "\n",
    "int k = 4;\n",
    "reverseFirstK(q2, k);\n",
    "while (!q2.empty()) {\n",
    "    cout << q2.front() << \" \";\n",
    "    q2.pop();\n",
    "}\n",
    "cout << endl;"
   ]
  },
  {
   "cell_type": "markdown",
   "metadata": {},
   "source": [
    "### Generate Binary Numbers from 1 to n\n",
    "\n",
    "* https://www.geeksforgeeks.org/dsa/interesting-method-generate-binary-numbers-1-n/\n",
    "\n",
    "Given a number `n`, write a function that generates and prints all binary numbers with decimal values from `1` to `n`. \n",
    "\n",
    "#### Examples\n",
    "\n",
    "```txt\n",
    "Input: n = 2\n",
    "Output: 1, 10\n",
    "\n",
    "Input: n = 5\n",
    "Output: 1, 10, 11, 100, 101\n",
    "```"
   ]
  },
  {
   "cell_type": "code",
   "execution_count": 46,
   "metadata": {},
   "outputs": [
    {
     "name": "stdout",
     "output_type": "stream",
     "text": [
      "1, 10\n"
     ]
    }
   ],
   "source": [
    "// Time O(n) | Space O(n)\n",
    "void generate_binary_numbers(int n) {\n",
    "    queue<int> q;\n",
    "    q.push(1);\n",
    "\n",
    "    for (int i = 0; i < n; i++) {\n",
    "        int temp = q.front();\n",
    "        q.pop();\n",
    "\n",
    "        cout << temp;\n",
    "        if (i != n-1) {\n",
    "            cout << \", \";\n",
    "        }\n",
    "        q.push(temp * 10 + 0);\n",
    "        q.push(temp * 10 + 1);\n",
    "    }\n",
    "    cout << endl;\n",
    "}\n",
    "\n",
    "int n = 2;\n",
    "generate_binary_numbers(n);"
   ]
  },
  {
   "cell_type": "code",
   "execution_count": 47,
   "metadata": {},
   "outputs": [
    {
     "name": "stdout",
     "output_type": "stream",
     "text": [
      "1, 10, 11, 100, 101\n"
     ]
    }
   ],
   "source": [
    "int n = 5;\n",
    "generate_binary_numbers(n);"
   ]
  },
  {
   "cell_type": "code",
   "execution_count": 48,
   "metadata": {},
   "outputs": [
    {
     "name": "stdout",
     "output_type": "stream",
     "text": [
      "1, 10\n"
     ]
    }
   ],
   "source": [
    "// efficient way | to avoid overflow error\n",
    "\n",
    "// Time O(n) | Space O(n)\n",
    "void generate_binary_numbers(int n) {\n",
    "    queue<string> q;\n",
    "    q.push(\"1\");\n",
    "\n",
    "    for (int i = 0; i < n; i++) {\n",
    "        string temp = q.front();\n",
    "        q.pop();\n",
    "\n",
    "        cout << temp;\n",
    "        if (i != n-1) {\n",
    "            cout << \", \";\n",
    "        }\n",
    "        q.push(temp + \"0\");\n",
    "        q.push(temp + \"1\");\n",
    "    }\n",
    "    cout << endl;\n",
    "}\n",
    "\n",
    "int n = 2;\n",
    "generate_binary_numbers(n);"
   ]
  },
  {
   "cell_type": "code",
   "execution_count": 49,
   "metadata": {},
   "outputs": [
    {
     "name": "stdout",
     "output_type": "stream",
     "text": [
      "1, 10, 11, 100, 101\n"
     ]
    }
   ],
   "source": [
    "int n = 5;\n",
    "generate_binary_numbers(n);"
   ]
  }
 ],
 "metadata": {
  "kernelspec": {
   "display_name": "C++11",
   "language": "C++11",
   "name": "xeus-cling-cpp11"
  },
  "language_info": {
   "codemirror_mode": "text/x-c++src",
   "file_extension": ".cpp",
   "mimetype": "text/x-c++src",
   "name": "c++",
   "version": "11"
  }
 },
 "nbformat": 4,
 "nbformat_minor": 4
}
