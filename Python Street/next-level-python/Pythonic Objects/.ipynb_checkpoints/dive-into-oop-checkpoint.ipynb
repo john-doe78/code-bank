{
 "cells": [
  {
   "cell_type": "markdown",
   "metadata": {},
   "source": [
    "# Dive into Object-oriented Python\n",
    "\n",
    "* PyCon Africa (2020) — [Dive into Object-oriented Python](https://www.youtube.com/watch?v=__NUbjZUXNY) by Leonardo Giordani\n",
    "* Repository — [lgiordani/oopy](https://github.com/lgiordani/oopy/)\n",
    "\n",
    "## Part 3 - Exercise\n",
    "\n",
    "create a `SecurityLift` class that has the `floor`, `status`, and `locked` attributes. You are forbidden to use inheritance."
   ]
  },
  {
   "cell_type": "code",
   "execution_count": 1,
   "metadata": {},
   "outputs": [],
   "source": [
    "class SecurityLift(object):\n",
    "    def __init__(self, floor, status, locked=False):\n",
    "        self._floor = floor\n",
    "        self._status = status\n",
    "        self._locked = locked\n",
    "    \n",
    "    def open(self):\n",
    "        self._status = 'open'\n",
    "    \n",
    "    def close(self):\n",
    "        self._status = 'closed'"
   ]
  },
  {
   "cell_type": "code",
   "execution_count": 2,
   "metadata": {},
   "outputs": [],
   "source": [
    "l = SecurityLift(1, 'closed')"
   ]
  },
  {
   "cell_type": "code",
   "execution_count": 3,
   "metadata": {},
   "outputs": [],
   "source": [
    "l = SecurityLift(1, 'closed', 'unlocked')"
   ]
  },
  {
   "cell_type": "markdown",
   "metadata": {},
   "source": [
    "Create a `ClosedLift` class that has a default status of `closed`."
   ]
  },
  {
   "cell_type": "code",
   "execution_count": 4,
   "metadata": {},
   "outputs": [],
   "source": [
    "class ClosedLift(object):\n",
    "    def __init__(self, floor, status='closed'):\n",
    "        self._floor = floor\n",
    "        self._status = status\n",
    "\n",
    "    def open(self):\n",
    "        self._status = 'open'\n",
    "    \n",
    "    def close(self):\n",
    "        self._status = 'closed'\n"
   ]
  },
  {
   "cell_type": "code",
   "execution_count": 5,
   "metadata": {},
   "outputs": [
    {
     "data": {
      "text/plain": [
       "'closed'"
      ]
     },
     "execution_count": 5,
     "metadata": {},
     "output_type": "execute_result"
    }
   ],
   "source": [
    "l = ClosedLift(1, 'closed')\n",
    "l._status"
   ]
  },
  {
   "cell_type": "code",
   "execution_count": 6,
   "metadata": {},
   "outputs": [
    {
     "data": {
      "text/plain": [
       "'open'"
      ]
     },
     "execution_count": 6,
     "metadata": {},
     "output_type": "execute_result"
    }
   ],
   "source": [
    "l = ClosedLift(1, 'open')\n",
    "l._status"
   ]
  },
  {
   "cell_type": "code",
   "execution_count": 7,
   "metadata": {},
   "outputs": [
    {
     "data": {
      "text/plain": [
       "'closed'"
      ]
     },
     "execution_count": 7,
     "metadata": {},
     "output_type": "execute_result"
    }
   ],
   "source": [
    "l = ClosedLift(1)\n",
    "l._status"
   ]
  },
  {
   "cell_type": "markdown",
   "metadata": {},
   "source": [
    "Create a `ToggleLift` class that has a method toggle which toggles the status of the lift between `open` and `closed`."
   ]
  },
  {
   "cell_type": "code",
   "execution_count": 8,
   "metadata": {},
   "outputs": [],
   "source": [
    "class ToggleLift(object):\n",
    "    def __init__(self, floor):\n",
    "        self._floor = floor\n",
    "        self._status = status\n",
    "    \n",
    "    def toggle(self):\n",
    "        if self._status == 'open':\n",
    "            self._status = 'closed'\n",
    "        else:\n",
    "            self._status = 'open'"
   ]
  },
  {
   "cell_type": "markdown",
   "metadata": {},
   "source": [
    "## Part 4 - Exercise\n",
    "\n",
    "adding a class attribute status with value `Undefined`. Now, create an instance. What value does the status attribute of the instance have? Why? What happens if you change the value of status in the class?"
   ]
  },
  {
   "cell_type": "code",
   "execution_count": 9,
   "metadata": {},
   "outputs": [
    {
     "name": "stdout",
     "output_type": "stream",
     "text": [
      "Undefined\n",
      "disabled\n",
      "disabled\n"
     ]
    }
   ],
   "source": [
    "class Lift:\n",
    "    status = 'Undefined'\n",
    "\n",
    "    def __init__(self, f):\n",
    "        self.floor = f\n",
    "    \n",
    "    def open(self):\n",
    "        self.status = 'open'\n",
    "    \n",
    "    def close(self):\n",
    "        self.status = 'closed'\n",
    "\n",
    "l = Lift(1)\n",
    "print(l.status) # 'Undefined' (class attributes are being shared amoung all instances)\n",
    "Lift.status = 'disabled'\n",
    "print(l.status) # 'disabled'\n",
    "l.__dict__\n",
    "print(Lift.__dict__['status'])\n"
   ]
  },
  {
   "cell_type": "markdown",
   "metadata": {},
   "source": [
    "adding a class attribute status with value 'closed' and remove `self.status` from `__init__`. Now, create an instance. What is the value of the status attribute? What happens if you change the value of status in the class? Call `open()`. What is the value of the status attribute? What happens if you change the value of status in the class?"
   ]
  },
  {
   "cell_type": "code",
   "execution_count": 10,
   "metadata": {},
   "outputs": [
    {
     "name": "stdout",
     "output_type": "stream",
     "text": [
      "closed\n",
      "open\n",
      "open\n",
      "{'floor': 1, 'status': 'open'}\n",
      "Closed\n"
     ]
    }
   ],
   "source": [
    "class Lift:\n",
    "    status = 'closed'\n",
    "\n",
    "    def __init__(self, f):\n",
    "        self.floor = f\n",
    "    \n",
    "    def open(self):\n",
    "        self.status = 'open'\n",
    "    \n",
    "    def close(self):\n",
    "        self.status = 'closed'\n",
    "\n",
    "l = Lift(1)\n",
    "print(l.status) # 'closed'\n",
    "Lift.status = 'disabled'\n",
    "l.open() \n",
    "print(l.status) # 'open'\n",
    "Lift.status = 'Closed'\n",
    "print(l.status) # 'open'\n",
    "\n",
    "print(l.__dict__)\n",
    "print(Lift.__dict__['status'])"
   ]
  },
  {
   "cell_type": "markdown",
   "metadata": {},
   "source": [
    "## Part 5 - Inheritance Exercise"
   ]
  },
  {
   "cell_type": "code",
   "execution_count": 11,
   "metadata": {},
   "outputs": [],
   "source": [
    "class Lift:\n",
    "    def __init__(self, f, s):\n",
    "        self.floor = f\n",
    "        self.status = s\n",
    "    \n",
    "    def open(self):\n",
    "        self.status = 'open'\n",
    "    \n",
    "    def close(self):\n",
    "        self.status = 'closed'"
   ]
  },
  {
   "cell_type": "code",
   "execution_count": 12,
   "metadata": {},
   "outputs": [],
   "source": [
    "class SecurityLift(Lift):\n",
    "    # Exercise 01: Starting with `Lift` and `SecurityLift` that inherits from it, \n",
    "    # modify `SecurityLift` adding a custom `__init__` method that creates the attribute self.locked.\n",
    "    def __init__(self, f, s, locked=False):\n",
    "        super().__init__(f, s)\n",
    "        self.locked = locked\n",
    "    \n",
    "    # Exercise 02: Change the `SecurityLift` method open to work with `self.locked` (i.e. you can open it only if it is not locked)\n",
    "    def open(self):\n",
    "        if not self.locked:\n",
    "            super().open()\n",
    "\n",
    "    # Exercise 03: Change the `SecurityLift` method `close` to accept an optional parameter `locked` that sets the locked attribute\n",
    "    def close(self, locked=False):\n",
    "        super().close()\n",
    "        self.locked = locked"
   ]
  },
  {
   "cell_type": "markdown",
   "metadata": {},
   "source": [
    "## Part 6 - Polymorphism Exercise\n",
    "\n",
    "Create a class CustomInteger that contains an integer as self.value and with a __len__ method that returns the number of digits of the integer. Does len work for instances of this class? (hint: convert the integer into a string with str and count the characters)"
   ]
  },
  {
   "cell_type": "code",
   "execution_count": 13,
   "metadata": {},
   "outputs": [],
   "source": [
    "class CustomInteger:\n",
    "    def __init__(self, value):\n",
    "        self.value = value\n",
    "    \n",
    "    def __len__(self):\n",
    "        return len(str(self.value))"
   ]
  },
  {
   "cell_type": "code",
   "execution_count": 14,
   "metadata": {},
   "outputs": [
    {
     "data": {
      "text/plain": [
       "4"
      ]
     },
     "execution_count": 14,
     "metadata": {},
     "output_type": "execute_result"
    }
   ],
   "source": [
    "c = CustomInteger(1357)\n",
    "len(c)"
   ]
  },
  {
   "cell_type": "markdown",
   "metadata": {},
   "source": [
    "Add a `__contains__` method to CustomInteger that returns `True` if `self.value` contains the given digit. Does in work for this type?"
   ]
  },
  {
   "cell_type": "code",
   "execution_count": 15,
   "metadata": {},
   "outputs": [],
   "source": [
    "class CustomInteger:\n",
    "    def __init__(self, value):\n",
    "        self.value = value\n",
    "    \n",
    "    def __len__(self):\n",
    "        return len(str(self.value))\n",
    "    \n",
    "    def __contains__(self, digit):\n",
    "        return str(digit) in str(self.value)"
   ]
  },
  {
   "cell_type": "code",
   "execution_count": 16,
   "metadata": {},
   "outputs": [
    {
     "data": {
      "text/plain": [
       "True"
      ]
     },
     "execution_count": 16,
     "metadata": {},
     "output_type": "execute_result"
    }
   ],
   "source": [
    "c = CustomInteger(1357)\n",
    "7 in c"
   ]
  },
  {
   "cell_type": "markdown",
   "metadata": {},
   "source": [
    "Try to use str on an instance of `CustomInteger` (e.g. `str(c))`. What happens? How can you return a better string representation, for example showing the actual value? (hint: try to define the method `__str__`)"
   ]
  },
  {
   "cell_type": "code",
   "execution_count": 17,
   "metadata": {},
   "outputs": [],
   "source": [
    "class CustomInteger:\n",
    "    def __init__(self, value):\n",
    "        self.value = value\n",
    "    \n",
    "    def __len__(self):\n",
    "        return len(str(self.value))\n",
    "    \n",
    "    def __contains__(self, digit):\n",
    "        return str(digit) in str(self.value)\n",
    "    \n",
    "    def __str__(self):\n",
    "        return f'{super().__str__} {(str(self.value))}'"
   ]
  },
  {
   "cell_type": "code",
   "execution_count": 18,
   "metadata": {},
   "outputs": [
    {
     "name": "stdout",
     "output_type": "stream",
     "text": [
      "<method-wrapper '__str__' of CustomInteger object at 0x7f061225bc70> 1357\n"
     ]
    },
    {
     "data": {
      "text/plain": [
       "\"<method-wrapper '__str__' of CustomInteger object at 0x7f061225bc70> 1357\""
      ]
     },
     "execution_count": 18,
     "metadata": {},
     "output_type": "execute_result"
    }
   ],
   "source": [
    "c = CustomInteger(1357)\n",
    "print(c)\n",
    "str(c)"
   ]
  }
 ],
 "metadata": {
  "kernelspec": {
   "display_name": "Python 3 (system-wide)",
   "language": "python",
   "name": "python3"
  },
  "language_info": {
   "codemirror_mode": {
    "name": "ipython",
    "version": 3
   },
   "file_extension": ".py",
   "mimetype": "text/x-python",
   "name": "python",
   "nbconvert_exporter": "python",
   "pygments_lexer": "ipython3",
   "version": "3.10.12"
  }
 },
 "nbformat": 4,
 "nbformat_minor": 2
}
