{
 "cells": [
  {
   "cell_type": "markdown",
   "metadata": {},
   "source": [
    "# The Perils of Inheritance: Why We Should Prefer Composition\n",
    "\n",
    "* PyCon US (2019) — [The Perils of Inheritance: Why We Should Prefer Composition](https://www.youtube.com/watch?v=YXiaWtc0cgE) by Ariel Ortiz\n",
    "\n",
    "## Inheritance\n",
    "\n",
    "- Advantages\n",
    "    - Easy to code reuse\n",
    "    - Allow changing inherited implementation\n",
    "- Disadvantages\n",
    "    - It supports weak encapsulation & fragile structure\n",
    "    - Relationship between base & derived classes are statically fixed\n",
    "    - Derived class inherits everything from base class, even things it doesn't need\n",
    "    - Changes in a base class interface impact all derived classes\n",
    "\n",
    "## Composition\n",
    "\n",
    "- Advantages\n",
    "    - Supports Good encapsulation & adaptable structure\n",
    "    - Configuarable at runtime\n",
    "    - Interface changes have limited ripple effect\n",
    "- Disadvantages\n",
    "    - Sometimes hard to read code than inheritance\n",
    "    - More code to write than inheritance\n",
    "\n",
    "## When to use Inheritance\n",
    "\n",
    "- when derived class & base class are in the same module/package & under the control of same programmers.\n",
    "- when extending classes are specially designed & documented for extension "
   ]
  }
 ],
 "metadata": {
  "kernelspec": {
   "display_name": "Python 3 (system-wide)",
   "language": "python",
   "name": "python3"
  },
  "language_info": {
   "codemirror_mode": {
    "name": "ipython",
    "version": 3
   },
   "file_extension": ".py",
   "mimetype": "text/x-python",
   "name": "python",
   "nbconvert_exporter": "python",
   "pygments_lexer": "ipython3",
   "version": "3.10.12"
  }
 },
 "nbformat": 4,
 "nbformat_minor": 2
}
