{
 "cells": [
  {
   "cell_type": "markdown",
   "metadata": {},
   "source": [
    "# Context Managers: You Can Write Your Own\n",
    "\n",
    "<a href=\"https://www.youtube.com/watch?v=-tpn94V9vK4\">\n",
    "    <img src=\"https://i.ibb.co/3zzNTJw/image.png\" alt=\"Context Managers: You Can Write Your Own!\">\n",
    "</a>"
   ]
  },
  {
   "cell_type": "code",
   "execution_count": 1,
   "metadata": {},
   "outputs": [
    {
     "name": "stdout",
     "output_type": "stream",
     "text": [
      "Enter!!\n",
      "55\n",
      "Inside the block\n",
      "Exit!\n"
     ]
    }
   ],
   "source": [
    "# Context manager any class that have __enter__ & __exit__ method\n",
    "class MyContextManager:\n",
    "    def __enter__(self):\n",
    "        print('Enter!!')\n",
    "        return 55\n",
    "    \n",
    "    def __exit__(self, *args):\n",
    "        print('Exit!')\n",
    "\n",
    "with MyContextManager() as context:\n",
    "    print(context) # 55\n",
    "    print('Inside the block')"
   ]
  },
  {
   "cell_type": "code",
   "execution_count": 2,
   "metadata": {},
   "outputs": [
    {
     "name": "stdout",
     "output_type": "stream",
     "text": [
      "Enter\n",
      "<class 'int'>\n",
      "5555\n",
      "Inside the block\n",
      "Exit\n"
     ]
    }
   ],
   "source": [
    "from contextlib import contextmanager\n",
    "\n",
    "@contextmanager\n",
    "def MyContextManger():\n",
    "    print('Enter')\n",
    "    yield 5555\n",
    "    print('Exit')\n",
    "\n",
    "with MyContextManger() as context:\n",
    "    print(type(context))\n",
    "    print(context) # 5555\n",
    "    print('Inside the block')"
   ]
  },
  {
   "cell_type": "code",
   "execution_count": 3,
   "metadata": {},
   "outputs": [
    {
     "name": "stdout",
     "output_type": "stream",
     "text": [
      "Enter: {'dairy': 'Yuck'}\n",
      "None\n",
      "Exit: {'dairy': 'Yuck'}\n"
     ]
    }
   ],
   "source": [
    "class FoodContextManager():\n",
    "    def __init__(self, data):\n",
    "        self.data = data\n",
    "\n",
    "    def __enter__(self):\n",
    "        print(f\"Enter: {self.data}\")\n",
    "        # return self.data (with ... as (alias) received this data)\n",
    "\n",
    "    def __exit__(self, *args):\n",
    "        print(f\"Exit: {self.data}\")\n",
    "\n",
    "with FoodContextManager({'dairy': 'Yuck'}) as data:\n",
    "    print(data) "
   ]
  },
  {
   "cell_type": "code",
   "execution_count": 4,
   "metadata": {},
   "outputs": [
    {
     "name": "stdout",
     "output_type": "stream",
     "text": [
      "Enter {'dairy': 'Yuck'}\n",
      "{'dairy': 'Yuck'}\n",
      "Exit {'dairy': 'Yuck', 'milk': 'delicious'}\n"
     ]
    }
   ],
   "source": [
    "from contextlib import contextmanager\n",
    "\n",
    "@contextmanager\n",
    "def FoodContextManager(data):\n",
    "    print(f'Enter {data}')\n",
    "    yield data\n",
    "    print(f'Exit {data}')\n",
    "\n",
    "with FoodContextManager({'dairy': 'Yuck'}) as data:\n",
    "    print(data)\n",
    "    data['milk'] = 'delicious'\n",
    "    "
   ]
  },
  {
   "cell_type": "code",
   "execution_count": 5,
   "metadata": {},
   "outputs": [
    {
     "ename": "FileNotFoundError",
     "evalue": "[Errno 2] No such file or directory: 'myfile.txt'",
     "output_type": "error",
     "traceback": [
      "\u001b[0;31m---------------------------------------------------------------------------\u001b[0m",
      "\u001b[0;31mFileNotFoundError\u001b[0m                         Traceback (most recent call last)",
      "\u001b[0;32m/tmp/ipykernel_1079/2201157993.py\u001b[0m in \u001b[0;36m<cell line: 2>\u001b[0;34m()\u001b[0m\n\u001b[1;32m      1\u001b[0m \u001b[0;31m# Scope - variables defined inside it still exist!\u001b[0m\u001b[0;34m\u001b[0m\u001b[0;34m\u001b[0m\u001b[0m\n\u001b[0;32m----> 2\u001b[0;31m \u001b[0;32mwith\u001b[0m \u001b[0mopen\u001b[0m\u001b[0;34m(\u001b[0m\u001b[0;34m'myfile.txt'\u001b[0m\u001b[0;34m)\u001b[0m \u001b[0;32mas\u001b[0m \u001b[0mf\u001b[0m\u001b[0;34m:\u001b[0m\u001b[0;34m\u001b[0m\u001b[0;34m\u001b[0m\u001b[0m\n\u001b[0m\u001b[1;32m      3\u001b[0m     \u001b[0mcontent\u001b[0m \u001b[0;34m=\u001b[0m \u001b[0mf\u001b[0m\u001b[0;34m.\u001b[0m\u001b[0mread\u001b[0m\u001b[0;34m(\u001b[0m\u001b[0;34m)\u001b[0m\u001b[0;34m\u001b[0m\u001b[0;34m\u001b[0m\u001b[0m\n\u001b[1;32m      4\u001b[0m \u001b[0;34m\u001b[0m\u001b[0m\n\u001b[1;32m      5\u001b[0m \u001b[0mprint\u001b[0m\u001b[0;34m(\u001b[0m\u001b[0mcontent\u001b[0m\u001b[0;34m)\u001b[0m\u001b[0;34m\u001b[0m\u001b[0;34m\u001b[0m\u001b[0m\n",
      "\u001b[0;31mFileNotFoundError\u001b[0m: [Errno 2] No such file or directory: 'myfile.txt'"
     ]
    }
   ],
   "source": [
    "# Scope - variables defined inside it still exist!\n",
    "with open('myfile.txt') as f:\n",
    "    content = f.read()\n",
    "\n",
    "print(content)"
   ]
  },
  {
   "cell_type": "markdown",
   "metadata": {},
   "source": [
    "## Exception handling in `__exit__` method\n",
    "\n",
    "- wanna igonre exception?\n",
    "    - return `True`\n",
    "- wanna raise exception?\n",
    "    - return `False`\n",
    "- don't explicitly re-raise exception"
   ]
  },
  {
   "cell_type": "code",
   "execution_count": 6,
   "metadata": {},
   "outputs": [
    {
     "name": "stdout",
     "output_type": "stream",
     "text": [
      "Before\n",
      "division by zero\n",
      "After\n"
     ]
    }
   ],
   "source": [
    "# exception handling in __exit__ method\n",
    "from contextlib import contextmanager\n",
    "\n",
    "@contextmanager\n",
    "def myManager():\n",
    "    print('Before')\n",
    "    try:\n",
    "        yield\n",
    "    except ZeroDivisionError as e:\n",
    "        print(e)\n",
    "    finally:\n",
    "        print('After')\n",
    "\n",
    "with myManager() as m:\n",
    "    print(1 / 0)"
   ]
  }
 ],
 "metadata": {
  "kernelspec": {
   "display_name": "Python 3 (system-wide)",
   "language": "python",
   "name": "python3"
  },
  "language_info": {
   "codemirror_mode": {
    "name": "ipython",
    "version": 3
   },
   "file_extension": ".py",
   "mimetype": "text/x-python",
   "name": "python",
   "nbconvert_exporter": "python",
   "pygments_lexer": "ipython3",
   "version": "3.10.12"
  }
 },
 "nbformat": 4,
 "nbformat_minor": 2
}
