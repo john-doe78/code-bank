{
 "cells": [
  {
   "cell_type": "markdown",
   "id": "82b372e1",
   "metadata": {},
   "source": [
    "# Introduction to Decorators: Power UP Your Python Code\n",
    "\n",
    "* PyCon US (2021) — [Introduction to Decorators: Power UP Your Python Code](https://www.youtube.com/watch?v=VWZAh1QrqRE) by Geir Arne Hjelle"
   ]
  },
  {
   "cell_type": "code",
   "execution_count": 1,
   "id": "3fdd484b",
   "metadata": {},
   "outputs": [
    {
     "data": {
      "text/plain": [
       "'DEBUG: Hi Pycon!'"
      ]
     },
     "execution_count": 1,
     "metadata": {},
     "output_type": "execute_result"
    }
   ],
   "source": [
    "def prefix_factory(prefix):\n",
    "    def prefix_printer(text):\n",
    "        return f'{prefix}: {text}'\n",
    "    return prefix_printer\n",
    "\n",
    "debug = prefix_factory('DEBUG')\n",
    "debug('Hi Pycon!')"
   ]
  },
  {
   "cell_type": "code",
   "execution_count": 2,
   "id": "fe6034da",
   "metadata": {},
   "outputs": [
    {
     "name": "stdout",
     "output_type": "stream",
     "text": [
      "fnoC ,iH\n"
     ]
    }
   ],
   "source": [
    "def reverse_factory(func):\n",
    "    def reverse_caller(text):\n",
    "        func(f'{text[::-1]}')\n",
    "    return reverse_caller\n",
    "\n",
    "reverse_print = reverse_factory(print)\n",
    "reverse_print('Hi, Conf')"
   ]
  },
  {
   "cell_type": "code",
   "execution_count": 3,
   "id": "85f715eb",
   "metadata": {},
   "outputs": [
    {
     "name": "stdout",
     "output_type": "stream",
     "text": [
      "HI fnoC ybuR\n"
     ]
    }
   ],
   "source": [
    "@reverse_factory\n",
    "def greet(text):\n",
    "    print(f'HI {text}')\n",
    "\n",
    "greet('Ruby Conf')"
   ]
  },
  {
   "cell_type": "markdown",
   "id": "ca0c4e98",
   "metadata": {},
   "source": [
    "## Exercise 01\n",
    "\n",
    "write a decorator thar prints `BEFORE` before calling the decorated function and `AFTER` afterwards.\n",
    "\n",
    "```py\n",
    "@before_and_after\n",
    "def greet(name):\n",
    "    print(f'Hi {name}')\n",
    "\n",
    "greet('PyCon')\n",
    "```\n",
    "\n",
    "BEFORE <br>\n",
    "Hi PyCon! <br>\n",
    "AFTER <br>"
   ]
  },
  {
   "cell_type": "code",
   "execution_count": 4,
   "id": "8dc8ecad",
   "metadata": {},
   "outputs": [
    {
     "name": "stdout",
     "output_type": "stream",
     "text": [
      "BEFORE\n",
      "Hi PyCon!\n",
      "AFTER\n"
     ]
    }
   ],
   "source": [
    "def before_and_after(func):\n",
    "    def wrapper(*args, **kwargs):\n",
    "        print('BEFORE')\n",
    "        func(*args, **kwargs)\n",
    "        print('AFTER')\n",
    "    return wrapper\n",
    "\n",
    "@before_and_after\n",
    "def greet(name):\n",
    "    print(f'Hi {name}!')\n",
    "\n",
    "greet('PyCon')"
   ]
  },
  {
   "cell_type": "code",
   "execution_count": 5,
   "id": "b1ebe24f",
   "metadata": {},
   "outputs": [
    {
     "name": "stdout",
     "output_type": "stream",
     "text": [
      "BEFORE\n",
      "11\n",
      "AFTER\n"
     ]
    }
   ],
   "source": [
    "def before_and_after_(func):\n",
    "    def wrapper(*args, **kwargs):\n",
    "        print('BEFORE')\n",
    "        print(func(*args, **kwargs))\n",
    "        print('AFTER')\n",
    "    return wrapper\n",
    "\n",
    "\n",
    "@before_and_after_\n",
    "def adder(a, b):\n",
    "    return sum((a,b))\n",
    "\n",
    "adder(1, 10)"
   ]
  },
  {
   "cell_type": "markdown",
   "id": "77b299d6",
   "metadata": {},
   "source": [
    "## Exercise 02\n",
    "\n",
    "write a decorator that runs the decorated function twice and returns a 2-tuple with both return values\n",
    "\n",
    "```py\n",
    "import random\n",
    "@do_twice\n",
    "def roll_dice():\n",
    "    return random.randint(1, 6)\n",
    "```"
   ]
  },
  {
   "cell_type": "code",
   "execution_count": 6,
   "id": "ebf0612b",
   "metadata": {},
   "outputs": [
    {
     "data": {
      "text/plain": [
       "(4, 1)"
      ]
     },
     "execution_count": 6,
     "metadata": {},
     "output_type": "execute_result"
    }
   ],
   "source": [
    "import random\n",
    "\n",
    "def do_twice(func):\n",
    "    def wrapper(*args, **kwargs):\n",
    "        first_value = func(*args, **kwargs)\n",
    "        second_value = func(*args, **kwargs)\n",
    "        \n",
    "        return first_value, second_value\n",
    "    return wrapper\n",
    "\n",
    "@do_twice\n",
    "def roll_dice():\n",
    "    return random.randint(1, 6)\n",
    "\n",
    "roll_dice()"
   ]
  },
  {
   "cell_type": "code",
   "execution_count": 7,
   "id": "81628679",
   "metadata": {},
   "outputs": [
    {
     "name": "stdout",
     "output_type": "stream",
     "text": [
      "Defining roll_dice\n",
      "5\n"
     ]
    }
   ],
   "source": [
    "import random\n",
    "\n",
    "def define(func):\n",
    "    print(f'Defining {func.__name__}')\n",
    "    return func\n",
    "\n",
    "@define\n",
    "def roll_dice():\n",
    "    return random.randint(1, 6)\n",
    "\n",
    "print(roll_dice())"
   ]
  },
  {
   "cell_type": "code",
   "execution_count": 8,
   "id": "8269fb7b",
   "metadata": {},
   "outputs": [
    {
     "name": "stdout",
     "output_type": "stream",
     "text": [
      "<function roll_dice at 0x7f9ddc21bd00>\n"
     ]
    }
   ],
   "source": [
    "print(roll_dice)"
   ]
  },
  {
   "cell_type": "markdown",
   "id": "74a48d3c",
   "metadata": {},
   "source": [
    "## Exercise 03\n",
    "\n",
    "write a decorator that stores references to decorated functions in a dictionary\n",
    "\n",
    "```py\n",
    "FUNCTIONS = {}\n",
    "@register\n",
    "def roll_dice():\n",
    "    return random.randint(1, 6)\n",
    "```"
   ]
  },
  {
   "cell_type": "code",
   "execution_count": 9,
   "id": "b71dece8",
   "metadata": {},
   "outputs": [
    {
     "name": "stdout",
     "output_type": "stream",
     "text": [
      "{'roll_dice': <function roll_dice at 0x7f9ddb888280>}\n",
      "3\n"
     ]
    }
   ],
   "source": [
    "# Mine solution was\n",
    "\n",
    "import random\n",
    "\n",
    "FUNCTIONS = {}\n",
    "def register(func):\n",
    "    def wrapper(*args, **kwargs):\n",
    "        FUNCTIONS[func.__name__] = func\n",
    "        return func(*args, **kwargs)\n",
    "    return wrapper\n",
    "\n",
    "@register\n",
    "def roll_dice():\n",
    "    return random.randint(1, 6)\n",
    "\n",
    "roll_dice()\n",
    "print(FUNCTIONS)\n",
    "print(FUNCTIONS['roll_dice']())"
   ]
  },
  {
   "cell_type": "code",
   "execution_count": 10,
   "id": "a852e47f",
   "metadata": {},
   "outputs": [
    {
     "name": "stdout",
     "output_type": "stream",
     "text": [
      "{'roll_dice': <function roll_dice at 0x7f9ddb8881f0>}\n",
      "2\n"
     ]
    }
   ],
   "source": [
    "# solution\n",
    "\n",
    "import random\n",
    "\n",
    "FUNCTIONS = {}\n",
    "def register(func):\n",
    "    FUNCTIONS[func.__name__] = func\n",
    "    return func\n",
    "\n",
    "@register\n",
    "def roll_dice():\n",
    "    return random.randint(1, 6)\n",
    "\n",
    "# roll_dice()\n",
    "print(FUNCTIONS)\n",
    "print(FUNCTIONS['roll_dice']())"
   ]
  },
  {
   "cell_type": "code",
   "execution_count": 11,
   "id": "4f8becf1",
   "metadata": {},
   "outputs": [
    {
     "name": "stdout",
     "output_type": "stream",
     "text": [
      "BEFORE\n",
      "Hi PyConf\n",
      "AFTER\n",
      "BEFORE\n",
      "Hi PyConf\n",
      "AFTER\n",
      "(None, None)\n"
     ]
    }
   ],
   "source": [
    "# Does Order Matter? Yes, It's matter\n",
    "\n",
    "def do_twice(func):\n",
    "    def wrapper(*args, **kwargs):\n",
    "        first_value = func(*args, **kwargs)\n",
    "        second_value = func(*args, **kwargs)\n",
    "        return first_value, second_value\n",
    "    return wrapper\n",
    "\n",
    "def before_and_after(func):\n",
    "    def wrapper(*args, **kwargs):\n",
    "        print('BEFORE')\n",
    "        func(*args, **kwargs)\n",
    "        print('AFTER')\n",
    "    return wrapper\n",
    "\n",
    "@do_twice\n",
    "@before_and_after\n",
    "def greet(name):\n",
    "    print(f'Hi {name}')\n",
    "\n",
    "# greet = do_twice(before_and_after(greet))\n",
    "print(greet('PyConf'))"
   ]
  },
  {
   "cell_type": "code",
   "execution_count": 12,
   "id": "369122c7",
   "metadata": {},
   "outputs": [
    {
     "name": "stdout",
     "output_type": "stream",
     "text": [
      "BEFORE\n",
      "Hi PyConf\n",
      "Hi PyConf\n",
      "AFTER\n",
      "None\n"
     ]
    }
   ],
   "source": [
    "def do_twice(func):\n",
    "    def wrapper(*args, **kwargs):\n",
    "        first_value = func(*args, **kwargs)\n",
    "        second_value = func(*args, **kwargs)\n",
    "        return first_value, second_value\n",
    "    return wrapper\n",
    "\n",
    "def before_and_after(func):\n",
    "    def wrapper(*args, **kwargs):\n",
    "        print('BEFORE')\n",
    "        func(*args, **kwargs)\n",
    "        print('AFTER')\n",
    "    return wrapper\n",
    "\n",
    "@before_and_after\n",
    "@do_twice\n",
    "def greet(name):\n",
    "    print(f'Hi {name}')\n",
    "\n",
    "print(greet('PyConf'))"
   ]
  },
  {
   "cell_type": "markdown",
   "id": "e79d0f21",
   "metadata": {},
   "source": [
    "## Exercise 04\n",
    "\n",
    "write a decorator that repeatedly calls the decorated function as long as it raises an exception\n",
    "\n",
    "```py\n",
    "@retry\n",
    "def only_roll_sixes():\n",
    "    number = random.randint(1, 6)\n",
    "    if number != 6:\n",
    "        raise ValueError(number)\n",
    "    return number\n",
    "```"
   ]
  },
  {
   "cell_type": "code",
   "execution_count": 13,
   "id": "8eec990c",
   "metadata": {},
   "outputs": [
    {
     "name": "stdout",
     "output_type": "stream",
     "text": [
      "6\n"
     ]
    }
   ],
   "source": [
    "import random\n",
    "\n",
    "def retry(func):\n",
    "    def wrapper(*args, **kwargs):\n",
    "        while True:\n",
    "            try:\n",
    "                return func(*args, **kwargs)\n",
    "            except ValueError as e:\n",
    "                print(f'Retrying({e})')\n",
    "    return wrapper\n",
    "\n",
    "@retry\n",
    "def only_roll_sixes():\n",
    "    number = random.randint(1, 6)\n",
    "    if number != 6:\n",
    "        raise ValueError(number)\n",
    "    return number\n",
    "\n",
    "print(only_roll_sixes())"
   ]
  },
  {
   "cell_type": "markdown",
   "id": "6dd3ddee",
   "metadata": {},
   "source": [
    "## Exercise 05 (Hard)\n",
    "\n",
    "Rewrite `@retry` so that it only retries on specific, user-defined exceptions..\n",
    "\n",
    "```py\n",
    "@retry(ValueError)\n",
    "def calculation():\n",
    "    number = random.randint(-5, 5)\n",
    "    if abs(1 / number) > 0.2:\n",
    "        raise ValueError(number)\n",
    "    return number\n",
    "```"
   ]
  },
  {
   "cell_type": "code",
   "execution_count": 14,
   "id": "8d3eba1a",
   "metadata": {},
   "outputs": [
    {
     "name": "stdout",
     "output_type": "stream",
     "text": [
      "Retrying 1\n",
      "5\n"
     ]
    }
   ],
   "source": [
    "# we need one more level nesting to solve this problem\n",
    "\n",
    "import functools\n",
    "import random\n",
    "\n",
    "def retry(exception):\n",
    "    def deco(func):\n",
    "        @functools.wraps(func)\n",
    "        def wrapper(*args, **kwargs):\n",
    "            while True:\n",
    "                try:\n",
    "                    return func(*args, **kwargs)\n",
    "                except exception as e:\n",
    "                    print(f'Retrying {e}')\n",
    "        return wrapper\n",
    "    return deco\n",
    "\n",
    "@retry(ValueError)\n",
    "def calculation():\n",
    "    number = random.randint(-5, 5)\n",
    "    if abs(1 / number) > 0.2:\n",
    "        raise ValueError(number)\n",
    "    return number\n",
    "\n",
    "print(calculation())"
   ]
  },
  {
   "cell_type": "markdown",
   "id": "0e009720",
   "metadata": {},
   "source": [
    "## Exercise 06\n",
    "\n",
    "Adapt @retry so that it only tries a maximum of max_retries times\n",
    "\n",
    "```py\n",
    "@retry(max_retries=3)\n",
    "def only_roll_sixes():\n",
    "    number = random.randint(1, 6)\n",
    "    if number != 6:\n",
    "        raise ValueError(number)\n",
    "    return number\n",
    "```"
   ]
  },
  {
   "cell_type": "code",
   "execution_count": 15,
   "id": "ccf09df1",
   "metadata": {},
   "outputs": [
    {
     "name": "stdout",
     "output_type": "stream",
     "text": [
      "Retrying 3\n",
      "6\n"
     ]
    }
   ],
   "source": [
    "import functools\n",
    "import random\n",
    "\n",
    "def retry(max_retries=1):\n",
    "    def deco(func):\n",
    "        @functools.wraps(func)\n",
    "        def wrapper(*args, **kwargs):\n",
    "            for i in range(0, max_retries):\n",
    "                try:\n",
    "                    return func(*args, **kwargs)\n",
    "                except Exception as e:\n",
    "                    print(f'Retrying {e}')\n",
    "        return wrapper\n",
    "    return deco\n",
    "\n",
    "@retry(max_retries=3)\n",
    "def only_roll_sixes():\n",
    "    number = random.randint(1, 6)\n",
    "    if number != 6:\n",
    "        raise ValueError(number)\n",
    "    return number\n",
    "\n",
    "print(only_roll_sixes())"
   ]
  },
  {
   "cell_type": "code",
   "execution_count": 16,
   "id": "ec16b6bc",
   "metadata": {},
   "outputs": [
    {
     "name": "stdout",
     "output_type": "stream",
     "text": [
      "Before\n",
      "Hi, PyConf\n",
      "After\n"
     ]
    }
   ],
   "source": [
    "# we can use class decorator as well\n",
    "\n",
    "class BeforeAndAfter:\n",
    "    def __init__(self, func):\n",
    "        functools.update_wrapper(self, func)\n",
    "        self.func = func\n",
    "    def __call__(self, *args, **kwargs):\n",
    "        print('Before')\n",
    "        value = self.func(*args, **kwargs)\n",
    "        print('After')\n",
    "        return value\n",
    "\n",
    "@BeforeAndAfter\n",
    "def greet(name):\n",
    "    print(f'Hi, {name}')\n",
    "\n",
    "greet('PyConf')\n"
   ]
  },
  {
   "cell_type": "markdown",
   "id": "841f5e8a",
   "metadata": {},
   "source": [
    "## Exercise 07\n",
    "\n",
    "write a class based `@Retry` decorator that keeps track of the number of retries across all function calls\n",
    "\n",
    "```py\n",
    "@Retry\n",
    "def only_roll_sixes():\n",
    "    number = random.randint(1, 6)\n",
    "    if number != 6:\n",
    "        raise ValueError(number)\n",
    "    return number\n",
    "```"
   ]
  },
  {
   "cell_type": "code",
   "execution_count": 17,
   "id": "9d44b3bc",
   "metadata": {},
   "outputs": [
    {
     "name": "stdout",
     "output_type": "stream",
     "text": [
      "0\n",
      "Retry attempt 1\n",
      "Retry attempt 2\n",
      "Retry attempt 3\n",
      "Retry attempt 4\n",
      "Retry attempt 5\n",
      "Retry attempt 6\n",
      "Retry attempt 7\n",
      "6\n",
      "7\n"
     ]
    }
   ],
   "source": [
    "import random\n",
    "import functools\n",
    "\n",
    "class Retry:\n",
    "    def __init__(self, func):\n",
    "        functools.update_wrapper(self, func)\n",
    "        self.func = func\n",
    "        self.num_retries = 0\n",
    "    \n",
    "    def __call__(self, *args, **kwargs):\n",
    "        while True:\n",
    "            try:\n",
    "                return self.func(*args, **kwargs)\n",
    "            except Exception:\n",
    "                self.num_retries += 1\n",
    "                print(f'Retry attempt {self.num_retries}')\n",
    "\n",
    "@Retry\n",
    "def only_roll_sixes():\n",
    "    number = random.randint(1, 6)\n",
    "    if number != 6:\n",
    "        raise ValueError(number)\n",
    "    return number\n",
    "\n",
    "print(only_roll_sixes.num_retries)\n",
    "print(only_roll_sixes())\n",
    "print(only_roll_sixes.num_retries)"
   ]
  }
 ],
 "metadata": {
  "kernelspec": {
   "display_name": "Python 3 (system-wide)",
   "language": "python",
   "name": "python3"
  },
  "language_info": {
   "codemirror_mode": {
    "name": "ipython",
    "version": 3
   },
   "file_extension": ".py",
   "mimetype": "text/x-python",
   "name": "python",
   "nbconvert_exporter": "python",
   "pygments_lexer": "ipython3",
   "version": "3.10.12"
  }
 },
 "nbformat": 4,
 "nbformat_minor": 5
}
