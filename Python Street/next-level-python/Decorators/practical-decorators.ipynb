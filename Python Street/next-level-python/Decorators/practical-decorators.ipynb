{
 "metadata": {
  "language_info": {
   "codemirror_mode": {
    "name": "ipython",
    "version": 3
   },
   "file_extension": ".py",
   "mimetype": "text/x-python",
   "name": "python",
   "nbconvert_exporter": "python",
   "pygments_lexer": "ipython3",
   "version": "3.8.4-final"
  },
  "orig_nbformat": 2,
  "kernelspec": {
   "name": "python3",
   "display_name": "Python 3.8.4 32-bit",
   "metadata": {
    "interpreter": {
     "hash": "c7f23210fe948138299b44c825f8d614c2df95c372787f4166c017b0c02863dd"
    }
   }
  }
 },
 "nbformat": 4,
 "nbformat_minor": 2,
 "cells": [
  {
   "source": [
    "Conf Video URL - https://www.youtube.com/watch?v=MjHpMCIvwsY"
   ],
   "cell_type": "markdown",
   "metadata": {}
  },
  {
   "source": [
    "### Example 1: Timing\n",
    "How long does it take for a funciton to run?"
   ],
   "cell_type": "markdown",
   "metadata": {}
  },
  {
   "cell_type": "code",
   "execution_count": 26,
   "metadata": {},
   "outputs": [
    {
     "output_type": "stream",
     "name": "stdout",
     "text": [
      "0\n",
      "0\n",
      "1\n",
      "0\n",
      "2\n",
      "0\n",
      "3\n",
      "0\n",
      "4\n",
      "0\n",
      "1\n",
      "0\n",
      "2\n",
      "1\n",
      "3\n",
      "2\n",
      "4\n",
      "3\n",
      "5\n",
      "4\n",
      "2\n",
      "0\n",
      "3\n",
      "2\n",
      "4\n",
      "4\n",
      "5\n",
      "6\n",
      "6\n",
      "8\n",
      "3\n",
      "0\n",
      "4\n",
      "3\n",
      "5\n",
      "6\n",
      "6\n",
      "9\n",
      "7\n",
      "12\n",
      "4\n",
      "0\n",
      "5\n",
      "4\n",
      "6\n",
      "8\n",
      "7\n",
      "12\n",
      "8\n",
      "16\n"
     ]
    }
   ],
   "source": [
    "import time\n",
    "\n",
    "def logtime(func):\n",
    "    def wrapper(*args, **kwargs):\n",
    "        start_time = time.time()\n",
    "        result = func(*args, **kwargs)\n",
    "        total_time = time.time() - start_time\n",
    "\n",
    "        with open('timelog.txt', 'w') as outfile:\n",
    "            outfile.write(f'{time.time()}\\t{func.__name__}\\t{total_time}')\n",
    "        return result\n",
    "    return wrapper\n",
    "\n",
    "if __name__ == '__main__':\n",
    "    @logtime\n",
    "    def slow_add(a, b):\n",
    "        time.sleep(2)\n",
    "        return a + b\n",
    "\n",
    "    @logtime\n",
    "    def slow_mul(a, b):\n",
    "        time.sleep(3)\n",
    "        return a * b\n",
    "\n",
    "    for i in range(5):\n",
    "        for j in range(5):\n",
    "            print(slow_add(i, j))\n",
    "            print(slow_mul(i, j))"
   ]
  },
  {
   "source": [
    "### Example 2: Once per minute\n",
    "Raise an exeception if we try to run a function more than once in 60 seconds"
   ],
   "cell_type": "markdown",
   "metadata": {}
  },
  {
   "cell_type": "code",
   "execution_count": 24,
   "metadata": {},
   "outputs": [
    {
     "output_type": "stream",
     "name": "stdout",
     "text": [
      "4\n"
     ]
    },
    {
     "output_type": "error",
     "ename": "CalledTooOftenError",
     "evalue": "Only 0.0009996891021728516 has passed",
     "traceback": [
      "\u001b[1;31m---------------------------------------------------------------------------\u001b[0m",
      "\u001b[1;31mCalledTooOftenError\u001b[0m                       Traceback (most recent call last)",
      "\u001b[1;32m~\\AppData\\Local\\Temp/ipykernel_3308/424660455.py\u001b[0m in \u001b[0;36m<module>\u001b[1;34m\u001b[0m\n\u001b[0;32m     24\u001b[0m \u001b[1;33m\u001b[0m\u001b[0m\n\u001b[0;32m     25\u001b[0m     \u001b[0mprint\u001b[0m\u001b[1;33m(\u001b[0m\u001b[0madd\u001b[0m\u001b[1;33m(\u001b[0m\u001b[1;36m2\u001b[0m\u001b[1;33m,\u001b[0m \u001b[1;36m2\u001b[0m\u001b[1;33m)\u001b[0m\u001b[1;33m)\u001b[0m\u001b[1;33m\u001b[0m\u001b[1;33m\u001b[0m\u001b[0m\n\u001b[1;32m---> 26\u001b[1;33m     \u001b[0mprint\u001b[0m\u001b[1;33m(\u001b[0m\u001b[0madd\u001b[0m\u001b[1;33m(\u001b[0m\u001b[1;36m3\u001b[0m\u001b[1;33m,\u001b[0m \u001b[1;36m3\u001b[0m\u001b[1;33m)\u001b[0m\u001b[1;33m)\u001b[0m\u001b[1;33m\u001b[0m\u001b[1;33m\u001b[0m\u001b[0m\n\u001b[0m",
      "\u001b[1;32m~\\AppData\\Local\\Temp/ipykernel_3308/424660455.py\u001b[0m in \u001b[0;36mwrapper\u001b[1;34m(*args, **kwargs)\u001b[0m\n\u001b[0;32m     12\u001b[0m \u001b[1;33m\u001b[0m\u001b[0m\n\u001b[0;32m     13\u001b[0m         \u001b[1;32mif\u001b[0m \u001b[0melapsed_time\u001b[0m \u001b[1;33m<\u001b[0m \u001b[1;36m60\u001b[0m\u001b[1;33m:\u001b[0m\u001b[1;33m\u001b[0m\u001b[1;33m\u001b[0m\u001b[0m\n\u001b[1;32m---> 14\u001b[1;33m             \u001b[1;32mraise\u001b[0m \u001b[0mCalledTooOftenError\u001b[0m\u001b[1;33m(\u001b[0m\u001b[1;34mf'Only {elapsed_time} has passed'\u001b[0m\u001b[1;33m)\u001b[0m\u001b[1;33m\u001b[0m\u001b[1;33m\u001b[0m\u001b[0m\n\u001b[0m\u001b[0;32m     15\u001b[0m         \u001b[0mlast_invoked\u001b[0m \u001b[1;33m=\u001b[0m \u001b[0mtime\u001b[0m\u001b[1;33m.\u001b[0m\u001b[0mtime\u001b[0m\u001b[1;33m(\u001b[0m\u001b[1;33m)\u001b[0m\u001b[1;33m\u001b[0m\u001b[1;33m\u001b[0m\u001b[0m\n\u001b[0;32m     16\u001b[0m         \u001b[1;32mreturn\u001b[0m \u001b[0mfunc\u001b[0m\u001b[1;33m(\u001b[0m\u001b[1;33m*\u001b[0m\u001b[0margs\u001b[0m\u001b[1;33m,\u001b[0m \u001b[1;33m**\u001b[0m\u001b[0mkwargs\u001b[0m\u001b[1;33m)\u001b[0m\u001b[1;33m\u001b[0m\u001b[1;33m\u001b[0m\u001b[0m\n",
      "\u001b[1;31mCalledTooOftenError\u001b[0m: Only 0.0009996891021728516 has passed"
     ]
    }
   ],
   "source": [
    "import time\n",
    "\n",
    "class CalledTooOftenError(Exception): \n",
    "    pass\n",
    "\n",
    "def once_per_minute(func):\n",
    "    last_invoked = 0\n",
    "\n",
    "    def wrapper(*args, **kwargs):\n",
    "        nonlocal last_invoked\n",
    "        elapsed_time = time.time() - last_invoked\n",
    "\n",
    "        if elapsed_time < 60:\n",
    "            raise CalledTooOftenError(f'Only {elapsed_time} has passed')\n",
    "        last_invoked = time.time()\n",
    "        return func(*args, **kwargs)\n",
    "\n",
    "    return wrapper\n",
    "\n",
    "if __name__ == '__main__':\n",
    "    @once_per_minute\n",
    "    def add(a, b):\n",
    "        return a + b\n",
    "\n",
    "    print(add(2, 2))\n",
    "    print(add(3, 3))\n"
   ]
  },
  {
   "source": [
    "### Example 3: Once per n\n",
    "Raise an exeception if we try to run a function more than once in n seconds"
   ],
   "cell_type": "markdown",
   "metadata": {}
  },
  {
   "cell_type": "code",
   "execution_count": 22,
   "metadata": {},
   "outputs": [
    {
     "output_type": "stream",
     "name": "stdout",
     "text": [
      "4\n"
     ]
    },
    {
     "output_type": "error",
     "ename": "CalledTooOftenError",
     "evalue": "Only 3.0127012729644775 has passed",
     "traceback": [
      "\u001b[1;31m---------------------------------------------------------------------------\u001b[0m",
      "\u001b[1;31mCalledTooOftenError\u001b[0m                       Traceback (most recent call last)",
      "\u001b[1;32m~\\AppData\\Local\\Temp/ipykernel_3308/2074327603.py\u001b[0m in \u001b[0;36m<module>\u001b[1;34m\u001b[0m\n\u001b[0;32m     27\u001b[0m \u001b[1;33m\u001b[0m\u001b[0m\n\u001b[0;32m     28\u001b[0m     \u001b[0mprint\u001b[0m\u001b[1;33m(\u001b[0m\u001b[0mslow_add\u001b[0m\u001b[1;33m(\u001b[0m\u001b[1;36m2\u001b[0m\u001b[1;33m,\u001b[0m \u001b[1;36m2\u001b[0m\u001b[1;33m)\u001b[0m\u001b[1;33m)\u001b[0m\u001b[1;33m\u001b[0m\u001b[1;33m\u001b[0m\u001b[0m\n\u001b[1;32m---> 29\u001b[1;33m     \u001b[0mprint\u001b[0m\u001b[1;33m(\u001b[0m\u001b[0mslow_add\u001b[0m\u001b[1;33m(\u001b[0m\u001b[1;36m3\u001b[0m\u001b[1;33m,\u001b[0m \u001b[1;36m3\u001b[0m\u001b[1;33m)\u001b[0m\u001b[1;33m)\u001b[0m\u001b[1;33m\u001b[0m\u001b[1;33m\u001b[0m\u001b[0m\n\u001b[0m\u001b[0;32m     30\u001b[0m     \u001b[0mprint\u001b[0m\u001b[1;33m(\u001b[0m\u001b[0mslow_add\u001b[0m\u001b[1;33m(\u001b[0m\u001b[1;36m4\u001b[0m\u001b[1;33m,\u001b[0m \u001b[1;36m4\u001b[0m\u001b[1;33m)\u001b[0m\u001b[1;33m)\u001b[0m\u001b[1;33m\u001b[0m\u001b[1;33m\u001b[0m\u001b[0m\n",
      "\u001b[1;32m~\\AppData\\Local\\Temp/ipykernel_3308/2074327603.py\u001b[0m in \u001b[0;36mwrapper\u001b[1;34m(*args, **kwargs)\u001b[0m\n\u001b[0;32m     13\u001b[0m \u001b[1;33m\u001b[0m\u001b[0m\n\u001b[0;32m     14\u001b[0m             \u001b[1;32mif\u001b[0m \u001b[0melapsed_time\u001b[0m \u001b[1;33m<\u001b[0m \u001b[0mn\u001b[0m\u001b[1;33m:\u001b[0m\u001b[1;33m\u001b[0m\u001b[1;33m\u001b[0m\u001b[0m\n\u001b[1;32m---> 15\u001b[1;33m                 \u001b[1;32mraise\u001b[0m \u001b[0mCalledTooOftenError\u001b[0m\u001b[1;33m(\u001b[0m\u001b[1;34mf'Only {elapsed_time} has passed'\u001b[0m\u001b[1;33m)\u001b[0m\u001b[1;33m\u001b[0m\u001b[1;33m\u001b[0m\u001b[0m\n\u001b[0m\u001b[0;32m     16\u001b[0m             \u001b[0mlast_invoked\u001b[0m \u001b[1;33m=\u001b[0m \u001b[0mtime\u001b[0m\u001b[1;33m.\u001b[0m\u001b[0mtime\u001b[0m\u001b[1;33m(\u001b[0m\u001b[1;33m)\u001b[0m\u001b[1;33m\u001b[0m\u001b[1;33m\u001b[0m\u001b[0m\n\u001b[0;32m     17\u001b[0m             \u001b[1;32mreturn\u001b[0m \u001b[0mfunc\u001b[0m\u001b[1;33m(\u001b[0m\u001b[1;33m*\u001b[0m\u001b[0margs\u001b[0m\u001b[1;33m,\u001b[0m \u001b[1;33m**\u001b[0m\u001b[0mkwargs\u001b[0m\u001b[1;33m)\u001b[0m\u001b[1;33m\u001b[0m\u001b[1;33m\u001b[0m\u001b[0m\n",
      "\u001b[1;31mCalledTooOftenError\u001b[0m: Only 3.0127012729644775 has passed"
     ]
    }
   ],
   "source": [
    "import time\n",
    "\n",
    "class CalledTooOftenError(Exception): \n",
    "    pass\n",
    "\n",
    "def once_per_n(n):\n",
    "    def middle(func):\n",
    "        last_invoked = 0\n",
    "\n",
    "        def wrapper(*args, **kwargs):\n",
    "            nonlocal last_invoked\n",
    "            elapsed_time = time.time() - last_invoked\n",
    "\n",
    "            if elapsed_time < n:\n",
    "                raise CalledTooOftenError(f'Only {elapsed_time} has passed')\n",
    "            last_invoked = time.time()\n",
    "            return func(*args, **kwargs)\n",
    "        return wrapper\n",
    "    return middle\n",
    "\n",
    "if __name__ == '__main__':\n",
    "    @once_per_n(5)\n",
    "    def slow_add(a, b):\n",
    "        time.sleep(3)\n",
    "        return a + b\n",
    "\n",
    "        \n",
    "    print(slow_add(2, 2))\n",
    "    print(slow_add(3, 3))\n",
    "    print(slow_add(4, 4))\n"
   ]
  },
  {
   "source": [
    "### Example 4: Memoization\n",
    "Cache the result of function calls, so we don't need to call them again"
   ],
   "cell_type": "markdown",
   "metadata": {}
  },
  {
   "cell_type": "code",
   "execution_count": 25,
   "metadata": {},
   "outputs": [
    {
     "output_type": "stream",
     "name": "stdout",
     "text": [
      "Caching NEW value for add(3, 7)\nRunning add!\n10\nCaching NEW value for mul(3, 7)\nRunning mul!\n21\nUsing OLD value for add(3, 7)\n10\nUsing OLD value for mul(3, 7)\n21\nCaching NEW value for mysum([1, 2, 3, 4, 5],)\nRunning mysum, message = 'hello'\n15\nUsing OLD value for mysum([1, 2, 3, 4, 5],)\n15\nCaching NEW value for mysum([1, 2, 3, 4, 5],)\nRunning mysum, message = 'goodbye'\n15\n"
     ]
    }
   ],
   "source": [
    "import pickle\n",
    "\n",
    "def memoize(func):\n",
    "    cache = {}\n",
    "\n",
    "    def wrapper(*args, **kwargs):\n",
    "        t = (pickle.dumps(args), pickle.dumps(kwargs))\n",
    "\n",
    "        if t not in cache:\n",
    "            print(f'Caching NEW value for {func.__name__}{args}')\n",
    "            cache[t] = func(*args, **kwargs)\n",
    "        else:\n",
    "            print(f'Using OLD value for {func.__name__}{args}')\n",
    "\n",
    "        return cache[t]\n",
    "    return wrapper\n",
    "\n",
    "\n",
    "if __name__ == '__main__':\n",
    "    @memoize\n",
    "    def add(a, b):\n",
    "        print(\"Running add!\")\n",
    "        return a + b\n",
    "\n",
    "    @memoize\n",
    "    def mul(a, b):\n",
    "        print(\"Running mul!\")\n",
    "        return a * b\n",
    "\n",
    "    @memoize\n",
    "    def mysum(numbers, **kwargs):\n",
    "        print(f\"Running mysum, message = '{kwargs.get('message')}'\")\n",
    "        total = 0\n",
    "        for one_number in numbers:\n",
    "            total += one_number\n",
    "        return total\n",
    "\n",
    "    print(add(3, 7))\n",
    "    print(mul(3, 7))\n",
    "    print(add(3, 7))\n",
    "    print(mul(3, 7))\n",
    "    print(mysum([1, 2, 3, 4, 5], message='hello'))\n",
    "    print(mysum([1, 2, 3, 4, 5], message='hello'))\n",
    "    print(mysum([1, 2, 3, 4, 5], message='goodbye'))"
   ]
  },
  {
   "source": [
    "### Example 5: Attributes\n",
    "Give many objects the same attributes, but without using inheritance"
   ],
   "cell_type": "markdown",
   "metadata": {}
  },
  {
   "cell_type": "code",
   "execution_count": 20,
   "metadata": {},
   "outputs": [
    {
     "output_type": "stream",
     "name": "stdout",
     "text": [
      "I am a Foo, with vars {'x': 10, 'y': [10, 20, 30], '_created_at': 1636986571.6216035}\n1636986571.6216035\n"
     ]
    }
   ],
   "source": [
    "import time\n",
    "\n",
    "def fancy_repr(self):\n",
    "    return f'I am a {type(self).__name__}, with vars {vars(self)}'\n",
    "\n",
    "def repr_and_birthyday(c):\n",
    "    c.__repr__ = fancy_repr\n",
    "\n",
    "    def wrapper(*args, **kwargs):\n",
    "        o = c(*args, **kwargs)\n",
    "        o._created_at = time.time()\n",
    "        return o\n",
    "    return wrapper\n",
    "\n",
    "if __name__=='__main__':\n",
    "    @repr_and_birthyday\n",
    "    class Foo():\n",
    "        def __init__(self, x, y):\n",
    "            self.x = x\n",
    "            self.y = y\n",
    "    \n",
    "    f = Foo(10, [10, 20, 30])\n",
    "    print(f)\n",
    "    print(f._created_at)"
   ]
  },
  {
   "cell_type": "code",
   "execution_count": 1,
   "metadata": {},
   "outputs": [
    {
     "output_type": "stream",
     "name": "stdout",
     "text": [
      "<__main__.Foo object at 0x06AF7400>\n1636988095.9131477\n"
     ]
    }
   ],
   "source": [
    "import time\n",
    "\n",
    "def object_birthday(c):\n",
    "    def wrapper(*args, **kwargs):\n",
    "        o = c(*args, **kwargs)\n",
    "        o._created_at = time.time()\n",
    "        return o\n",
    "    return wrapper\n",
    "\n",
    "@object_birthday\n",
    "class Foo:\n",
    "    def __init__(self, x, y):\n",
    "        self.x = x\n",
    "        self.y = y\n",
    "\n",
    "f = Foo(10, [10,20,30])\n",
    "print(f)\n",
    "print(f._created_at)"
   ]
  },
  {
   "cell_type": "code",
   "execution_count": 2,
   "metadata": {},
   "outputs": [
    {
     "output_type": "stream",
     "name": "stdout",
     "text": [
      "I'm a Foo, with vars {'x': 10, 'y': [10, 20, 30]}\n"
     ]
    }
   ],
   "source": [
    "def fancy_repr(self):\n",
    "    return f\"I'm a {type(self).__name__}, with vars {vars(self)}\"\n",
    "\n",
    "def better_repr(c):\n",
    "    c.__repr__ = fancy_repr\n",
    "    return c\n",
    "\n",
    "@better_repr\n",
    "class Foo():\n",
    "    def __init__(self, x, y):\n",
    "        self.x = x\n",
    "        self.y = y\n",
    "\n",
    "\n",
    "f = Foo(10, [10, 20, 30])\n",
    "print(f)"
   ]
  }
 ]
}