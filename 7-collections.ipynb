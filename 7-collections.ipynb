{
 "cells": [
  {
   "cell_type": "markdown",
   "id": "067449c6-014f-409c-836f-3fa6780b6eef",
   "metadata": {},
   "source": [
    "# Sessions 27 to 35｜Java Collection Framework\n",
    "\n",
    "* [Java Collections](https://www.youtube.com/playlist?list=PLd3UqWTnYXOklywocjGz7Z02rqbLegX22) by Durga sir\n",
    "* [Java Collections Series](https://www.baeldung.com/java-collections)\n",
    "* [Java Collections Interview Questions](https://www.baeldung.com/java-collections-interview-questions)\n",
    "* [Time Complexity of Java Collections](https://www.baeldung.com/java-collections-complexity)\n",
    "\n",
    "## What is the Collections Framework?\n",
    "\n",
    "* Introduced in Java 1.2.\n",
    "* A collection is a group of objects.\n",
    "* Part of the `java.util` package.\n",
    "* The framework provides an architecture to manage groups of objects, including adding, updating, deleting, and searching elements.\n",
    "\n",
    "### Why do we need the Collections Framework?\n",
    "\n",
    "* Before the Java Collections Framework, collection like arrays, vectors, and hash tables were used.\n",
    "* These collections lacked a common interface, making it difficult to remember and use methods for each type."
   ]
  },
  {
   "cell_type": "code",
   "execution_count": 1,
   "id": "86fa5fb0-9e74-4fc0-b6ae-14b575623d2d",
   "metadata": {},
   "outputs": [
    {
     "data": {
      "text/plain": [
       "4"
      ]
     },
     "execution_count": 1,
     "metadata": {},
     "output_type": "execute_result"
    }
   ],
   "source": [
    "int arr[] = new int[] {2, 3, 4};\n",
    "\n",
    "// insert an element into the array\n",
    "arr[0] = 1;\n",
    "\n",
    "// retrieve the first element of the array\n",
    "int val = arr[2];\n",
    "val;"
   ]
  },
  {
   "cell_type": "code",
   "execution_count": 2,
   "id": "4875b40b-e423-4f84-aa22-feee14d98362",
   "metadata": {},
   "outputs": [
    {
     "data": {
      "text/plain": [
       "10"
      ]
     },
     "execution_count": 2,
     "metadata": {},
     "output_type": "execute_result"
    }
   ],
   "source": [
    "Vector<Integer> vector = new Vector();\n",
    "\n",
    "// add an element to the vector\n",
    "vector.add(10);\n",
    "\n",
    "// retrieve the first element from the vector\n",
    "int val = vector.get(0);\n",
    "val;"
   ]
  },
  {
   "cell_type": "markdown",
   "id": "8edb2088-7e49-4c25-b3b7-8142b8ba1c2c",
   "metadata": {},
   "source": [
    "## Collection Framework Hierarchy\n",
    "\n",
    "### Iterable\n",
    "\n",
    "![iterator](https://files.catbox.moe/0rntfn.png)\n",
    "\n",
    "### Map\n",
    "\n",
    "![map](https://i.ibb.co.com/f9SxjxB/image.png)\n",
    "\n",
    "## Details of the Collections Framework\n",
    "\n",
    "### Iterable\n",
    "\n",
    "The `Iterable` interface is used to traverse a collection. It is the root interface of the Java Collection Framework.\n",
    "\n",
    "#### Frequently used Methods:\n",
    "\n",
    "* `iterator()`\n",
    "  * Introduced in Java 1.5\n",
    "  * Returns an `Iterator` object, which provides the following methods:\n",
    "    * **hasNext**: Returns `true` if there are more elements in the collection.\n",
    "    * **next**: Returns the next element in the iteration.\n",
    "    * **remove**: Removes the last element returned by the iterator.  \n",
    "* `forEach()`\n",
    "  * Introduced in Java 1.8\n",
    "  * Iterates over the collection using a Lambda expression.\n",
    "  * The Lambda expression is called for each element in the collection."
   ]
  },
  {
   "cell_type": "code",
   "execution_count": 3,
   "id": "33b67ce2-d40d-49ed-8720-c35125d267cb",
   "metadata": {},
   "outputs": [
    {
     "name": "stdout",
     "output_type": "stream",
     "text": [
      "Iterating the values using Iteraor method:\n",
      "1\n",
      "2\n",
      "4\n",
      "3\n"
     ]
    }
   ],
   "source": [
    "List<Integer> values = new ArrayList<>();\n",
    "values.add(1);\n",
    "values.add(2);\n",
    "values.add(4);\n",
    "values.add(3);\n",
    "\n",
    "System.out.println(\"Iterating the values using Iteraor method:\");\n",
    "Iterator<Integer> valuesIterator = values.iterator();\n",
    "\n",
    "while (valuesIterator.hasNext()) {\n",
    "    int val = valuesIterator.next();\n",
    "    System.out.println(val);\n",
    "\n",
    "    if (val == 4) {\n",
    "        valuesIterator.remove();\n",
    "    }\n",
    "}"
   ]
  },
  {
   "cell_type": "code",
   "execution_count": 4,
   "id": "b88ebe3b-21b3-49eb-ac3b-e5ef62673cc8",
   "metadata": {},
   "outputs": [
    {
     "name": "stdout",
     "output_type": "stream",
     "text": [
      "Iterating the values using for-each loop:\n",
      "1\n",
      "2\n",
      "3\n"
     ]
    }
   ],
   "source": [
    "System.out.println(\"Iterating the values using for-each loop:\");\n",
    "for (int val: values) {\n",
    "    System.out.println(val);\n",
    "}"
   ]
  },
  {
   "cell_type": "code",
   "execution_count": 5,
   "id": "b84a932a-4958-41fc-bca2-997b8d9b90f6",
   "metadata": {},
   "outputs": [
    {
     "name": "stdout",
     "output_type": "stream",
     "text": [
      "Iterating the values using for-each method:\n",
      "1\n",
      "2\n",
      "3\n"
     ]
    }
   ],
   "source": [
    "System.out.println(\"Iterating the values using for-each method:\");\n",
    "values.forEach((v) -> System.out.println(v));"
   ]
  },
  {
   "cell_type": "markdown",
   "id": "a72b5e57-94e5-4010-961a-db88d7c4fd61",
   "metadata": {},
   "source": [
    "### Collection\n",
    "\n",
    "The `Collection` interface represents a group of objects and provides various methods for working with them. `Collection` extends `Iterable` and serves as the foundation for most collection types, such as `List`, `Set`, and `Queue`.\n",
    "\n",
    "#### Frequently used Methods:\n",
    "\n",
    "These methods are available in all classes that implement the `Collection` interface:\n",
    "\n",
    "* `size()`\n",
    "  * Introduced in Java 1.2.\n",
    "  * Returns the number of elements in the collection.\n",
    "* `isEmpty()`\n",
    "  * Introduced in Java 1.2.\n",
    "  * Returns `true` if the collection is empty; otherwise, returns `false`.\n",
    "* `contains(Object o)`\n",
    "  * Introduced in Java 1.2.\n",
    "  * Returns `true` if the collection contains the specified element.\n",
    "* `toArray()`\n",
    "  * Introduced in Java 1.2.\n",
    "  * Converts the collection to an array.\n",
    "* `add(E e)`\n",
    "  * Introduced in Java 1.2.\n",
    "  * Adds the specified element to the collection.\n",
    "* `remove(Object o)`\n",
    "  * Introduced in Java 1.2.\n",
    "  * Removes a single occurrence of the specified element from the collection.\n",
    "* `addAll(Collection<? extends E> c)`\n",
    "  * Introduced in Java 1.2.\n",
    "  * Adds all elements from the specified collection to the current collection.\n",
    "* `removeAll(Collection<?> c)`\n",
    "  * Introduced in Java 1.2.\n",
    "  * Removes all elements from the collection that are present in the specified collection.\n",
    "* `clear()`\n",
    "  * Introduced in Java 1.2.\n",
    "  * Removes all elements from the collection.\n",
    "* `equals(Object o)`\n",
    "  * Introduced in Java 1.2. \n",
    "  * Compares the collection with another object to determine if they are equal.\n",
    "* `stream()` and `parallelStream()`\n",
    "  * Introduced in Java 1.8.\n",
    "  * Provides an efficient way to work with the collection, including filtering, mapping, and processing data.\n",
    "* `iterator()`\n",
    "  * Introduced in Java 1.2\n",
    "  * Returns an iterator to traverse through the elements of the collection. This method was used before the `Iterable.iterator()` method introduced in Java 1.5 for traversing the collection."
   ]
  },
  {
   "cell_type": "code",
   "execution_count": 6,
   "id": "1bd14e5a-7a73-4320-8f5a-4246cfb06fa5",
   "metadata": {},
   "outputs": [
    {
     "name": "stdout",
     "output_type": "stream",
     "text": [
      "Size: 3\n",
      "Empty: false\n",
      "contains: true\n",
      "After added 5: 2 3 4 5 \n",
      "after removed using index: [2, 3, 4]\n",
      "after removed using object: [2, 4]\n"
     ]
    }
   ],
   "source": [
    "List<Integer> values = new ArrayList<>();\n",
    "values.add(2);\n",
    "values.add(3);\n",
    "values.add(4);\n",
    "\n",
    "// size\n",
    "System.out.println(\"Size: \" + values.size());\n",
    "\n",
    "// isEmpty\n",
    "System.out.println(\"Empty: \" + values.isEmpty());\n",
    "\n",
    "// contains\n",
    "System.out.println(\"contains: \" + values.contains(4));\n",
    "\n",
    "// add\n",
    "values.add(5);\n",
    "System.out.print(\"After added 5: \");\n",
    "values.forEach((v) -> {\n",
    "    System.out.print(v+\" \");\n",
    "});\n",
    "System.out.println();\n",
    "\n",
    "// remove using index\n",
    "values.remove(3);\n",
    "System.out.println(\"after removed using index: \" + values);\n",
    "\n",
    "// remove using object\n",
    "values.remove(Integer.valueOf(3));\n",
    "System.out.println(\"after removed using object: \" + values);"
   ]
  },
  {
   "cell_type": "code",
   "execution_count": 7,
   "id": "f86f4f48-b05e-4d98-b364-f19cdf80538a",
   "metadata": {},
   "outputs": [
    {
     "data": {
      "text/plain": [
       "true"
      ]
     },
     "execution_count": 7,
     "metadata": {},
     "output_type": "execute_result"
    }
   ],
   "source": [
    "Stack<Integer> stackValues = new Stack<>();\n",
    "stackValues.add(60);\n",
    "stackValues.add(70);\n",
    "stackValues.add(80);\n",
    "\n",
    "// addAll\n",
    "values.addAll(stackValues);"
   ]
  },
  {
   "cell_type": "code",
   "execution_count": 8,
   "id": "7ed266fc-d507-4944-9ed1-30c53043c694",
   "metadata": {},
   "outputs": [
    {
     "data": {
      "text/plain": [
       "[2, 4, 60, 70, 80]"
      ]
     },
     "execution_count": 8,
     "metadata": {},
     "output_type": "execute_result"
    }
   ],
   "source": [
    "values;"
   ]
  },
  {
   "cell_type": "code",
   "execution_count": 9,
   "id": "1a0b9688-bb0d-49f9-a3df-67772b6a114a",
   "metadata": {},
   "outputs": [
    {
     "data": {
      "text/plain": [
       "true"
      ]
     },
     "execution_count": 9,
     "metadata": {},
     "output_type": "execute_result"
    }
   ],
   "source": [
    "// containsAll\n",
    "values.containsAll(stackValues);"
   ]
  },
  {
   "cell_type": "code",
   "execution_count": 10,
   "id": "64c66a27-4503-4365-ab78-946e92a9f294",
   "metadata": {},
   "outputs": [
    {
     "data": {
      "text/plain": [
       "true"
      ]
     },
     "execution_count": 10,
     "metadata": {},
     "output_type": "execute_result"
    }
   ],
   "source": [
    "values.remove(Integer.valueOf(60));"
   ]
  },
  {
   "cell_type": "code",
   "execution_count": 11,
   "id": "a1d5030c-e238-4990-8b04-5d5a300a8339",
   "metadata": {},
   "outputs": [
    {
     "data": {
      "text/plain": [
       "false"
      ]
     },
     "execution_count": 11,
     "metadata": {},
     "output_type": "execute_result"
    }
   ],
   "source": [
    "values.containsAll(stackValues);"
   ]
  },
  {
   "cell_type": "code",
   "execution_count": 12,
   "id": "dcd760da-e148-4184-a58c-0a8d5e25520f",
   "metadata": {},
   "outputs": [
    {
     "data": {
      "text/plain": [
       "true"
      ]
     },
     "execution_count": 12,
     "metadata": {},
     "output_type": "execute_result"
    }
   ],
   "source": [
    "values.removeAll(stackValues);"
   ]
  },
  {
   "cell_type": "code",
   "execution_count": 13,
   "id": "427b7912-7d1e-4366-9d5b-6e21002708b2",
   "metadata": {},
   "outputs": [
    {
     "data": {
      "text/plain": [
       "[2, 4]"
      ]
     },
     "execution_count": 13,
     "metadata": {},
     "output_type": "execute_result"
    }
   ],
   "source": [
    "values;"
   ]
  },
  {
   "cell_type": "code",
   "execution_count": 14,
   "id": "4b744e32-216f-488e-8321-479d428850cd",
   "metadata": {},
   "outputs": [
    {
     "data": {
      "text/plain": [
       "[60, 70, 80]"
      ]
     },
     "execution_count": 14,
     "metadata": {},
     "output_type": "execute_result"
    }
   ],
   "source": [
    "stackValues;"
   ]
  },
  {
   "cell_type": "code",
   "execution_count": 15,
   "id": "ac813375-0f31-4a02-9b21-4cd5bd3bc5d8",
   "metadata": {},
   "outputs": [],
   "source": [
    "values.clear();"
   ]
  },
  {
   "cell_type": "code",
   "execution_count": 16,
   "id": "17832bd2-5d80-42f1-b18b-c6b3faa2c46e",
   "metadata": {},
   "outputs": [
    {
     "data": {
      "text/plain": [
       "[]"
      ]
     },
     "execution_count": 16,
     "metadata": {},
     "output_type": "execute_result"
    }
   ],
   "source": [
    "values;"
   ]
  },
  {
   "cell_type": "markdown",
   "id": "4bd600bd-c021-4b36-8868-711235787910",
   "metadata": {},
   "source": [
    "### Collections\n",
    "\n",
    "[Collection vs Collections in Java with Example](https://www.geeksforgeeks.org/collection-vs-collections-in-java-with-example/)\n",
    "\n",
    "* **Collection** is part of the Java Collection Framework and serves as an interface that defines various methods implemented by collection classes such as `ArrayList`, `Stack`, `LinkedList`, and others.\n",
    "\n",
    "* **Collections**, on the other hand, is a utility class that provides `static` methods for performing operations on collections. These operations include sorting, swapping, searching, reversing, copying, and more.\n",
    "\n",
    "#### Common Methods:\n",
    "\n",
    "* sort\n",
    "* binarySearch\n",
    "* get\n",
    "* reverse\n",
    "* shuffle\n",
    "* swap\n",
    "* copy\n",
    "* min\n",
    "* max\n",
    "* rotate\n",
    "* unmodifiableCollection"
   ]
  },
  {
   "cell_type": "code",
   "execution_count": 17,
   "id": "4ec3e80c-4ffd-48ba-861e-909e76eb43e4",
   "metadata": {},
   "outputs": [
    {
     "data": {
      "text/plain": [
       "[0, 1, 2, 3, 4, 5, 6, 7, 8, 9, 10]"
      ]
     },
     "execution_count": 17,
     "metadata": {},
     "output_type": "execute_result"
    }
   ],
   "source": [
    "List<Integer> values = new ArrayList<>();\n",
    "\n",
    "for(int i = 0; i<= 10; i++) {\n",
    "    values.add(i);\n",
    "}\n",
    "values;"
   ]
  },
  {
   "cell_type": "code",
   "execution_count": 18,
   "id": "602290fd-e4b6-4204-8cb6-1a806fb0c64b",
   "metadata": {},
   "outputs": [
    {
     "data": {
      "text/plain": [
       "10"
      ]
     },
     "execution_count": 18,
     "metadata": {},
     "output_type": "execute_result"
    }
   ],
   "source": [
    "Collections.max(values);"
   ]
  },
  {
   "cell_type": "code",
   "execution_count": 19,
   "id": "115a1f3f-77da-4a15-8f94-c4b6e0ba5b1f",
   "metadata": {},
   "outputs": [
    {
     "data": {
      "text/plain": [
       "[0, 1, 2, 3, 4, 5, 6, 7, 8, 9, 10]"
      ]
     },
     "execution_count": 19,
     "metadata": {},
     "output_type": "execute_result"
    }
   ],
   "source": [
    "Collections.sort(values);\n",
    "values;"
   ]
  },
  {
   "cell_type": "code",
   "execution_count": 20,
   "id": "780defcc-0278-4a34-a54e-8f4d4d01984f",
   "metadata": {},
   "outputs": [
    {
     "data": {
      "text/plain": [
       "[10, 9, 8, 7, 6, 5, 4, 3, 2, 1, 0]"
      ]
     },
     "execution_count": 20,
     "metadata": {},
     "output_type": "execute_result"
    }
   ],
   "source": [
    "Collections.sort(values, Collections.reverseOrder());\n",
    "values;"
   ]
  },
  {
   "cell_type": "code",
   "execution_count": 21,
   "id": "dfba92a8-4621-45fb-8db7-bb7f969f9d59",
   "metadata": {},
   "outputs": [
    {
     "data": {
      "text/plain": [
       "[10, 8, 9, 7, 6, 5, 4, 3, 2, 1, 0]"
      ]
     },
     "execution_count": 21,
     "metadata": {},
     "output_type": "execute_result"
    }
   ],
   "source": [
    "Collections.swap(values, Integer.valueOf(1), Integer.valueOf(2));\n",
    "values;"
   ]
  },
  {
   "cell_type": "markdown",
   "id": "c32ac25b-6d83-49da-a80f-e575cbbae188",
   "metadata": {},
   "source": [
    "### Queue\n",
    "\n",
    "Queue is an interface that extends the Collection interface.\n",
    "\n",
    "![queue](https://i.ibb.co.com/Y73K01V9/image.png)\n",
    "\n",
    "A **Queue** generally follows FIFO order, but exceptions like **PriorityQueue** exist, where elements are ordered by priority rather than insertion order.\n",
    "\n",
    "In addition to the methods inherited from the **Collection** interface, the **Queue** interface defines several specific methods, such as:\n",
    "\n",
    "* `add(E e)`\n",
    "  * Adds an element to the queue, returning `true` if successful, or throws an exception if it cannot be added.\n",
    "  * Null element insertion is not allowed and will throw a `NullPointerException`.\n",
    "  * Time Complexity is `O(logn)`\n",
    "* `offer(E e)`\n",
    "  * Adds an element to the queue, returning `true` if successful, or `false` if it cannot be added.\n",
    "  * Null element insertion is not allowed and will throw a `NullPointerException`.\n",
    "  * Time Complexity is `O(logn)`\n",
    "* `poll()`\n",
    "  * Retrieves and removes the head of the queue, or returns `null` if the queue is empty.\n",
    "  * Time Complexity is `O(logn)`\n",
    "* `remove()`\n",
    "  * Removes the head of the queue and returns it, throwing a `NoSuchElementException` if the queue is empty.\n",
    "  * Time Complexity is `O(logn)` for head element and `O(n)` for arbitrary element.\n",
    "* `peek()`\n",
    "  * Retrieves, but does not remove, the head of the queue, or returns `null` if the queue is empty.\n",
    "  * Time Complexity is `O(1)`\n",
    "* `element()`\n",
    "  * Retrieves the head of the queue without removing it, throwing a `NoSuchElementException` if the queue is empty.\n",
    "  * Time Complexity is `O(1)`\n",
    "\n",
    "### PriorityQueue\n",
    "\n",
    "* [Priority Queue](https://www.baeldung.com/cs/priority-queue) `theory`\n",
    "* [Guide to Java PriorityQueue](https://www.baeldung.com/java-priorityqueue)\n",
    "* [Session - 45 | Priority Queue](https://www.youtube.com/watch?v=-Sm-xavsgKI) by Swarup Sarkar\n",
    "\n",
    "![priority-queue](https://i.ibb.co.com/NgYbdWyg/image.png)\n",
    "\n",
    "The `PriorityQueue` class represents a priority queue that is implemented using a heap (either a Min Heap or a Max Heap). The elements in the priority queue are ordered according to their natural ordering (by default) or according to a `Comparator` that is provided when the queue is created.\n",
    "\n",
    "* **Min Priority Queue**: The element with the smallest value is at the head of the queue.\n",
    "* **Max Priority Queue**: The element with the largest value is at the head of the queue.\n",
    "* **Natural Ordering**: Elements are ordered based on their inherent comparison method"
   ]
  },
  {
   "cell_type": "code",
   "execution_count": 22,
   "id": "e6283f24-f3e2-4dcf-91bf-4fcba7afa1f2",
   "metadata": {},
   "outputs": [
    {
     "name": "stdout",
     "output_type": "stream",
     "text": [
      "-1 5 10 20 \n",
      "Remove from top -1\n",
      "Remove from top 5\n",
      "Remove from top 10\n",
      "Remove from top 20\n"
     ]
    }
   ],
   "source": [
    "// Min Priority Queue\n",
    "\n",
    "import java.util.PriorityQueue;\n",
    "\n",
    "public class MinPriorityQueue {\n",
    "    public static void main() {\n",
    "        // it is used to solve min heap problems\n",
    "        PriorityQueue<Integer> min_pq = new PriorityQueue<Integer>();\n",
    "        min_pq.add(10);\n",
    "        min_pq.add(20);\n",
    "        min_pq.add(5);\n",
    "        min_pq.add(-1);\n",
    "\n",
    "        min_pq.forEach((v) -> System.out.print(v + \" \"));\n",
    "        System.out.println();\n",
    "\n",
    "        // remove from top\n",
    "        while (!min_pq.isEmpty()) {\n",
    "            int val = min_pq.poll();\n",
    "            System.out.println(\"Remove from top \" + val);\n",
    "        }\n",
    "    }\n",
    "}\n",
    "\n",
    "MinPriorityQueue.main();"
   ]
  },
  {
   "cell_type": "code",
   "execution_count": 23,
   "id": "3763cce8-0eb6-41f4-9ef2-cfade4ca121f",
   "metadata": {},
   "outputs": [
    {
     "name": "stdout",
     "output_type": "stream",
     "text": [
      "20 10 5 -1 \n",
      "Remove from top 20\n",
      "Remove from top 10\n",
      "Remove from top 5\n",
      "Remove from top -1\n"
     ]
    }
   ],
   "source": [
    "// Max Priority Queue\n",
    "\n",
    "public class MaxPriorityQueue {\n",
    "    public static void main() {\n",
    "        // it is used to solve max heap problems\n",
    "        PriorityQueue<Integer> max_pq = new PriorityQueue<Integer>((a, b) -> b - a);\n",
    "        max_pq.add(10);\n",
    "        max_pq.add(20);\n",
    "        max_pq.add(5);\n",
    "        max_pq.add(-1);\n",
    "\n",
    "        max_pq.forEach((v) -> System.out.print(v + \" \"));\n",
    "        System.out.println();\n",
    "\n",
    "        // remove from top\n",
    "        while (!max_pq.isEmpty()) {\n",
    "            int val = max_pq.poll();\n",
    "            System.out.println(\"Remove from top \" + val);\n",
    "        }\n",
    "    }\n",
    "}\n",
    "\n",
    "MaxPriorityQueue.main();"
   ]
  },
  {
   "cell_type": "markdown",
   "id": "aeba6a6b-a799-4c18-8e45-10a0eac64a9f",
   "metadata": {},
   "source": [
    "### Comparator vs. Comparable\n",
    "\n",
    "* [Collections Part-9 || comparator](https://www.youtube.com/watch?v=uu9DHLJVRIs) by Durga sir\n",
    "* [Comparator and Comparable in Java](https://www.baeldung.com/java-comparator-comparable)\n",
    "* [Comparable vs Comparator Explained in Java](https://ashutoshkrris.medium.com/comparable-vs-comparator-explained-in-java-0aabaedf8d47) `medium`"
   ]
  },
  {
   "cell_type": "code",
   "execution_count": null,
   "id": "b8603af5-1fc6-4f36-b933-ca70dd901c7a",
   "metadata": {},
   "outputs": [],
   "source": []
  }
 ],
 "metadata": {
  "kernelspec": {
   "display_name": "Java",
   "language": "java",
   "name": "java"
  },
  "language_info": {
   "codemirror_mode": "java",
   "file_extension": ".jshell",
   "mimetype": "text/x-java-source",
   "name": "Java",
   "pygments_lexer": "java",
   "version": "21.0.5+11-LTS"
  }
 },
 "nbformat": 4,
 "nbformat_minor": 5
}
