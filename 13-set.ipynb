{
 "cells": [
  {
   "cell_type": "markdown",
   "id": "efefe51c-1825-4106-a010-b0ca4723a17f",
   "metadata": {},
   "source": [
    "## Set Data Structure\n",
    "\n",
    "A set is used to represent a group of unique values as a single entity.\n",
    "\n",
    "* Duplicates are not allowed in a set.\n",
    "* The insertion order is not guaranteed\n",
    "* Indexing and slicing are not supported with sets.\n",
    "* Sets can contain heterogeneous elements.\n",
    "* Set objects are mutable, meaning we can modify them after creation.\n",
    "* Set elements are defined using curly braces `{}` and are comma-separated.\n",
    "* Mathematical operations such as **union, intersection, difference**, can be performed on sets.\n",
    "\n",
    "### Creating a Set\n",
    "\n",
    "> ⚠️ Note: `s = {}` creates an empty dictionary, not a set.\n",
    "\n",
    "To create an empty set, use the `set()` constructor."
   ]
  },
  {
   "cell_type": "code",
   "execution_count": 1,
   "id": "d1dfbfa9-ea67-450a-96e1-504c5b984a23",
   "metadata": {},
   "outputs": [],
   "source": [
    "elements = set()"
   ]
  },
  {
   "cell_type": "code",
   "execution_count": 2,
   "id": "bf7f549e-5ee0-45ae-94db-437d8f05c1eb",
   "metadata": {},
   "outputs": [
    {
     "data": {
      "text/plain": [
       "set"
      ]
     },
     "execution_count": 2,
     "metadata": {},
     "output_type": "execute_result"
    }
   ],
   "source": [
    "type(elements)"
   ]
  },
  {
   "cell_type": "code",
   "execution_count": 3,
   "id": "b1af9312-44da-4b4e-92aa-5bef49f01dc3",
   "metadata": {},
   "outputs": [],
   "source": [
    "elements.add(20)\n",
    "elements.add(10)\n",
    "elements.add(\"z\")\n",
    "elements.add(\"A\")\n",
    "elements.add(10)\n",
    "elements.add(20)"
   ]
  },
  {
   "cell_type": "code",
   "execution_count": 4,
   "id": "cc03cec5-ddf1-4de2-903a-4a1744520bee",
   "metadata": {},
   "outputs": [
    {
     "data": {
      "text/plain": [
       "{10, 20, 'A', 'z'}"
      ]
     },
     "execution_count": 4,
     "metadata": {},
     "output_type": "execute_result"
    }
   ],
   "source": [
    "elements"
   ]
  },
  {
   "cell_type": "code",
   "execution_count": 5,
   "id": "d09cc33a-8b40-4290-8358-b065eb379a35",
   "metadata": {},
   "outputs": [
    {
     "ename": "TypeError",
     "evalue": "'set' object is not subscriptable",
     "output_type": "error",
     "traceback": [
      "\u001b[31m---------------------------------------------------------------------------\u001b[39m",
      "\u001b[31mTypeError\u001b[39m                                 Traceback (most recent call last)",
      "\u001b[36mCell\u001b[39m\u001b[36m \u001b[39m\u001b[32mIn[5]\u001b[39m\u001b[32m, line 1\u001b[39m\n\u001b[32m----> \u001b[39m\u001b[32m1\u001b[39m \u001b[43melements\u001b[49m\u001b[43m[\u001b[49m\u001b[32;43m0\u001b[39;49m\u001b[43m]\u001b[49m\n",
      "\u001b[31mTypeError\u001b[39m: 'set' object is not subscriptable"
     ]
    }
   ],
   "source": [
    "elements[0]"
   ]
  },
  {
   "cell_type": "code",
   "execution_count": 6,
   "id": "3d338b73-9ab1-49e4-af9f-89faba6951bd",
   "metadata": {},
   "outputs": [
    {
     "data": {
      "text/plain": [
       "{10, 20, 50, 'A', 'z'}"
      ]
     },
     "execution_count": 6,
     "metadata": {},
     "output_type": "execute_result"
    }
   ],
   "source": [
    "elements.add(50)\n",
    "elements"
   ]
  },
  {
   "cell_type": "code",
   "execution_count": 7,
   "id": "f0ee4e13-fe72-40d3-8b5e-4a0d6e930510",
   "metadata": {},
   "outputs": [
    {
     "data": {
      "text/plain": [
       "{10, 20, 30, 40}"
      ]
     },
     "execution_count": 7,
     "metadata": {},
     "output_type": "execute_result"
    }
   ],
   "source": [
    "# set with predefined values\n",
    "new_set = {10, 20, 30, 40}\n",
    "new_set"
   ]
  },
  {
   "cell_type": "code",
   "execution_count": 8,
   "id": "1f3c132d-2334-4719-a215-1da18fb99096",
   "metadata": {},
   "outputs": [
    {
     "data": {
      "text/plain": [
       "{10, 20, 30, 40}"
      ]
     },
     "execution_count": 8,
     "metadata": {},
     "output_type": "execute_result"
    }
   ],
   "source": [
    "# converting a list to a set\n",
    "set([10, 20, 40, 30])"
   ]
  },
  {
   "cell_type": "code",
   "execution_count": 9,
   "id": "748e64bb-8f3b-499b-af52-0a6a904df978",
   "metadata": {},
   "outputs": [
    {
     "data": {
      "text/plain": [
       "{0, 10, 20, 30, 40, 50, 60, 70, 80, 90, 100}"
      ]
     },
     "execution_count": 9,
     "metadata": {},
     "output_type": "execute_result"
    }
   ],
   "source": [
    "set(range(0, 101, 10))"
   ]
  },
  {
   "cell_type": "code",
   "execution_count": 10,
   "id": "1aa41000-44ad-4c8b-aa34-89078352e40a",
   "metadata": {},
   "outputs": [
    {
     "data": {
      "text/plain": [
       "{' ', 'H', 'W', 'd', 'e', 'l', 'o', 'r'}"
      ]
     },
     "execution_count": 10,
     "metadata": {},
     "output_type": "execute_result"
    }
   ],
   "source": [
    "set(\"Hello World\")"
   ]
  },
  {
   "cell_type": "code",
   "execution_count": 11,
   "id": "cf0c0d35-1de6-4b85-8f18-b4f43b2d61e4",
   "metadata": {},
   "outputs": [
    {
     "data": {
      "text/plain": [
       "5"
      ]
     },
     "execution_count": 11,
     "metadata": {},
     "output_type": "execute_result"
    }
   ],
   "source": [
    "len(set(\"Alina\"))"
   ]
  },
  {
   "cell_type": "markdown",
   "id": "2a342849-1f22-43c3-bbf8-5097776641d3",
   "metadata": {},
   "source": [
    "<div style=\"text-align: left\">\n",
    "\n",
    "### Set Comparison Operators\n",
    "\n",
    "Sets do not support the `+` and `*` operators.\n",
    "\n",
    "| Operator | Meaning         | Example                        |\n",
    "| -------- | --------------- | ------------------------------ |\n",
    "| `==`     | Equal           | `{1, 2} == {2, 1}` → `True`    |\n",
    "| `!=`     | Not equal       | `{1, 2} != {1, 2, 3}` → `True` |\n",
    "| `<`      | Proper subset   | `{1, 2} < {1, 2, 3}` → `True`  |\n",
    "| `<=`     | Subset          | `{1, 2} <= {1, 2}` → `True`    |\n",
    "| `>`      | Proper superset | `{1, 2, 3} > {1, 2}` → `True`  |\n",
    "| `>=`     | Superset        | `{1, 2, 3} >= {1, 2}` → `True` |\n",
    "\n",
    "* **Proper subset**: `s1 < s2` → `s2` contains all elements of `s1`, and `s1 != s2`.  \n",
    "* **Subset**: `s1 <= s2` → `s2` contains all elements of `s1`, possibly equal.  \n",
    "* **Proper superset**: `s1 > s2` → `s1` contains all elements of `s2`, and `s1 != s2`.  \n",
    "* **Superset**: `s1 >= s2` → `s1` contains all elements of `s2`, possibly equal.\n",
    "\n",
    "</div>"
   ]
  },
  {
   "cell_type": "code",
   "execution_count": 12,
   "id": "3734c75f-c18f-40e8-9208-b147639352ff",
   "metadata": {},
   "outputs": [
    {
     "ename": "TypeError",
     "evalue": "unsupported operand type(s) for +: 'set' and 'set'",
     "output_type": "error",
     "traceback": [
      "\u001b[31m---------------------------------------------------------------------------\u001b[39m",
      "\u001b[31mTypeError\u001b[39m                                 Traceback (most recent call last)",
      "\u001b[36mCell\u001b[39m\u001b[36m \u001b[39m\u001b[32mIn[12]\u001b[39m\u001b[32m, line 3\u001b[39m\n\u001b[32m      1\u001b[39m s1 = {\u001b[32m10\u001b[39m, \u001b[32m20\u001b[39m, \u001b[32m30\u001b[39m}\n\u001b[32m      2\u001b[39m s2 = {\u001b[32m50\u001b[39m, \u001b[32m60\u001b[39m, \u001b[32m40\u001b[39m}\n\u001b[32m----> \u001b[39m\u001b[32m3\u001b[39m \u001b[43ms1\u001b[49m\u001b[43m \u001b[49m\u001b[43m+\u001b[49m\u001b[43m \u001b[49m\u001b[43ms1\u001b[49m\n",
      "\u001b[31mTypeError\u001b[39m: unsupported operand type(s) for +: 'set' and 'set'"
     ]
    }
   ],
   "source": [
    "s1 = {10, 20, 30}\n",
    "s2 = {50, 60, 40}\n",
    "s1 + s1"
   ]
  },
  {
   "cell_type": "code",
   "execution_count": 13,
   "id": "6cb445f6-9c30-4044-b189-3e3017c6d997",
   "metadata": {},
   "outputs": [
    {
     "ename": "TypeError",
     "evalue": "unsupported operand type(s) for *: 'set' and 'int'",
     "output_type": "error",
     "traceback": [
      "\u001b[31m---------------------------------------------------------------------------\u001b[39m",
      "\u001b[31mTypeError\u001b[39m                                 Traceback (most recent call last)",
      "\u001b[36mCell\u001b[39m\u001b[36m \u001b[39m\u001b[32mIn[13]\u001b[39m\u001b[32m, line 1\u001b[39m\n\u001b[32m----> \u001b[39m\u001b[32m1\u001b[39m \u001b[43ms1\u001b[49m\u001b[43m \u001b[49m\u001b[43m*\u001b[49m\u001b[43m \u001b[49m\u001b[32;43m3\u001b[39;49m\n",
      "\u001b[31mTypeError\u001b[39m: unsupported operand type(s) for *: 'set' and 'int'"
     ]
    }
   ],
   "source": [
    "s1 * 3"
   ]
  },
  {
   "cell_type": "code",
   "execution_count": 14,
   "id": "61a666f2-81bc-4f1c-9e7a-e7742cf7437a",
   "metadata": {},
   "outputs": [
    {
     "data": {
      "text/plain": [
       "True"
      ]
     },
     "execution_count": 14,
     "metadata": {},
     "output_type": "execute_result"
    }
   ],
   "source": [
    "# Membership operators\n",
    "5 not in s1"
   ]
  },
  {
   "cell_type": "code",
   "execution_count": 15,
   "id": "b62b683c-b558-49a9-bc24-78c83614e75b",
   "metadata": {},
   "outputs": [
    {
     "data": {
      "text/plain": [
       "True"
      ]
     },
     "execution_count": 15,
     "metadata": {},
     "output_type": "execute_result"
    }
   ],
   "source": [
    "30 in s1"
   ]
  },
  {
   "cell_type": "markdown",
   "id": "10920fbf-b406-4e4e-9349-6352e32299a6",
   "metadata": {},
   "source": [
    "### Important Set Methods\n",
    "\n",
    "| Method                              | Description                                                                      |\n",
    "|-------------------------------------|----------------------------------------------------------------------------------|\n",
    "| `add(elem)`                         | Adds `elem` to the set if it’s not already present..                                                |\n",
    "| `update(iterable)`                  | Updates the set with elements from any iterable.                     |\n",
    "| `remove(elem)`                      | Removes the specified element; raises `KeyError` if `elem` is not in the set.                 |\n",
    "| `discard(elem)`                     | Removes the specified element; silently ignores if `elem` is not in the set.         |\n",
    "| `pop()`                             | Removes and returns an arbitrary element from the set.; raises `KeyError` if the set is empty. |\n",
    "| `clear()`                           | Removes all elements from the set.                                               |\n",
    "| `copy()`                            | Returns a shallow copy of the set.                                               |\n",
    "| `union(*sets)` or `।`               | Returns a new set containing all unique elements from all given sets.            |\n",
    "| `intersection(*sets)` or `&`        | Returns a new set with common elements from all sets.                            |\n",
    "| `difference(*sets)` or `-`          | Returns a set with elements in the first set but not in the others.              |\n",
    "| `symmetric_difference(set)` or `^`  | Returns a set with elements in either of the sets, but not in both.              |\n",
    "| `issubset(set)` or `<=`, `<`        | Returns `True` if the set is a subset of another set. Also supports `<=` for subset and `<` for proper subset.                           |\n",
    "| `issuperset(set)` or `>=`, `>`      | Returns `True` if the set is a superset of another set. Also supports `>=` for superset and `>` for proper superset.                         |\n",
    "| `isdisjoint(set)`                   | Returns `True` if two sets have no elements in common.                           |"
   ]
  },
  {
   "cell_type": "code",
   "execution_count": 16,
   "id": "6243a764-bcae-4f39-b2bf-ccf268524723",
   "metadata": {},
   "outputs": [
    {
     "data": {
      "text/plain": [
       "{10, 20, 30, 40, 50}"
      ]
     },
     "execution_count": 16,
     "metadata": {},
     "output_type": "execute_result"
    }
   ],
   "source": [
    "# to add single element\n",
    "elements = {10, 20, 30, 40}\n",
    "elements.add(50)\n",
    "elements"
   ]
  },
  {
   "cell_type": "code",
   "execution_count": 17,
   "id": "26ac6ef3-0cba-496a-b054-9c45cfb0c991",
   "metadata": {},
   "outputs": [
    {
     "data": {
      "text/plain": [
       "{10, 20, 30, 40, 50, 100, 200, 300, 400, 1000, 2000}"
      ]
     },
     "execution_count": 17,
     "metadata": {},
     "output_type": "execute_result"
    }
   ],
   "source": [
    "# to add multiple items\n",
    "elements.update([1000, 2000], range(100, 500, 100))\n",
    "elements"
   ]
  },
  {
   "cell_type": "code",
   "execution_count": 18,
   "id": "a3434b12-0816-4fb3-a1cf-ed45a1f656d3",
   "metadata": {},
   "outputs": [
    {
     "data": {
      "text/plain": [
       "{0, 1, 2, 3, 4, 5, 6, 7, 8, 9}"
      ]
     },
     "execution_count": 18,
     "metadata": {},
     "output_type": "execute_result"
    }
   ],
   "source": [
    "set_of_nums = set()\n",
    "set_of_nums.update(range(0, 10, 2), range(1, 10, 1))\n",
    "set_of_nums"
   ]
  },
  {
   "cell_type": "code",
   "execution_count": 19,
   "id": "9269d38a-401e-4971-b9a5-122cc5ab6400",
   "metadata": {},
   "outputs": [
    {
     "data": {
      "text/plain": [
       "{1, 2, 3, 4, 5, 6, 7, 8, 9}"
      ]
     },
     "execution_count": 19,
     "metadata": {},
     "output_type": "execute_result"
    }
   ],
   "source": [
    "# to remove element\n",
    "set_of_nums.remove(0)\n",
    "set_of_nums"
   ]
  },
  {
   "cell_type": "code",
   "execution_count": 20,
   "id": "5fbcacdc-6c20-46e1-96ec-502ef6d324bb",
   "metadata": {},
   "outputs": [
    {
     "data": {
      "text/plain": [
       "{1, 2, 3, 4, 5, 6, 7, 8, 9}"
      ]
     },
     "execution_count": 20,
     "metadata": {},
     "output_type": "execute_result"
    }
   ],
   "source": [
    "set_of_nums.discard(0)\n",
    "set_of_nums"
   ]
  },
  {
   "cell_type": "code",
   "execution_count": 21,
   "id": "91fb46c6-1c52-41ed-9bb9-f057091a6fa4",
   "metadata": {},
   "outputs": [
    {
     "data": {
      "text/plain": [
       "1"
      ]
     },
     "execution_count": 21,
     "metadata": {},
     "output_type": "execute_result"
    }
   ],
   "source": [
    "# return and remove random element\n",
    "set_of_nums.pop()"
   ]
  },
  {
   "cell_type": "code",
   "execution_count": 22,
   "id": "a2d22b34-b030-4978-8c1b-6e108393bc5e",
   "metadata": {},
   "outputs": [],
   "source": [
    "# to remove all elements\n",
    "set_of_nums.clear()"
   ]
  },
  {
   "cell_type": "code",
   "execution_count": 23,
   "id": "46f8b982-053c-4bb5-8a94-bfa325384f0c",
   "metadata": {},
   "outputs": [
    {
     "data": {
      "text/plain": [
       "set()"
      ]
     },
     "execution_count": 23,
     "metadata": {},
     "output_type": "execute_result"
    }
   ],
   "source": [
    "set_of_nums"
   ]
  },
  {
   "cell_type": "code",
   "execution_count": 24,
   "id": "f14e4087-8998-4b6b-9b74-b6f6ff62fdc4",
   "metadata": {},
   "outputs": [
    {
     "ename": "KeyError",
     "evalue": "'pop from an empty set'",
     "output_type": "error",
     "traceback": [
      "\u001b[31m---------------------------------------------------------------------------\u001b[39m",
      "\u001b[31mKeyError\u001b[39m                                  Traceback (most recent call last)",
      "\u001b[36mCell\u001b[39m\u001b[36m \u001b[39m\u001b[32mIn[24]\u001b[39m\u001b[32m, line 1\u001b[39m\n\u001b[32m----> \u001b[39m\u001b[32m1\u001b[39m \u001b[43mset_of_nums\u001b[49m\u001b[43m.\u001b[49m\u001b[43mpop\u001b[49m\u001b[43m(\u001b[49m\u001b[43m)\u001b[49m\n",
      "\u001b[31mKeyError\u001b[39m: 'pop from an empty set'"
     ]
    }
   ],
   "source": [
    "set_of_nums.pop()"
   ]
  },
  {
   "cell_type": "markdown",
   "id": "bf0be644-47d3-4b28-becd-62d407d4b65b",
   "metadata": {},
   "source": [
    "**Union (A ∪ B)**\n",
    "\n",
    "Elements that are in `A`, in `B`, or in both.\n",
    "\n",
    "```mermaid\n",
    "graph TD\n",
    "    A[Set A: 1, 2, 3]\n",
    "    B[Set B: 3, 4, 5]\n",
    "    U[Union: 1, 2, 3, 4, 5]\n",
    "    A --> U\n",
    "    B --> U\n",
    "```"
   ]
  },
  {
   "cell_type": "code",
   "execution_count": 25,
   "id": "60417627-ce82-492b-b9ad-0da77135ab0c",
   "metadata": {},
   "outputs": [
    {
     "data": {
      "text/plain": [
       "{1, 2, 3, 4, 5}"
      ]
     },
     "execution_count": 25,
     "metadata": {},
     "output_type": "execute_result"
    }
   ],
   "source": [
    "s1 = {1, 2, 3}\n",
    "s2 = {3, 4, 5}\n",
    "s1.union(s2)"
   ]
  },
  {
   "cell_type": "code",
   "execution_count": 26,
   "id": "b1f06b4d-0faa-4304-a40d-a0c3e1ddc0b0",
   "metadata": {},
   "outputs": [
    {
     "data": {
      "text/plain": [
       "{1, 2, 3, 4, 5}"
      ]
     },
     "execution_count": 26,
     "metadata": {},
     "output_type": "execute_result"
    }
   ],
   "source": [
    "s1 | s2"
   ]
  },
  {
   "cell_type": "markdown",
   "id": "cd1ae577-0f72-42d2-8782-d160c4660280",
   "metadata": {},
   "source": [
    "**Intersection (A ∩ B)**\n",
    "\n",
    "Elements that are in both (common) `A` and `B`.\n",
    "\n",
    "```mermaid\n",
    "graph TD\n",
    "    A[Set A: 1, 2, 3]\n",
    "    B[Set B: 3, 4, 5]\n",
    "    I[Intersection: 3]\n",
    "    A --> I\n",
    "    B --> I\n",
    "```"
   ]
  },
  {
   "cell_type": "code",
   "execution_count": 27,
   "id": "37f934d2-ee0e-44d1-89e2-03f6c313ebef",
   "metadata": {},
   "outputs": [
    {
     "data": {
      "text/plain": [
       "{3}"
      ]
     },
     "execution_count": 27,
     "metadata": {},
     "output_type": "execute_result"
    }
   ],
   "source": [
    "s1.intersection(s2)"
   ]
  },
  {
   "cell_type": "code",
   "execution_count": 28,
   "id": "098ef607-bb0a-4db4-80d2-c84654458e61",
   "metadata": {},
   "outputs": [
    {
     "data": {
      "text/plain": [
       "{3}"
      ]
     },
     "execution_count": 28,
     "metadata": {},
     "output_type": "execute_result"
    }
   ],
   "source": [
    "s1 & s2"
   ]
  },
  {
   "cell_type": "markdown",
   "id": "20e470b6-e494-439a-bb2f-da2cadf96d35",
   "metadata": {},
   "source": [
    "**Difference (A - B)**\n",
    "\n",
    "Elements that are in `A` but not in `B`.\n",
    "\n",
    "```mermaid\n",
    "graph TD\n",
    "    A[Set A: 1, 2, 3]\n",
    "    B[Set B: 3, 4, 5]\n",
    "    D[Difference A - B: 1, 2]\n",
    "    A --> D\n",
    "    B -. not in .-> D\n",
    "```"
   ]
  },
  {
   "cell_type": "code",
   "execution_count": 29,
   "id": "0c636e8c-bc8d-4e13-b62a-2d63b8b6d3bd",
   "metadata": {},
   "outputs": [
    {
     "data": {
      "text/plain": [
       "{1, 2}"
      ]
     },
     "execution_count": 29,
     "metadata": {},
     "output_type": "execute_result"
    }
   ],
   "source": [
    "s1.difference(s2)"
   ]
  },
  {
   "cell_type": "code",
   "execution_count": 30,
   "id": "722169eb-1cc2-4b61-8fc4-9f95084c1b7c",
   "metadata": {},
   "outputs": [
    {
     "data": {
      "text/plain": [
       "{1, 2}"
      ]
     },
     "execution_count": 30,
     "metadata": {},
     "output_type": "execute_result"
    }
   ],
   "source": [
    "s1 - s2"
   ]
  },
  {
   "cell_type": "markdown",
   "id": "db4475b9-46eb-46d8-83b2-007e798c7a40",
   "metadata": {},
   "source": [
    "**Symmetric Difference (A △ B)**\n",
    "\n",
    "Elements that are in either `A` or `B`, but not in both.\n",
    "\n",
    "```mermaid\n",
    "graph TD\n",
    "    A[Set A: 1, 2, 3]\n",
    "    B[Set B: 3, 4, 5]\n",
    "    SD[Symmetric Difference: 1, 2, 4, 5]\n",
    "    A --> SD\n",
    "    B --> SD\n",
    "    Common[Common Element: 3]\n",
    "    A --> Common\n",
    "    B --> Common\n",
    "    Common -. excluded .-> SD\n",
    "```"
   ]
  },
  {
   "cell_type": "code",
   "execution_count": 31,
   "id": "ea3a0d06-0408-4837-b15a-9a73b00bd14d",
   "metadata": {},
   "outputs": [
    {
     "data": {
      "text/plain": [
       "{1, 2, 4, 5}"
      ]
     },
     "execution_count": 31,
     "metadata": {},
     "output_type": "execute_result"
    }
   ],
   "source": [
    "s1 ^ s2"
   ]
  },
  {
   "cell_type": "code",
   "execution_count": 32,
   "id": "57cecab4-b5b0-4d0a-a09f-a8bb4b4b050a",
   "metadata": {},
   "outputs": [
    {
     "data": {
      "text/plain": [
       "{1, 2, 4, 5}"
      ]
     },
     "execution_count": 32,
     "metadata": {},
     "output_type": "execute_result"
    }
   ],
   "source": [
    "s1.symmetric_difference(s2)"
   ]
  },
  {
   "cell_type": "code",
   "execution_count": 33,
   "id": "7ad9fbc7-3c20-4ae1-8766-a4278e882a36",
   "metadata": {},
   "outputs": [
    {
     "data": {
      "text/plain": [
       "{10, 20, 30}"
      ]
     },
     "execution_count": 33,
     "metadata": {},
     "output_type": "execute_result"
    }
   ],
   "source": [
    "# aliasing – creating a new reference to the same object\n",
    "elements = {10, 20, 30}\n",
    "new_elements = elements\n",
    "new_elements"
   ]
  },
  {
   "cell_type": "code",
   "execution_count": 34,
   "id": "d977b430-6d87-4e9d-873a-8ae5e44416df",
   "metadata": {},
   "outputs": [
    {
     "data": {
      "text/plain": [
       "{10, 20, 30, 50}"
      ]
     },
     "execution_count": 34,
     "metadata": {},
     "output_type": "execute_result"
    }
   ],
   "source": [
    "new_elements.add(50)\n",
    "elements"
   ]
  },
  {
   "cell_type": "code",
   "execution_count": 35,
   "id": "16be4eda-85fa-4cc7-a58c-fc575df2a059",
   "metadata": {},
   "outputs": [
    {
     "data": {
      "text/plain": [
       "{10, 20, 30, 50}"
      ]
     },
     "execution_count": 35,
     "metadata": {},
     "output_type": "execute_result"
    }
   ],
   "source": [
    "new_elements"
   ]
  },
  {
   "cell_type": "code",
   "execution_count": 36,
   "id": "274cfd17-7f0b-4f06-9abe-d86ac2890d09",
   "metadata": {},
   "outputs": [
    {
     "data": {
      "text/plain": [
       "{10, 20, 30}"
      ]
     },
     "execution_count": 36,
     "metadata": {},
     "output_type": "execute_result"
    }
   ],
   "source": [
    "# cloning - shallow copy\n",
    "elements = {10, 20, 30}\n",
    "new_elements = elements.copy()\n",
    "new_elements"
   ]
  },
  {
   "cell_type": "code",
   "execution_count": 37,
   "id": "ecb11504-b091-42ee-b4a4-4b5c024a54b4",
   "metadata": {},
   "outputs": [
    {
     "data": {
      "text/plain": [
       "{10, 20, 30}"
      ]
     },
     "execution_count": 37,
     "metadata": {},
     "output_type": "execute_result"
    }
   ],
   "source": [
    "new_elements.add(500)\n",
    "elements"
   ]
  },
  {
   "cell_type": "code",
   "execution_count": 38,
   "id": "7af617d6-e293-4c7a-8776-90e71519d3fa",
   "metadata": {},
   "outputs": [
    {
     "data": {
      "text/plain": [
       "{10, 20, 30, 500}"
      ]
     },
     "execution_count": 38,
     "metadata": {},
     "output_type": "execute_result"
    }
   ],
   "source": [
    "new_elements"
   ]
  },
  {
   "cell_type": "markdown",
   "id": "3026687d-a637-4e61-82d1-e8d3d17917af",
   "metadata": {},
   "source": [
    "### Set Comprehension"
   ]
  },
  {
   "cell_type": "code",
   "execution_count": 39,
   "id": "d74f82e3-c6d6-426d-9c7a-abe808640f8d",
   "metadata": {},
   "outputs": [
    {
     "data": {
      "text/plain": [
       "{0, 1, 4, 9, 16, 25, 36, 49, 64, 81, 100}"
      ]
     },
     "execution_count": 39,
     "metadata": {},
     "output_type": "execute_result"
    }
   ],
   "source": [
    "square_nums = {num * num for num in range(11)}\n",
    "square_nums"
   ]
  },
  {
   "cell_type": "code",
   "execution_count": 40,
   "id": "2766f089-4023-4d58-b02c-bc28faef8ff9",
   "metadata": {},
   "outputs": [
    {
     "data": {
      "text/plain": [
       "{2, 4, 8, 16, 32, 64, 128, 256, 512, 1024}"
      ]
     },
     "execution_count": 40,
     "metadata": {},
     "output_type": "execute_result"
    }
   ],
   "source": [
    "powers_of_two = {2 ** num for num in range(1, 11)}\n",
    "powers_of_two"
   ]
  },
  {
   "cell_type": "code",
   "execution_count": 41,
   "id": "808c067f-9d28-478c-a774-ff1975bd6567",
   "metadata": {},
   "outputs": [
    {
     "name": "stdout",
     "output_type": "stream",
     "text": [
      "Enter the Word: Hola\n"
     ]
    },
    {
     "data": {
      "text/plain": [
       "{'a', 'o'}"
      ]
     },
     "execution_count": 41,
     "metadata": {},
     "output_type": "execute_result"
    }
   ],
   "source": [
    "#  Write a Program to Print different Vowels Present in the given Word? \n",
    "word = input(\"Enter the Word:\")\n",
    "(set(word) & {\"a\", \"e\", \"i\", \"o\", \"u\"})"
   ]
  }
 ],
 "metadata": {
  "kernelspec": {
   "display_name": "Python 3 (CoCalc)",
   "language": "python",
   "name": "python3"
  },
  "language_info": {
   "codemirror_mode": {
    "name": "ipython",
    "version": 3
   },
   "file_extension": ".py",
   "mimetype": "text/x-python",
   "name": "python",
   "nbconvert_exporter": "python",
   "pygments_lexer": "ipython3",
   "version": "3.12.10"
  }
 },
 "nbformat": 4,
 "nbformat_minor": 5
}
