{
 "cells": [
  {
   "cell_type": "code",
   "execution_count": 1,
   "metadata": {},
   "outputs": [],
   "source": [
    "#include <stdio.h>\n",
    "#include <iostream>\n",
    "\n",
    "using namespace std;"
   ]
  },
  {
   "cell_type": "code",
   "execution_count": 2,
   "metadata": {},
   "outputs": [
    {
     "name": "stdout",
     "output_type": "stream",
     "text": [
      "Привет, мир!\n",
      "안녕하세요, 세계!"
     ]
    }
   ],
   "source": [
    "printf(\"Привет, мир!\\n\");\n",
    "cout << \"안녕하세요, 세계!\";"
   ]
  },
  {
   "cell_type": "markdown",
   "metadata": {},
   "source": [
    "In computer science, a recursive function is a function that calls itself.\n",
    "    \n",
    "### Rules of Recursion\n",
    "\n",
    "When recursive functions are implemented incorrectly, it causes fatal issues because the program will get stuck and not terminate. Infinite recursive calls result in *Stack OverflowError*. Stack OverflowError is when the maximum number of calls stack of the program exceeds a limited amount of memory space.\n",
    "\n",
    "### Base Case\n",
    "\n",
    "In recursion, there must be a base case (also referred to as a terminating case). Because recursive methods call themselves, they will never stop unless this base case is reached. *Stack Overflow* from recursion is most likely the result of not having a proper base case. In the Base case, there are *no* recursive function calls.\n",
    "\n",
    "![example](https://i.ibb.co/xGp8hFd/image.png)"
   ]
  },
  {
   "cell_type": "code",
   "execution_count": 3,
   "metadata": {},
   "outputs": [
    {
     "name": "stdout",
     "output_type": "stream",
     "text": [
      "3\n",
      "9"
     ]
    }
   ],
   "source": [
    "// Normal Function\n",
    "\n",
    "int func(int n) {\n",
    "    printf(\"%d\\n\", n);\n",
    "    return n*n;\n",
    "}\n",
    "\n",
    "int result = func(3);\n",
    "printf(\"%d\", result);"
   ]
  },
  {
   "cell_type": "code",
   "execution_count": 4,
   "metadata": {},
   "outputs": [
    {
     "name": "stdout",
     "output_type": "stream",
     "text": [
      "3 2 1 "
     ]
    }
   ],
   "source": [
    "// recursive functions\n",
    "\n",
    "// tail recursion\n",
    "void func2(int n) {\n",
    "    if (n > 0) {\n",
    "        printf(\"%d \", n); // here printing is done at calling time of function\n",
    "        func2(n-1);\n",
    "    }\n",
    "}\n",
    "\n",
    "func2(3); // expected output is 3 2 1"
   ]
  },
  {
   "cell_type": "code",
   "execution_count": 5,
   "metadata": {},
   "outputs": [
    {
     "name": "stdout",
     "output_type": "stream",
     "text": [
      "1 2 3 "
     ]
    }
   ],
   "source": [
    "// head recursion\n",
    "void func3(int n) {\n",
    "    if (n > 0) {\n",
    "        func3(n-1);\n",
    "        printf(\"%d \", n); // here printing is done at returning time of function call\n",
    "    }\n",
    "}\n",
    "\n",
    "func3(3); // expected output is 1 2 3"
   ]
  },
  {
   "cell_type": "markdown",
   "metadata": {},
   "source": [
    "#### Recursion has 2 phases\n",
    "\n",
    "* Calling\n",
    "* Returning"
   ]
  },
  {
   "cell_type": "code",
   "execution_count": 6,
   "metadata": {},
   "outputs": [
    {
     "name": "stdout",
     "output_type": "stream",
     "text": [
      "3 2 1 1 2 3 "
     ]
    }
   ],
   "source": [
    "// for n calls there is n+1 call stack, height of tracing tree is n+1\n",
    "\n",
    "void func4(int n) {\n",
    "    if (n > 0) {\n",
    "        printf(\"%d \", n); // execute at function calling time \n",
    "        func4(n-1); // return func4(n-1) * 2 | 2 will be multiplied at fn calls return time\n",
    "        printf(\"%d \", n); // exceute at function calls return time\n",
    "    }\n",
    "}\n",
    "\n",
    "func4(3); // expected output is 3 2 1 1 2 3"
   ]
  },
  {
   "cell_type": "markdown",
   "metadata": {},
   "source": [
    "In computer science, the divide & conquer method is when the problem is solved by all of its smaller components. It is necessary to make the problem smaller to reach the base case. Otherwise, if the recursive call does not converge to a base case, a stack overflow occurs.\n",
    "\n",
    "### Difference between loop & recursion\n",
    "\n",
    "- Recursion has 2 phases\n",
    "    - Calling/Ascending Phase\n",
    "    - Returning/Descending Phase\n",
    "- Loop has 1 phase\n",
    "    - Ascending Phase\n",
    "\n",
    "### Call Stack of Recursive Function\n",
    "\n",
    "- Each stack variable `n` is different from each other.\n",
    "- Once `n` reaches the base case and terminated, it will delete the record of `n=0` & goes back to the previous call `n=1` & deleting the records. It will delete all the records in this way.\n",
    "\n",
    "<img src=\"https://i.ibb.co/99YTpd4/image.png\" alt=\"call-stack\" width=\"400px\"/>\n"
   ]
  },
  {
   "cell_type": "code",
   "execution_count": 7,
   "metadata": {},
   "outputs": [
    {
     "name": "stdout",
     "output_type": "stream",
     "text": [
      "3 2 1 "
     ]
    }
   ],
   "source": [
    "// for n calls there is n+1 call stack, height of tracing tree is n+1\n",
    "\n",
    "void fun(int n) {\n",
    "    if (n > 0) {\n",
    "        printf(\"%d \", n);\n",
    "        fun(n-1);\n",
    "    }\n",
    "}\n",
    "\n",
    "int n = 3;\n",
    "fun(n);\n",
    "\n",
    "// Time Complexity is O(n)\n",
    "// Space Complexity is O(n)"
   ]
  },
  {
   "cell_type": "markdown",
   "metadata": {},
   "source": [
    "### Recurrence relation to find Time Complexity\n",
    "\n",
    "For analyzing recursive algorithms, recurrence relations are used. Recurrence relations consist of a two-part analysis:\n",
    "\n",
    "* Big O for Base Case\n",
    "* Big O for Recursive Case\n",
    "\n",
    "#### Recurrence relation of below program\n",
    "\n",
    "<img src=\"https://i.ibb.co/SdqYbsm/image.png\" alt=\"\" width=\"400px\">\n",
    "\n",
    "$T(n) = T(n-1) + 2$\n",
    "\n",
    "$T(n) = T(n-1) + 1$  ——————— 1 \n",
    "\n",
    "$T(n) = T(n-2) +1 + 1$ \n",
    "\n",
    "$T(n) = T(n-2) + 2$  ——————— 2\n",
    "\n",
    "$T(n) = T(n-3) + 1 +2$\n",
    "\n",
    "$=$ $T(n-3) + 3$  —————- 3\n",
    "\n",
    "$T(n) = T(n-k) + k$  → assume n-k = 0, n=k\n",
    "\n",
    "$=$ $T(n-n) + n$\n",
    "\n",
    "$=$ $1 + n$\n",
    "\n",
    "$=$ $n$\n",
    "\n",
    "$T(n) = O(n)$"
   ]
  },
  {
   "cell_type": "code",
   "execution_count": 8,
   "metadata": {},
   "outputs": [
    {
     "name": "stdout",
     "output_type": "stream",
     "text": [
      "5 4 3 2 1 "
     ]
    }
   ],
   "source": [
    "void func6(int n) { // --- T(n) [sum of all statements]\n",
    "    if (n > 0) { // ------------ 1\n",
    "        printf(\"%d \", n); // ------------ 1\n",
    "        func6(n-1); // ------------ T(n-1)\n",
    "    }               // ----------- == T(n) => T(n-1) + 2\n",
    "}\n",
    "\n",
    "func6(5);"
   ]
  },
  {
   "cell_type": "markdown",
   "metadata": {},
   "source": [
    "Calculating `Big O` in this way is difficult and error-prone. There is a concept known as the `master theorem`. The master theorem helps programmers easily analyze the time and space complexities of recursive algorithms."
   ]
  },
  {
   "cell_type": "markdown",
   "metadata": {},
   "source": [
    "### Types of Recursion\n",
    "\n",
    "* Tail recursion\n",
    "* Head recursion\n",
    "* Linear recursion\n",
    "* Tree recursion\n",
    "* Nested recursion\n",
    "* Indirect recursion\n",
    "\n",
    "> ### [Recursion types in details](https://imrande.notion.site/Types-of-Recursion-08b2594c54754161afa8cf997df0478e)"
   ]
  },
  {
   "cell_type": "code",
   "execution_count": null,
   "metadata": {},
   "outputs": [],
   "source": []
  }
 ],
 "metadata": {
  "kernelspec": {
   "display_name": "C++11",
   "language": "C++11",
   "name": "xeus-cling-cpp11"
  },
  "language_info": {
   "codemirror_mode": "text/x-c++src",
   "file_extension": ".cpp",
   "mimetype": "text/x-c++src",
   "name": "c++",
   "version": "11"
  },
  "latex_envs": {
   "LaTeX_envs_menu_present": true,
   "autoclose": false,
   "autocomplete": true,
   "bibliofile": "biblio.bib",
   "cite_by": "apalike",
   "current_citInitial": 1,
   "eqLabelWithNumbers": true,
   "eqNumInitial": 1,
   "hotkeys": {
    "equation": "Ctrl-E",
    "itemize": "Ctrl-I"
   },
   "labels_anchors": false,
   "latex_user_defs": false,
   "report_style_numbering": false,
   "user_envs_cfg": false
  }
 },
 "nbformat": 4,
 "nbformat_minor": 4
}
