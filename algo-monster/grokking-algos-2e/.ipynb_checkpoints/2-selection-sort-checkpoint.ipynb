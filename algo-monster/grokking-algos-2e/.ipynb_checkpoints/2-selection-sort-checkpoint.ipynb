{
 "cells": [
  {
   "cell_type": "markdown",
   "id": "0acc029b",
   "metadata": {},
   "source": [
    "# Chapter 2｜Selection Sort"
   ]
  }
 ],
 "metadata": {
  "kernelspec": {
   "display_name": "Python 3 (system-wide)",
   "language": "python",
   "name": "python3"
  },
  "language_info": {
   "codemirror_mode": {
    "name": "ipython",
    "version": 3
   },
   "file_extension": ".py",
   "mimetype": "text/x-python",
   "name": "python",
   "nbconvert_exporter": "python",
   "pygments_lexer": "ipython3",
   "version": "3.10.12"
  }
 },
 "nbformat": 4,
 "nbformat_minor": 5
}
