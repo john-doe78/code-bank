{
 "cells": [
  {
   "cell_type": "markdown",
   "id": "c81bb559",
   "metadata": {},
   "source": [
    "# Chapter 1｜Introducing data structures: Why you should learn about data structures"
   ]
  },
  {
   "cell_type": "code",
   "execution_count": null,
   "id": "cde6d18d",
   "metadata": {},
   "outputs": [],
   "source": []
  },
  {
   "cell_type": "markdown",
   "id": "a6dfa365",
   "metadata": {},
   "source": [
    "# Chapter 2｜Static arrays: Building your first data structure"
   ]
  },
  {
   "cell_type": "code",
   "execution_count": null,
   "id": "760505c5",
   "metadata": {},
   "outputs": [],
   "source": []
  },
  {
   "cell_type": "markdown",
   "id": "008e0d5f",
   "metadata": {},
   "source": [
    "# Chapter 3｜Sorted arrays: Searching faster, at a price"
   ]
  },
  {
   "cell_type": "code",
   "execution_count": null,
   "id": "0f1954f4",
   "metadata": {},
   "outputs": [],
   "source": []
  }
 ],
 "metadata": {
  "kernelspec": {
   "display_name": "Python 3 (system-wide)",
   "language": "python",
   "name": "python3"
  },
  "language_info": {
   "codemirror_mode": {
    "name": "ipython",
    "version": 3
   },
   "file_extension": ".py",
   "mimetype": "text/x-python",
   "name": "python",
   "nbconvert_exporter": "python",
   "pygments_lexer": "ipython3",
   "version": "3.10.12"
  }
 },
 "nbformat": 4,
 "nbformat_minor": 5
}
