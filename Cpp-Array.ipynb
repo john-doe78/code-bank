{
 "cells": [
  {
   "cell_type": "code",
   "execution_count": 1,
   "id": "27ca0ef0",
   "metadata": {},
   "outputs": [],
   "source": [
    "#include <bits/stdc++.h>\n",
    "using namespace std;"
   ]
  },
  {
   "cell_type": "markdown",
   "id": "eff0b9a2",
   "metadata": {},
   "source": [
    "### Insert an Element"
   ]
  },
  {
   "cell_type": "code",
   "execution_count": 2,
   "id": "5d8b4720",
   "metadata": {},
   "outputs": [],
   "source": [
    "void insertValue(int arr[], int n, int pos, int value) {\n",
    "    for (int i = n - 1; i >= pos; i--) {\n",
    "        arr[i+1] = arr[i];\n",
    "    }\n",
    "\n",
    "    arr[pos] = value;\n",
    "}"
   ]
  },
  {
   "cell_type": "code",
   "execution_count": 3,
   "id": "b501d127",
   "metadata": {},
   "outputs": [
    {
     "name": "stdout",
     "output_type": "stream",
     "text": [
      "Insert Array elements 10 20 30 40 50 60\n",
      "Index position and value to insert 6 70\n",
      "After insert, Array is 10 20 30 40 50 60 70 "
     ]
    }
   ],
   "source": [
    "const int n = 6;\n",
    "\n",
    "int arr[n+1];\n",
    "cout << \"Insert Array elements \";\n",
    "for (int i = 0; i < n; i++) {\n",
    "    cin >> arr[i];\n",
    "}\n",
    "\n",
    "int pos, value;\n",
    "cout << \"Index position and value to insert \";\n",
    "cin >> pos >> value;\n",
    "\n",
    "insertValue(arr, n, pos, value);\n",
    "cout << \"After insert, Array is \";\n",
    "for (int i: arr) {\n",
    "    cout << i << \" \";\n",
    "}"
   ]
  },
  {
   "cell_type": "markdown",
   "id": "78bce2d9",
   "metadata": {},
   "source": [
    "### Delete an Array Element"
   ]
  },
  {
   "cell_type": "code",
   "execution_count": 4,
   "id": "2977a175",
   "metadata": {},
   "outputs": [],
   "source": [
    "void deleteArrayElement(int arr[], int n, int pos) {\n",
    "    // O(n)\n",
    "    for (int i = pos; i < n; i++) {\n",
    "        arr[i] = arr[i + 1];\n",
    "    }\n",
    "\n",
    "    arr[n-1] = 0; // assigned a garbage value\n",
    "}"
   ]
  },
  {
   "cell_type": "code",
   "execution_count": 5,
   "id": "9016837b",
   "metadata": {},
   "outputs": [
    {
     "name": "stdout",
     "output_type": "stream",
     "text": [
      "Insert Array elements 10 20 30 40 50\n",
      "Position to delete 4\n",
      "After delete, Array is 10 20 30 40 0 "
     ]
    }
   ],
   "source": [
    "const int n = 5;\n",
    "\n",
    "int arr[n];\n",
    "cout << \"Insert Array elements \";\n",
    "for (int i = 0; i < n; i++) {\n",
    "    cin >> arr[i];\n",
    "}\n",
    "\n",
    "int pos;\n",
    "cout << \"Position to delete \";\n",
    "cin >> pos;\n",
    "\n",
    "deleteArrayElement(arr, n, pos);\n",
    "cout << \"After delete, Array is \";\n",
    "for (int i: arr) {\n",
    "    cout << i << \" \";\n",
    "}"
   ]
  },
  {
   "cell_type": "markdown",
   "id": "3a77847a",
   "metadata": {},
   "source": [
    "### Reverse an Array"
   ]
  },
  {
   "cell_type": "code",
   "execution_count": 6,
   "id": "57d8e627",
   "metadata": {},
   "outputs": [],
   "source": [
    "void twoPointerSwap(int arr[], int n) {\n",
    "    int first = 0;\n",
    "    int last = n-1;\n",
    "\n",
    "    // O(n)\n",
    "    while (first < last) {\n",
    "        swap(arr[first], arr[last]);\n",
    "        first += 1;\n",
    "        last -= 1;\n",
    "    }\n",
    "}"
   ]
  },
  {
   "cell_type": "code",
   "execution_count": 7,
   "id": "a6ec6b17",
   "metadata": {},
   "outputs": [],
   "source": [
    "void reverseArray(int arr[], int n) {\n",
    "    // O(n)\n",
    "    for (int i = 0; i < n / 2; i++) {\n",
    "        swap(arr[i], arr[n - i - 1]);\n",
    "    }\n",
    "}"
   ]
  },
  {
   "cell_type": "code",
   "execution_count": 8,
   "id": "c2a8053e",
   "metadata": {},
   "outputs": [
    {
     "name": "stdout",
     "output_type": "stream",
     "text": [
      "Array Elements 10 20 30 40 50\n",
      "After reverse (in place), array is 50 40 30 20 10 "
     ]
    }
   ],
   "source": [
    "const int n = 5;\n",
    "\n",
    "int arr[n];\n",
    "cout << \"Array Elements \";\n",
    "for (int i = 0; i < n; i++) {\n",
    "    cin >> arr[i];\n",
    "}\n",
    "\n",
    "twoPointerSwap(arr, n);\n",
    "cout << \"After reverse (in place), array is \";\n",
    "for (int i: arr) {\n",
    "    cout << i << \" \";\n",
    "}"
   ]
  },
  {
   "cell_type": "code",
   "execution_count": 9,
   "id": "8870487a",
   "metadata": {},
   "outputs": [
    {
     "name": "stdout",
     "output_type": "stream",
     "text": [
      "After reverse (in place), array is 10 20 30 40 50 "
     ]
    }
   ],
   "source": [
    "reverseArray(arr, n);\n",
    "cout << \"After reverse (in place), array is \";\n",
    "for (int i: arr) {\n",
    "    cout << i << \" \";\n",
    "}"
   ]
  }
 ],
 "metadata": {
  "kernelspec": {
   "display_name": "C++11",
   "language": "C++11",
   "name": "xeus-cling-cpp11"
  },
  "language_info": {
   "codemirror_mode": "text/x-c++src",
   "file_extension": ".cpp",
   "mimetype": "text/x-c++src",
   "name": "c++",
   "version": "11"
  }
 },
 "nbformat": 4,
 "nbformat_minor": 5
}
