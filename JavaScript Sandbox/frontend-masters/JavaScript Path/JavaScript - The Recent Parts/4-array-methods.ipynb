{
 "cells": [
  {
   "cell_type": "markdown",
   "id": "55088adb",
   "metadata": {},
   "source": [
    "# Array Methods"
   ]
  },
  {
   "cell_type": "code",
   "execution_count": 1,
   "id": "e2ce69e7",
   "metadata": {},
   "outputs": [],
   "source": [
    "let arr = [\n",
    "    {a: 1},\n",
    "    {a: 2}\n",
    "];"
   ]
  },
  {
   "cell_type": "code",
   "execution_count": 2,
   "id": "367ce34c",
   "metadata": {},
   "outputs": [
    {
     "data": {
      "text/plain": [
       "{ a: 2 }"
      ]
     },
     "execution_count": 2,
     "metadata": {},
     "output_type": "execute_result"
    }
   ],
   "source": [
    "// find method\n",
    "arr.find((v) => v && v.a > 1);"
   ]
  },
  {
   "cell_type": "code",
   "execution_count": 3,
   "id": "479233d3",
   "metadata": {},
   "outputs": [],
   "source": [
    "arr.find((v) => v && v.a > 10);"
   ]
  },
  {
   "cell_type": "code",
   "execution_count": 4,
   "id": "f39bf361",
   "metadata": {},
   "outputs": [
    {
     "data": {
      "text/plain": [
       "1"
      ]
     },
     "execution_count": 4,
     "metadata": {},
     "output_type": "execute_result"
    }
   ],
   "source": [
    "// findIndex\n",
    "arr.findIndex((v) => v && v.a > 1);"
   ]
  },
  {
   "cell_type": "code",
   "execution_count": 5,
   "id": "aa2142aa",
   "metadata": {},
   "outputs": [
    {
     "data": {
      "text/plain": [
       "-1"
      ]
     },
     "execution_count": 5,
     "metadata": {},
     "output_type": "execute_result"
    }
   ],
   "source": [
    "arr.findIndex((v) => v && v.a > 10);"
   ]
  },
  {
   "cell_type": "code",
   "execution_count": 6,
   "id": "96b6db3d",
   "metadata": {},
   "outputs": [
    {
     "data": {
      "text/plain": [
       "[ 10, 20, NaN, 30, 40, 50 ]"
      ]
     },
     "execution_count": 6,
     "metadata": {},
     "output_type": "execute_result"
    }
   ],
   "source": [
    "arr = [10, 20, NaN, 30, 40, 50];"
   ]
  },
  {
   "cell_type": "code",
   "execution_count": 7,
   "id": "43ad406d",
   "metadata": {},
   "outputs": [
    {
     "data": {
      "text/plain": [
       "true"
      ]
     },
     "execution_count": 7,
     "metadata": {},
     "output_type": "execute_result"
    }
   ],
   "source": [
    "arr.includes(20);"
   ]
  },
  {
   "cell_type": "code",
   "execution_count": 8,
   "id": "4c083e3e",
   "metadata": {},
   "outputs": [
    {
     "data": {
      "text/plain": [
       "false"
      ]
     },
     "execution_count": 8,
     "metadata": {},
     "output_type": "execute_result"
    }
   ],
   "source": [
    "arr.includes(60);"
   ]
  },
  {
   "cell_type": "code",
   "execution_count": 9,
   "id": "23cec9e1",
   "metadata": {},
   "outputs": [
    {
     "data": {
      "text/plain": [
       "false"
      ]
     },
     "execution_count": 9,
     "metadata": {},
     "output_type": "execute_result"
    }
   ],
   "source": [
    "arr.includes(20, 3);"
   ]
  },
  {
   "cell_type": "code",
   "execution_count": 10,
   "id": "d8e447f0",
   "metadata": {},
   "outputs": [
    {
     "data": {
      "text/plain": [
       "true"
      ]
     },
     "execution_count": 10,
     "metadata": {},
     "output_type": "execute_result"
    }
   ],
   "source": [
    "arr.includes(10, 0);"
   ]
  },
  {
   "cell_type": "code",
   "execution_count": 11,
   "id": "76a5b570",
   "metadata": {},
   "outputs": [
    {
     "data": {
      "text/plain": [
       "true"
      ]
     },
     "execution_count": 11,
     "metadata": {},
     "output_type": "execute_result"
    }
   ],
   "source": [
    "arr.includes(20, 1);"
   ]
  },
  {
   "cell_type": "code",
   "execution_count": 12,
   "id": "2695b322",
   "metadata": {},
   "outputs": [
    {
     "data": {
      "text/plain": [
       "true"
      ]
     },
     "execution_count": 12,
     "metadata": {},
     "output_type": "execute_result"
    }
   ],
   "source": [
    "arr.includes(40, -2);"
   ]
  },
  {
   "cell_type": "code",
   "execution_count": 13,
   "id": "53fc39ef",
   "metadata": {},
   "outputs": [
    {
     "data": {
      "text/plain": [
       "true"
      ]
     },
     "execution_count": 13,
     "metadata": {},
     "output_type": "execute_result"
    }
   ],
   "source": [
    "arr.includes(20, -5);"
   ]
  },
  {
   "cell_type": "code",
   "execution_count": 14,
   "id": "c788c0e1",
   "metadata": {},
   "outputs": [
    {
     "data": {
      "text/plain": [
       "true"
      ]
     },
     "execution_count": 14,
     "metadata": {},
     "output_type": "execute_result"
    }
   ],
   "source": [
    "arr.includes(NaN);"
   ]
  },
  {
   "cell_type": "markdown",
   "id": "a24c2e0b",
   "metadata": {},
   "source": [
    "## Array.flat & Array.flatMap"
   ]
  },
  {
   "cell_type": "code",
   "execution_count": 15,
   "id": "402127c8",
   "metadata": {},
   "outputs": [],
   "source": [
    "let nestedArray = [1, [2, 3], [[]], [4, [5]], 6];"
   ]
  },
  {
   "cell_type": "code",
   "execution_count": 16,
   "id": "0d218f94",
   "metadata": {},
   "outputs": [
    {
     "data": {
      "text/plain": [
       "[ 1, [ 2, 3 ], [ [] ], [ 4, [ 5 ] ], 6 ]"
      ]
     },
     "execution_count": 16,
     "metadata": {},
     "output_type": "execute_result"
    }
   ],
   "source": [
    "nestedArray.flat(0);"
   ]
  },
  {
   "cell_type": "code",
   "execution_count": 17,
   "id": "ca7c7b05",
   "metadata": {},
   "outputs": [
    {
     "data": {
      "text/plain": [
       "[\n",
       "  1,  2, 3,\n",
       "  [], 4, [ 5 ],\n",
       "  6\n",
       "]"
      ]
     },
     "execution_count": 17,
     "metadata": {},
     "output_type": "execute_result"
    }
   ],
   "source": [
    "nestedArray.flat(); // default is 1"
   ]
  },
  {
   "cell_type": "code",
   "execution_count": 18,
   "id": "0d0af132",
   "metadata": {},
   "outputs": [
    {
     "data": {
      "text/plain": [
       "[ 1, 2, 3, 4, 5, 6 ]"
      ]
     },
     "execution_count": 18,
     "metadata": {},
     "output_type": "execute_result"
    }
   ],
   "source": [
    "nestedArray.flat(2);"
   ]
  },
  {
   "cell_type": "code",
   "execution_count": 19,
   "id": "c193d968",
   "metadata": {},
   "outputs": [
    {
     "data": {
      "text/plain": [
       "[ [ 2, '2' ], [ 4, '4' ], [ 6, '6' ] ]"
      ]
     },
     "execution_count": 19,
     "metadata": {},
     "output_type": "execute_result"
    }
   ],
   "source": [
    "[1, 2, 3].map((value) => [value * 2, String(value * 2)]);"
   ]
  },
  {
   "cell_type": "code",
   "execution_count": 20,
   "id": "c2ef701a",
   "metadata": {},
   "outputs": [
    {
     "data": {
      "text/plain": [
       "[ 2, '2', 4, '4', 6, '6' ]"
      ]
     },
     "execution_count": 20,
     "metadata": {},
     "output_type": "execute_result"
    }
   ],
   "source": [
    "[1, 2, 3].map((value) => [value * 2, String(value * 2)]).flat();"
   ]
  },
  {
   "cell_type": "code",
   "execution_count": 21,
   "id": "59501ef5",
   "metadata": {},
   "outputs": [
    {
     "data": {
      "text/plain": [
       "[ 2, '2', 4, '4', 6, '6' ]"
      ]
     },
     "execution_count": 21,
     "metadata": {},
     "output_type": "execute_result"
    }
   ],
   "source": [
    "// we can do the same thing with flatMap\n",
    "[1, 2, 3].flatMap((value) => [value * 2, String(value * 2)]);"
   ]
  }
 ],
 "metadata": {
  "kernelspec": {
   "display_name": "Javascript (Node.js)",
   "language": "javascript",
   "name": "javascript"
  },
  "language_info": {
   "file_extension": ".js",
   "mimetype": "application/javascript",
   "name": "javascript",
   "version": "18.17.1"
  }
 },
 "nbformat": 4,
 "nbformat_minor": 5
}
