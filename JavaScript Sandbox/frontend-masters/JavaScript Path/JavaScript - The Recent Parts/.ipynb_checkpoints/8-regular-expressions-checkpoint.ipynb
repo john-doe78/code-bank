{
 "cells": [
  {
   "cell_type": "markdown",
   "id": "c43bbdc4-0d2e-42f0-a061-55f515a0a0cc",
   "metadata": {},
   "source": [
    "# Regular Expressions"
   ]
  },
  {
   "cell_type": "code",
   "execution_count": 1,
   "id": "2f36ce90-48e9-4065-80c7-18d2ea7b4eb5",
   "metadata": {},
   "outputs": [],
   "source": [
    "let str = \"Hello World\";"
   ]
  },
  {
   "cell_type": "code",
   "execution_count": 2,
   "id": "f3a78e81-49fd-4748-bf70-33bf390772b8",
   "metadata": {},
   "outputs": [
    {
     "data": {
      "text/plain": [
       "[ 'll', 'ld' ]"
      ]
     },
     "execution_count": 2,
     "metadata": {},
     "output_type": "execute_result"
    }
   ],
   "source": [
    "str.match(/(l.)/g);"
   ]
  },
  {
   "cell_type": "code",
   "execution_count": 3,
   "id": "0c1cc8cb-ecf1-4607-84db-ed659bde9aa5",
   "metadata": {},
   "outputs": [
    {
     "data": {
      "text/plain": [
       "[ 'ld' ]"
      ]
     },
     "execution_count": 3,
     "metadata": {},
     "output_type": "execute_result"
    }
   ],
   "source": [
    "str.match(/(l.)$/g);"
   ]
  },
  {
   "cell_type": "code",
   "execution_count": 4,
   "id": "5777edcd-5734-4e9a-a1c2-bf11130eea79",
   "metadata": {},
   "outputs": [
    {
     "data": {
      "text/plain": [
       "[ 'll' ]"
      ]
     },
     "execution_count": 4,
     "metadata": {},
     "output_type": "execute_result"
    }
   ],
   "source": [
    "str.match(/(l.)(?=o)/g);"
   ]
  },
  {
   "cell_type": "code",
   "execution_count": 5,
   "id": "37d53edf-c0cb-46f9-b6bc-f8e77619c0a0",
   "metadata": {},
   "outputs": [
    {
     "data": {
      "text/plain": [
       "[ 'lo', 'ld' ]"
      ]
     },
     "execution_count": 5,
     "metadata": {},
     "output_type": "execute_result"
    }
   ],
   "source": [
    "str.match(/(l.)(?!o)/g);"
   ]
  },
  {
   "cell_type": "markdown",
   "id": "a583d6f1-ad02-4ac6-b4cd-0aa50ee9f604",
   "metadata": {},
   "source": [
    "## Named Capture groups"
   ]
  },
  {
   "cell_type": "code",
   "execution_count": 6,
   "id": "c2fc3957-aceb-435e-a3ab-ef1092b10d75",
   "metadata": {},
   "outputs": [
    {
     "data": {
      "text/plain": [
       "[ 'ell', 'll', index: 1, input: 'Hello World', groups: undefined ]"
      ]
     },
     "execution_count": 6,
     "metadata": {},
     "output_type": "execute_result"
    }
   ],
   "source": [
    "str.match(/.(l.)/);"
   ]
  },
  {
   "cell_type": "code",
   "execution_count": 7,
   "id": "ff2740ea-63e6-4bc0-94a7-190e172c3572",
   "metadata": {},
   "outputs": [
    {
     "data": {
      "text/plain": [
       "[ 'lo Worl', 'l', index: 3, input: 'Hello World', groups: undefined ]"
      ]
     },
     "execution_count": 7,
     "metadata": {},
     "output_type": "execute_result"
    }
   ],
   "source": [
    "str.match(/([jkl])o Wor\\1/);"
   ]
  },
  {
   "cell_type": "code",
   "execution_count": 8,
   "id": "6eb8de14-5032-42d4-8b96-0c4c976a7ea3",
   "metadata": {},
   "outputs": [
    {
     "data": {
      "text/plain": [
       "[Object: null prototype] { cap: 'll' }"
      ]
     },
     "execution_count": 8,
     "metadata": {},
     "output_type": "execute_result"
    }
   ],
   "source": [
    "str.match(/(?<cap>l.)/).groups;"
   ]
  },
  {
   "cell_type": "code",
   "execution_count": 9,
   "id": "4018f6a5-8d85-4c3a-9b5d-f74a95ffb206",
   "metadata": {},
   "outputs": [
    {
     "data": {
      "text/plain": [
       "'He-ll-o Wor-ld-'"
      ]
     },
     "execution_count": 9,
     "metadata": {},
     "output_type": "execute_result"
    }
   ],
   "source": [
    "str.replace(/(?<cap>l.)/g, \"-$<cap>-\");"
   ]
  },
  {
   "cell_type": "code",
   "execution_count": 10,
   "id": "a3d1c118-48ab-4ae7-8701-669406ce9117",
   "metadata": {},
   "outputs": [
    {
     "data": {
      "text/plain": [
       "'HeLLo WorLD'"
      ]
     },
     "execution_count": 10,
     "metadata": {},
     "output_type": "execute_result"
    }
   ],
   "source": [
    "// Custom replace function\n",
    "str.replace(/(?<cap>l.)/g, function re(...args) {\n",
    "    let [, , , , {cap}] = args;\n",
    "    return cap.toUpperCase();\n",
    "});"
   ]
  },
  {
   "cell_type": "markdown",
   "id": "fabeb3c7-be5e-43fc-86eb-a33613bcd8c6",
   "metadata": {},
   "source": [
    "## dotall / s"
   ]
  },
  {
   "cell_type": "code",
   "execution_count": 11,
   "id": "ee1d3007-e686-482e-89f6-6fde3cbf7694",
   "metadata": {},
   "outputs": [],
   "source": [
    "var msg = `\n",
    "The quick brown fox\n",
    "jumps over the\n",
    "lazy dog`;"
   ]
  },
  {
   "cell_type": "code",
   "execution_count": 12,
   "id": "6068fb16-1be5-48ba-a023-2049aaf15262",
   "metadata": {},
   "outputs": [
    {
     "data": {
      "text/plain": [
       "null"
      ]
     },
     "execution_count": 12,
     "metadata": {},
     "output_type": "execute_result"
    }
   ],
   "source": [
    "msg.match(/brown.*over/);"
   ]
  },
  {
   "cell_type": "code",
   "execution_count": 13,
   "id": "0337a2a3-d7d4-4fa5-9417-dca787987fc5",
   "metadata": {},
   "outputs": [
    {
     "data": {
      "text/plain": [
       "[\n",
       "  'brown fox\\njumps over',\n",
       "  index: 11,\n",
       "  input: '\\nThe quick brown fox\\njumps over the\\nlazy dog',\n",
       "  groups: undefined\n",
       "]"
      ]
     },
     "execution_count": 13,
     "metadata": {},
     "output_type": "execute_result"
    }
   ],
   "source": [
    "msg.match(/brown.*over/s);"
   ]
  },
  {
   "cell_type": "markdown",
   "id": "54c29ec7-a0c1-4bfe-b5c6-89691dda298a",
   "metadata": {},
   "source": [
    "## Exercise\n",
    "\n",
    "It's returning weird result.\n",
    "\n",
    "```js\n",
    "let poem = `\n",
    "The power of gun can kill\n",
    "and the power of fire can burn\n",
    "the power of wind can chill\n",
    "and the power of a mind can learn\n",
    "the power of anger can rage\n",
    "inside until it tears you apart\n",
    "but the power of a smile\n",
    "especially yours can heal a frozen heart\n",
    "`;\n",
    "\n",
    "for (let power of powers(poem)) {\n",
    "    console.log(power);\n",
    "}\n",
    "\n",
    "/* output\n",
    "a gun: kill\n",
    "fire: burn\n",
    "wind: chill\n",
    "a mind: learn\n",
    "anger: rage\n",
    "smile: heal\n",
    "*/\n",
    "```"
   ]
  },
  {
   "cell_type": "code",
   "execution_count": 14,
   "id": "de4e5fff-ea26-451d-ac32-33ef90047974",
   "metadata": {},
   "outputs": [],
   "source": [
    "let poem = `\n",
    "The power of gun can kill\n",
    "and the power of fire can burn\n",
    "the power of wind can chill\n",
    "and the power of a mind can learn\n",
    "the power of anger can rage\n",
    "inside until it tears you apart\n",
    "but the power of a smile\n",
    "especially yours can heal a frozen heart`;"
   ]
  },
  {
   "cell_type": "code",
   "execution_count": 15,
   "id": "25ad5ed0-4b34-4e89-bc66-8d56c4b0f547",
   "metadata": {},
   "outputs": [],
   "source": [
    "function *powers(poem) {\n",
    "    let re = /(?<=power of )(?<thing>(?:a )?\\w+).*?(?<=can )(?<verb>\\w+)/gs;\n",
    "    let match;\n",
    "\n",
    "    while (match = re.exec(poem)) {\n",
    "        let {\n",
    "            groups: {\n",
    "                thing, \n",
    "                verb\n",
    "            }\n",
    "        } = match;\n",
    "        \n",
    "        yield `${thing}: ${verb}`;\n",
    "    }\n",
    "    \n",
    "}"
   ]
  },
  {
   "cell_type": "code",
   "execution_count": 16,
   "id": "7994776f",
   "metadata": {},
   "outputs": [
    {
     "name": "stdout",
     "output_type": "stream",
     "text": [
      "gun: kill\n",
      "fire: burn\n",
      "wind: chill\n",
      "a mind: learn\n",
      "anger: rage\n",
      "a smile: heal\n"
     ]
    }
   ],
   "source": [
    "for (let power of powers(poem)) {\n",
    "    console.log(power);\n",
    "}"
   ]
  }
 ],
 "metadata": {
  "kernelspec": {
   "display_name": "Javascript (Node.js)",
   "language": "javascript",
   "name": "javascript"
  },
  "language_info": {
   "file_extension": ".js",
   "mimetype": "application/javascript",
   "name": "javascript",
   "version": "18.17.1"
  }
 },
 "nbformat": 4,
 "nbformat_minor": 5
}
