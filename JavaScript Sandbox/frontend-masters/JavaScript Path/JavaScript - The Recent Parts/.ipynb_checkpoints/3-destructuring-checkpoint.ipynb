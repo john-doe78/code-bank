{
 "cells": [
  {
   "cell_type": "markdown",
   "id": "5768dd7e",
   "metadata": {},
   "source": [
    "# Destructuring\n",
    "\n",
    "Destructuring - decomposing a structure into its individual parts.\n",
    "\n",
    "## Array Destructuring\n",
    "\n",
    "```js\n",
    "// Imperative\n",
    "let tmp = getSomeRecords();\n",
    "\n",
    "let first = tmp[0];\n",
    "let second = tmp[1];\n",
    "\n",
    "let firstName = first.name;\n",
    "let firstEmail = (first.email !== undefined) ? first.email : \"hello@example.com\";\n",
    "\n",
    "let secondName = second.name;\n",
    "let secondEmail = (second.email !== undefined) ? second.email : \"hello@example.com\";\n",
    "\n",
    "// Declartive\n",
    "let [\n",
    "    {\n",
    "        name: firstName,\n",
    "        email: firstEmail = \"hello@example.com\"\n",
    "    },\n",
    "    {\n",
    "        name: secondName,\n",
    "        email: secondEmail = \"hello@example.com\"\n",
    "    }\n",
    "] = getSomeRecords();\n",
    "```\n",
    "\n",
    "This is not an array of objects, b/c it's on the left-hand side of the equals, it's not a value at all; b/c **it's on the left-hand side it's actually a pattern**. It is a syntax that is describing the value that is expected from the right-hand side (where we call the `getSomeRecords` API)\n",
    "\n",
    "> A pattern to describe what kind of value we're expecting to get.\n",
    "\n",
    "The other takeaway here: **The pattern does not have to account for the entirety of the value, rather, just the part of the value that you care about at that moment**.\n",
    "\n",
    "The other takeaway here is that: **This code in it's declarative nature, is self documenting**, because in a way we are documenting with syntax what we expect the value of returned from the API call."
   ]
  },
  {
   "cell_type": "markdown",
   "id": "36cc0d5e",
   "metadata": {},
   "source": [
    "## Refactoring Code Using Destructuring"
   ]
  },
  {
   "cell_type": "code",
   "execution_count": 1,
   "id": "1bc8db18",
   "metadata": {},
   "outputs": [],
   "source": [
    "function data() {\n",
    "    return [1, 2, 3];\n",
    "}"
   ]
  },
  {
   "cell_type": "code",
   "execution_count": 2,
   "id": "4426a37a",
   "metadata": {},
   "outputs": [],
   "source": [
    "// IMPERATIVE APPROACH\n",
    "let tmp = data();\n",
    "\n",
    "let first = tmp[0];\n",
    "let second = tmp[1];\n",
    "let third = tmp[2];"
   ]
  },
  {
   "cell_type": "code",
   "execution_count": 3,
   "id": "169f9c0e",
   "metadata": {},
   "outputs": [
    {
     "data": {
      "text/plain": [
       "[ 1, 2, 3 ]"
      ]
     },
     "execution_count": 3,
     "metadata": {},
     "output_type": "execute_result"
    }
   ],
   "source": [
    "// DECLARATIVE APPROACH\n",
    "[first, second, third] = data();"
   ]
  },
  {
   "cell_type": "markdown",
   "id": "1282eb7a",
   "metadata": {},
   "source": [
    "If `data` function returns array of 2 elements. What will happen for `third` variable we declared? `third` will be `undefined`."
   ]
  },
  {
   "cell_type": "code",
   "execution_count": 4,
   "id": "99549af5",
   "metadata": {},
   "outputs": [],
   "source": [
    "function data() {\n",
    "    return [1, 2];\n",
    "}\n",
    "\n",
    "// old way\n",
    "tmp = data();\n",
    "\n",
    "first = tmp[0];\n",
    "second = tmp[1];\n",
    "third = tmp[2];\n",
    "\n",
    "third;"
   ]
  },
  {
   "cell_type": "code",
   "execution_count": 5,
   "id": "29dd0e51",
   "metadata": {},
   "outputs": [
    {
     "data": {
      "text/plain": [
       "[ 1, 2 ]"
      ]
     },
     "execution_count": 5,
     "metadata": {},
     "output_type": "execute_result"
    }
   ],
   "source": [
    "// new way\n",
    "[first, second, third] = data();"
   ]
  },
  {
   "cell_type": "code",
   "execution_count": 6,
   "id": "cb88e9d0",
   "metadata": {},
   "outputs": [
    {
     "data": {
      "text/plain": [
       "true"
      ]
     },
     "execution_count": 6,
     "metadata": {},
     "output_type": "execute_result"
    }
   ],
   "source": [
    "third === undefined;"
   ]
  },
  {
   "cell_type": "markdown",
   "id": "b128e4ec",
   "metadata": {},
   "source": [
    "If `data` function returns array of more than 3 elements then what will happen for the rest of the elements after `third` variable? Nothing will happen. Rest will be ignored."
   ]
  },
  {
   "cell_type": "code",
   "execution_count": 7,
   "id": "b695ef6e",
   "metadata": {},
   "outputs": [
    {
     "data": {
      "text/plain": [
       "3"
      ]
     },
     "execution_count": 7,
     "metadata": {},
     "output_type": "execute_result"
    }
   ],
   "source": [
    "function data() {\n",
    "    return [1, 2, 3, 4, 5];\n",
    "}\n",
    "\n",
    "// old way\n",
    "tmp = data();\n",
    "\n",
    "first = tmp[0];\n",
    "second = tmp[1];\n",
    "third = tmp[2];\n",
    "\n",
    "third;"
   ]
  },
  {
   "cell_type": "code",
   "execution_count": 8,
   "id": "5a22eb89",
   "metadata": {},
   "outputs": [
    {
     "data": {
      "text/plain": [
       "[ 1, 2, 3, 4, 5 ]"
      ]
     },
     "execution_count": 8,
     "metadata": {},
     "output_type": "execute_result"
    }
   ],
   "source": [
    "// new way\n",
    "[first, second, third] = data();"
   ]
  },
  {
   "cell_type": "markdown",
   "id": "eeb69b41",
   "metadata": {},
   "source": [
    "What will happen if we omit any of the array element value. Default `undefined` will be set."
   ]
  },
  {
   "cell_type": "code",
   "execution_count": 9,
   "id": "79d1516d",
   "metadata": {},
   "outputs": [],
   "source": [
    "function data() {\n",
    "    return [1, , 3, 4, 5];\n",
    "}"
   ]
  },
  {
   "cell_type": "code",
   "execution_count": 10,
   "id": "f8371a38",
   "metadata": {},
   "outputs": [
    {
     "data": {
      "text/plain": [
       "[ 1, <1 empty item>, 3, 4, 5 ]"
      ]
     },
     "execution_count": 10,
     "metadata": {},
     "output_type": "execute_result"
    }
   ],
   "source": [
    "[first, second, third] = data();"
   ]
  },
  {
   "cell_type": "code",
   "execution_count": 11,
   "id": "d8e562b2",
   "metadata": {},
   "outputs": [],
   "source": [
    "tmp = data();\n",
    "\n",
    "first = tmp[0];\n",
    "second = tmp[1];\n",
    "third = tmp[2];\n",
    "\n",
    "second;"
   ]
  },
  {
   "cell_type": "code",
   "execution_count": 12,
   "id": "2d046aa3",
   "metadata": {},
   "outputs": [
    {
     "data": {
      "text/plain": [
       "true"
      ]
     },
     "execution_count": 12,
     "metadata": {},
     "output_type": "execute_result"
    }
   ],
   "source": [
    "second == undefined;"
   ]
  },
  {
   "cell_type": "markdown",
   "id": "f3f59f54",
   "metadata": {},
   "source": [
    "Set default value if value is `undefined`"
   ]
  },
  {
   "cell_type": "code",
   "execution_count": 13,
   "id": "176c6867",
   "metadata": {},
   "outputs": [
    {
     "data": {
      "text/plain": [
       "10"
      ]
     },
     "execution_count": 13,
     "metadata": {},
     "output_type": "execute_result"
    }
   ],
   "source": [
    "tmp = data();\n",
    "\n",
    "first = tmp[0];\n",
    "second = tmp[1] !== undefined ? tmp[1] : 10;\n",
    "third = tmp[2];\n",
    "\n",
    "second;"
   ]
  },
  {
   "cell_type": "code",
   "execution_count": 14,
   "id": "d52e3d93",
   "metadata": {},
   "outputs": [
    {
     "data": {
      "text/plain": [
       "10"
      ]
     },
     "execution_count": 14,
     "metadata": {},
     "output_type": "execute_result"
    }
   ],
   "source": [
    "[first, second = 10, third] = data();\n",
    "\n",
    "second;"
   ]
  },
  {
   "cell_type": "code",
   "execution_count": 15,
   "id": "4299594c",
   "metadata": {},
   "outputs": [
    {
     "data": {
      "text/plain": [
       "false"
      ]
     },
     "execution_count": 15,
     "metadata": {},
     "output_type": "execute_result"
    }
   ],
   "source": [
    "null === undefined;"
   ]
  },
  {
   "cell_type": "markdown",
   "id": "77673778",
   "metadata": {},
   "source": [
    "What if the array contans several elements and can't predict how many. Wanna collect all of them in a single variable. `...third` that is called gather syntax, it must be show up at the end of the pattern,"
   ]
  },
  {
   "cell_type": "code",
   "execution_count": 16,
   "id": "532c52b1",
   "metadata": {},
   "outputs": [],
   "source": [
    "function data() {\n",
    "    return [1, 2, 3, 4, 5, 6, 7, 8];\n",
    "}"
   ]
  },
  {
   "cell_type": "code",
   "execution_count": 17,
   "id": "1ce7603b",
   "metadata": {},
   "outputs": [
    {
     "data": {
      "text/plain": [
       "[ 3, 4, 5, 6, 7, 8 ]"
      ]
     },
     "execution_count": 17,
     "metadata": {},
     "output_type": "execute_result"
    }
   ],
   "source": [
    "[first, second, ...third] = data();\n",
    "\n",
    "third;"
   ]
  },
  {
   "cell_type": "code",
   "execution_count": 18,
   "id": "074b64e5",
   "metadata": {},
   "outputs": [
    {
     "data": {
      "text/plain": [
       "[ 3, 4, 5, 6, 7, 8 ]"
      ]
     },
     "execution_count": 18,
     "metadata": {},
     "output_type": "execute_result"
    }
   ],
   "source": [
    "tmp = data();\n",
    "\n",
    "first = tmp[0];\n",
    "second = tmp[1];\n",
    "third = tmp.slice(2);\n",
    "\n",
    "third;"
   ]
  },
  {
   "cell_type": "markdown",
   "id": "38d64287",
   "metadata": {},
   "source": [
    "What if the array contains only 2 elements but we declared more than 2 variables are declared in the pattern to collect rest of the elements?"
   ]
  },
  {
   "cell_type": "code",
   "execution_count": 19,
   "id": "ffc94dac",
   "metadata": {},
   "outputs": [],
   "source": [
    "function data() {\n",
    "    return [1, 2];\n",
    "}"
   ]
  },
  {
   "cell_type": "code",
   "execution_count": 20,
   "id": "25d21a9c",
   "metadata": {},
   "outputs": [
    {
     "data": {
      "text/plain": [
       "[]"
      ]
     },
     "execution_count": 20,
     "metadata": {},
     "output_type": "execute_result"
    }
   ],
   "source": [
    "tmp = data();\n",
    "\n",
    "first = tmp[0];\n",
    "second = tmp[1];\n",
    "third = tmp.slice(2);\n",
    "\n",
    "third;"
   ]
  },
  {
   "cell_type": "code",
   "execution_count": 21,
   "id": "7574a101",
   "metadata": {},
   "outputs": [
    {
     "data": {
      "text/plain": [
       "[]"
      ]
     },
     "execution_count": 21,
     "metadata": {},
     "output_type": "execute_result"
    }
   ],
   "source": [
    "[first, second, ...third] = data();\n",
    "\n",
    "third;"
   ]
  },
  {
   "cell_type": "code",
   "execution_count": 22,
   "id": "decf24b0",
   "metadata": {},
   "outputs": [],
   "source": [
    "function data() {\n",
    "    return [1, 2, 3, 4];\n",
    "}"
   ]
  },
  {
   "cell_type": "code",
   "execution_count": 23,
   "id": "1fcdbeeb",
   "metadata": {},
   "outputs": [
    {
     "data": {
      "text/plain": [
       "[ 1, 2, 3, 4 ]"
      ]
     },
     "execution_count": 23,
     "metadata": {},
     "output_type": "execute_result"
    }
   ],
   "source": [
    "let o = [];\n",
    "\n",
    "[o[0], o[1], o[2], o[3]] = data() || [];\n",
    "\n",
    "o;"
   ]
  },
  {
   "cell_type": "code",
   "execution_count": 24,
   "id": "678a02cb",
   "metadata": {},
   "outputs": [
    {
     "data": {
      "text/plain": [
       "{ first: 1, second: 2, third: 3, fourth: 4 }"
      ]
     },
     "execution_count": 24,
     "metadata": {},
     "output_type": "execute_result"
    }
   ],
   "source": [
    "o = {};\n",
    "\n",
    "[o.first, o.second, o.third, o.fourth] = data() || [];\n",
    "\n",
    "o;"
   ]
  },
  {
   "cell_type": "markdown",
   "id": "068f0b24",
   "metadata": {},
   "source": [
    "What if I only care about `first` and `third` variable. Use `,` If you don't want to assign a value to the variable."
   ]
  },
  {
   "cell_type": "code",
   "execution_count": 25,
   "id": "59d72025",
   "metadata": {},
   "outputs": [
    {
     "data": {
      "text/plain": [
       "[ 1, 2, 3, 4 ]"
      ]
     },
     "execution_count": 25,
     "metadata": {},
     "output_type": "execute_result"
    }
   ],
   "source": [
    "function data() {\n",
    "    return [1, 2, 3, 4];\n",
    "}\n",
    "\n",
    "[first, , third, ...fourth] =  data() || [];"
   ]
  },
  {
   "cell_type": "code",
   "execution_count": 26,
   "id": "d5db65b9",
   "metadata": {},
   "outputs": [
    {
     "data": {
      "text/plain": [
       "3"
      ]
     },
     "execution_count": 26,
     "metadata": {},
     "output_type": "execute_result"
    }
   ],
   "source": [
    "third;"
   ]
  },
  {
   "cell_type": "code",
   "execution_count": 27,
   "id": "9af5183f",
   "metadata": {},
   "outputs": [
    {
     "data": {
      "text/plain": [
       "1"
      ]
     },
     "execution_count": 27,
     "metadata": {},
     "output_type": "execute_result"
    }
   ],
   "source": [
    "first;"
   ]
  },
  {
   "cell_type": "markdown",
   "id": "81b69013",
   "metadata": {},
   "source": [
    "### Parameter Arrays"
   ]
  },
  {
   "cell_type": "code",
   "execution_count": 28,
   "id": "243921f2",
   "metadata": {},
   "outputs": [],
   "source": [
    "// impertive\n",
    "function data(tmp) {\n",
    "    var [\n",
    "        first,\n",
    "        second,\n",
    "        third\n",
    "    ] = tmp;\n",
    "}"
   ]
  },
  {
   "cell_type": "code",
   "execution_count": 29,
   "id": "a8b33896",
   "metadata": {},
   "outputs": [],
   "source": [
    "// declarative\n",
    "function data([\n",
    "    first,\n",
    "    second,\n",
    "    third\n",
    "]) {\n",
    "    //...\n",
    "}"
   ]
  },
  {
   "cell_type": "markdown",
   "id": "58b2edbc",
   "metadata": {},
   "source": [
    "### Swap variables"
   ]
  },
  {
   "cell_type": "code",
   "execution_count": 30,
   "id": "c7ad78d2",
   "metadata": {},
   "outputs": [
    {
     "data": {
      "text/plain": [
       "10"
      ]
     },
     "execution_count": 30,
     "metadata": {},
     "output_type": "execute_result"
    }
   ],
   "source": [
    "// old way\n",
    "let x = 20;\n",
    "let y = 10;\n",
    "\n",
    "{\n",
    "    let tmp = x;\n",
    "    x = y;\n",
    "    y = tmp;\n",
    "}\n",
    "\n",
    "x;"
   ]
  },
  {
   "cell_type": "code",
   "execution_count": 31,
   "id": "5cd322d8",
   "metadata": {},
   "outputs": [
    {
     "data": {
      "text/plain": [
       "20"
      ]
     },
     "execution_count": 31,
     "metadata": {},
     "output_type": "execute_result"
    }
   ],
   "source": [
    "y;"
   ]
  },
  {
   "cell_type": "code",
   "execution_count": 32,
   "id": "c002b759",
   "metadata": {},
   "outputs": [
    {
     "data": {
      "text/plain": [
       "10"
      ]
     },
     "execution_count": 32,
     "metadata": {},
     "output_type": "execute_result"
    }
   ],
   "source": [
    "// new way\n",
    "[y, x] = [x, y];\n",
    "\n",
    "y;"
   ]
  },
  {
   "cell_type": "code",
   "execution_count": 33,
   "id": "5362f612",
   "metadata": {},
   "outputs": [
    {
     "data": {
      "text/plain": [
       "20"
      ]
     },
     "execution_count": 33,
     "metadata": {},
     "output_type": "execute_result"
    }
   ],
   "source": [
    "x;"
   ]
  },
  {
   "cell_type": "code",
   "execution_count": 34,
   "id": "53635713",
   "metadata": {},
   "outputs": [
    {
     "data": {
      "text/plain": [
       "[]"
      ]
     },
     "execution_count": 34,
     "metadata": {},
     "output_type": "execute_result"
    }
   ],
   "source": [
    "null || [];"
   ]
  },
  {
   "cell_type": "code",
   "execution_count": 35,
   "id": "00986d98",
   "metadata": {},
   "outputs": [
    {
     "data": {
      "text/plain": [
       "true"
      ]
     },
     "execution_count": 35,
     "metadata": {},
     "output_type": "execute_result"
    }
   ],
   "source": [
    "Boolean([]);"
   ]
  },
  {
   "cell_type": "code",
   "execution_count": 36,
   "id": "93005fa8",
   "metadata": {},
   "outputs": [
    {
     "data": {
      "text/plain": [
       "[]"
      ]
     },
     "execution_count": 36,
     "metadata": {},
     "output_type": "execute_result"
    }
   ],
   "source": [
    "undefined || [];"
   ]
  },
  {
   "cell_type": "code",
   "execution_count": 37,
   "id": "279b4c86",
   "metadata": {},
   "outputs": [],
   "source": [
    "// nested array destructuring\n",
    "\n",
    "function data() {\n",
    "    return [1, [2, 3], 3];\n",
    "}"
   ]
  },
  {
   "cell_type": "code",
   "execution_count": 38,
   "id": "7cbaa4f5",
   "metadata": {},
   "outputs": [
    {
     "data": {
      "text/plain": [
       "[ 1, [ 2, 3 ], 3 ]"
      ]
     },
     "execution_count": 38,
     "metadata": {},
     "output_type": "execute_result"
    }
   ],
   "source": [
    "tmp = data() || [];\n",
    "\n",
    "first = tmp[0];\n",
    "second = tmp[1];\n",
    "third = second[0];\n",
    "fourth = second[1];\n",
    "let fifth = tmp[2];\n",
    "\n",
    "tmp;"
   ]
  },
  {
   "cell_type": "code",
   "execution_count": 39,
   "id": "36341e09",
   "metadata": {},
   "outputs": [
    {
     "data": {
      "text/plain": [
       "[ 1, [ 2, 3 ], 3 ]"
      ]
     },
     "execution_count": 39,
     "metadata": {},
     "output_type": "execute_result"
    }
   ],
   "source": [
    "// new way\n",
    "[first, [second, third], fourth] = data() || [];"
   ]
  },
  {
   "cell_type": "markdown",
   "id": "0185cec5",
   "metadata": {},
   "source": [
    "## Object Destructuring\n",
    "\n",
    "In objects, since position doesn't matter, we have to tell it the source to be assigned\n",
    "\n",
    "* We do so by giving it a property name\n",
    "    * `source : target`\n",
    "* Position doesn't matter like in arrays, so we can have these in any position that is most readable for us\n",
    "* Unmentioned properties/values in pattern get ignored"
   ]
  },
  {
   "cell_type": "code",
   "execution_count": 40,
   "id": "b0ef42e8",
   "metadata": {},
   "outputs": [],
   "source": [
    "function data() {\n",
    "    return {\n",
    "        a: 1,\n",
    "        b: 2,\n",
    "        c: 3,\n",
    "    };\n",
    "}"
   ]
  },
  {
   "cell_type": "code",
   "execution_count": 41,
   "id": "62fd57cf",
   "metadata": {},
   "outputs": [
    {
     "data": {
      "text/plain": [
       "{ a: 1, b: 2, c: 3 }"
      ]
     },
     "execution_count": 41,
     "metadata": {},
     "output_type": "execute_result"
    }
   ],
   "source": [
    "// IMPERATIVE APPROACH\n",
    "tmp = data();\n",
    "\n",
    "first = tmp.a;\n",
    "second = tmp.b;\n",
    "third = tmp.c;\n",
    "\n",
    "tmp;"
   ]
  },
  {
   "cell_type": "code",
   "execution_count": 42,
   "id": "81339aae",
   "metadata": {},
   "outputs": [
    {
     "data": {
      "text/plain": [
       "2"
      ]
     },
     "execution_count": 42,
     "metadata": {},
     "output_type": "execute_result"
    }
   ],
   "source": [
    "second;"
   ]
  },
  {
   "cell_type": "code",
   "execution_count": 43,
   "id": "9c9e9807",
   "metadata": {},
   "outputs": [
    {
     "data": {
      "text/plain": [
       "{ a: 1, b: 2, c: 3 }"
      ]
     },
     "execution_count": 43,
     "metadata": {},
     "output_type": "execute_result"
    }
   ],
   "source": [
    "// DECLARATIVE APPROACH\n",
    "({ a: first, b: second, c: third } = data()); // {source: targetVariable = defaultValue}"
   ]
  },
  {
   "cell_type": "code",
   "execution_count": 44,
   "id": "540e9a4c",
   "metadata": {},
   "outputs": [
    {
     "data": {
      "text/plain": [
       "2"
      ]
     },
     "execution_count": 44,
     "metadata": {},
     "output_type": "execute_result"
    }
   ],
   "source": [
    "second;"
   ]
  },
  {
   "cell_type": "markdown",
   "id": "41a332b5",
   "metadata": {},
   "source": [
    "### Gather the unaccounted for properties in our object\n",
    "\n",
    "`...rest` in object destructuring created for us a whole separate object of our gathered values."
   ]
  },
  {
   "cell_type": "code",
   "execution_count": 45,
   "id": "975e76d6",
   "metadata": {},
   "outputs": [],
   "source": [
    "// DECLARATIVE APPROACH\n",
    "function data() {\n",
    "    return { a: 1, b: 2, c: 3, d: 4 };\n",
    "}\n",
    "\n",
    "let {a, ...rest} = data();"
   ]
  },
  {
   "cell_type": "code",
   "execution_count": 46,
   "id": "c4d8cfc6",
   "metadata": {},
   "outputs": [
    {
     "data": {
      "text/plain": [
       "{ b: 2, c: 3, d: 4 }"
      ]
     },
     "execution_count": 46,
     "metadata": {},
     "output_type": "execute_result"
    }
   ],
   "source": [
    "rest;"
   ]
  },
  {
   "cell_type": "code",
   "execution_count": 47,
   "id": "89f76d94",
   "metadata": {},
   "outputs": [
    {
     "data": {
      "text/plain": [
       "1"
      ]
     },
     "execution_count": 47,
     "metadata": {},
     "output_type": "execute_result"
    }
   ],
   "source": [
    "a;"
   ]
  },
  {
   "cell_type": "markdown",
   "id": "c4fed0ba",
   "metadata": {},
   "source": [
    "### Existing Variable Locations\n",
    "\n",
    "```js\n",
    "let first, second, third;\n",
    "\n",
    "// it's not a valid syntax, js treats them as block scope.\n",
    "{\n",
    "    a: first, \n",
    "    b: second,\n",
    "    c: third,\n",
    "} = data();\n",
    "\n",
    "// to overcome this confusion they included ()\n",
    "({\n",
    "    a: first = 45, \n",
    "    b: second,\n",
    "    c: third,\n",
    "} = data()) || {};\n",
    "```"
   ]
  },
  {
   "cell_type": "markdown",
   "id": "fe1fc670",
   "metadata": {},
   "source": [
    "### Nested Object Destructuring"
   ]
  },
  {
   "cell_type": "code",
   "execution_count": 48,
   "id": "bef68865",
   "metadata": {},
   "outputs": [],
   "source": [
    "function data() {\n",
    "    return {\n",
    "        a: 1,\n",
    "        b: {\n",
    "            c: 2,\n",
    "            d: 3,\n",
    "        },\n",
    "        e: 4\n",
    "    };\n",
    "}"
   ]
  },
  {
   "cell_type": "code",
   "execution_count": 49,
   "id": "c6d453fd",
   "metadata": {},
   "outputs": [],
   "source": [
    "let {\n",
    "    a: t,\n",
    "    b: {\n",
    "        c: u,\n",
    "        d: p\n",
    "    } = {},\n",
    "    e: m\n",
    "} = data() || {};"
   ]
  },
  {
   "cell_type": "markdown",
   "id": "c4f17338",
   "metadata": {},
   "source": [
    "### Object Parameters Destructuring"
   ]
  },
  {
   "cell_type": "code",
   "execution_count": 50,
   "id": "cb920d6b",
   "metadata": {},
   "outputs": [],
   "source": [
    "// Instead of doing something like destructuring directly in the body...\n",
    "function data(tmp = {}) {\n",
    "    let {\n",
    "        r,\n",
    "        t\n",
    "    } = tmp;\n",
    "}"
   ]
  },
  {
   "cell_type": "code",
   "execution_count": 51,
   "id": "2824105a",
   "metadata": {},
   "outputs": [],
   "source": [
    "// We can destructure in the parameter position...\n",
    "function data({\n",
    "        r,\n",
    "        t\n",
    "} = {}) {\n",
    "    \n",
    "    // func body...\n",
    "}"
   ]
  },
  {
   "cell_type": "code",
   "execution_count": 52,
   "id": "a4749ec4",
   "metadata": {},
   "outputs": [],
   "source": [
    "// JavaScript doesn't support named arguments\n",
    "function lookUpRecord(store = \"person-records\", id = -1) {\n",
    "\n",
    "}"
   ]
  },
  {
   "cell_type": "code",
   "execution_count": 53,
   "id": "2cb1b833",
   "metadata": {},
   "outputs": [
    {
     "data": {
      "text/plain": [
       "'person-records'"
      ]
     },
     "execution_count": 53,
     "metadata": {},
     "output_type": "execute_result"
    }
   ],
   "source": [
    "// we can achieve named arguments via destructuring\n",
    "function lookUpRecord2({store=\"person-records\", id = -1}) {\n",
    "    return store;\n",
    "}\n",
    "\n",
    "lookUpRecord2({id: 42});"
   ]
  },
  {
   "cell_type": "markdown",
   "id": "af0a5457",
   "metadata": {},
   "source": [
    "## Exercise\n",
    "\n",
    "```js\n",
    "var defaults = {\n",
    "\ttopic: \"JavaScript\",\n",
    "\tformat: \"Live\",\n",
    "\tslides: {\n",
    "\t\tstart: 0,\n",
    "\t\tend: 100\n",
    "\t}\n",
    "};\n",
    "\n",
    "fakeAjax(\"http://get-the-workshop.tld\",handleResponse);\n",
    "\n",
    "// *******************************************************\n",
    "\n",
    "function handleResponse(/* destructuring here */) {\n",
    "\n",
    "\tTestCase({\n",
    "\t\t/* restructuring here */\n",
    "\t});\n",
    "\n",
    "}\n",
    "\n",
    "function TestCase(data) {\n",
    "\tconsole.log(\n",
    "\t\tdata.topic == \"JS Recent Parts\" &&\n",
    "\t\tdata.format == \"Live\" &&\n",
    "\t\tdata.slides.start === 0 &&\n",
    "\t\tdata.slides.end == 77\n",
    "\t);\n",
    "}\n",
    "\n",
    "// *******************************************************\n",
    "\n",
    "function fakeAjax(url,cb) {\n",
    "\t// fake ajax response:\n",
    "\tcb({\n",
    "\t\ttopic: \"JS Recent Parts\",\n",
    "\t\tslides: {\n",
    "\t\t\tend: 77\n",
    "\t\t}\n",
    "\t});\n",
    "}\n",
    "```"
   ]
  },
  {
   "cell_type": "code",
   "execution_count": 54,
   "id": "d831dbf7",
   "metadata": {},
   "outputs": [
    {
     "name": "stdout",
     "output_type": "stream",
     "text": [
      "true\n"
     ]
    }
   ],
   "source": [
    "fakeAjax(\"http://get-the-workshop.tld\",handleResponse);\n",
    "\n",
    "function handleResponse({\n",
    "    topic = \"JavaScript\",\n",
    "    format = \"Live\",\n",
    "    slides: {\n",
    "        start = 0,\n",
    "        end = 100,\n",
    "    } = {},\n",
    "    ...otherProperties\n",
    "} = {}) {\n",
    "\n",
    "    TestCase({\n",
    "        topic, format,\n",
    "        slides: {\n",
    "            start, end\n",
    "        }, \n",
    "        ...otherProperties\n",
    "    });\n",
    "\n",
    "}\n",
    "\n",
    "function TestCase(data) {\n",
    "    console.log (\n",
    "        data.topic == \"JS Recent Parts\" &&\n",
    "        data.format == \"Live\" &&\n",
    "        data.slides.start === 0 &&\n",
    "        data.slides.end == 77\n",
    "    );\n",
    "}\n",
    "\n",
    "function fakeAjax(url,cb) {\n",
    "    // fake ajax response:\n",
    "    cb({\n",
    "        topic: \"JS Recent Parts\",\n",
    "        slides: {\n",
    "            end: 77\n",
    "        }\n",
    "    });\n",
    "}"
   ]
  }
 ],
 "metadata": {
  "kernelspec": {
   "display_name": "Javascript (Node.js)",
   "language": "javascript",
   "name": "javascript"
  },
  "language_info": {
   "file_extension": ".js",
   "mimetype": "application/javascript",
   "name": "javascript",
   "version": "18.17.1"
  }
 },
 "nbformat": 4,
 "nbformat_minor": 5
}
