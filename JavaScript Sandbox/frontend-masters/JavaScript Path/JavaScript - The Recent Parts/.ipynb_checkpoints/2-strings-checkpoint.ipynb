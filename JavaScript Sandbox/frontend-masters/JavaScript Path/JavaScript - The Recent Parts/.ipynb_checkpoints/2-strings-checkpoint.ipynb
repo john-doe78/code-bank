{
 "cells": [
  {
   "cell_type": "markdown",
   "id": "e1d0e75d",
   "metadata": {},
   "source": [
    "# Template Literals\n",
    "\n",
    "* [Getting Started with Template Literals In JavaScript](https://claritydev.net/blog/javascript-template-literals-guide)\n",
    "* [Advanced String Manipulation with Tagged Templates In JavaScript](https://claritydev.net/blog/javascript-advanced-string-manipulation-tagged-templates)"
   ]
  },
  {
   "cell_type": "code",
   "execution_count": 1,
   "id": "b896222f",
   "metadata": {},
   "outputs": [
    {
     "data": {
      "text/plain": [
       "'Welcome to this class! Your Teacher is Kyle Simpson, contact: getify@gmail.com.'"
      ]
     },
     "execution_count": 1,
     "metadata": {},
     "output_type": "execute_result"
    }
   ],
   "source": [
    "let name_ = \"Kyle Simpson\";\n",
    "let email = \"getify@gmail.com\";\n",
    "let title = \"Teacher\";\n",
    "\n",
    "// old way\n",
    "let message = \"Welcome to this class! Your \" + title + \" is \" + name_ + \", contact: \" + email + \".\";\n",
    "message;"
   ]
  },
  {
   "cell_type": "code",
   "execution_count": 2,
   "id": "cbf3edac",
   "metadata": {},
   "outputs": [
    {
     "data": {
      "text/plain": [
       "'Welcome to this class! Your Teacher is Kyle Simpson, contact: getify@gmail.com.'"
      ]
     },
     "execution_count": 2,
     "metadata": {},
     "output_type": "execute_result"
    }
   ],
   "source": [
    "// template literal\n",
    "message = `Welcome to this class! Your ${title} \\\n",
    "is ${name_}, contact: ${email}.`;\n",
    "message;"
   ]
  },
  {
   "cell_type": "code",
   "execution_count": 3,
   "id": "82d4d683",
   "metadata": {},
   "outputs": [
    {
     "data": {
      "text/plain": [
       "'string'"
      ]
     },
     "execution_count": 3,
     "metadata": {},
     "output_type": "execute_result"
    }
   ],
   "source": [
    "typeof(message);"
   ]
  },
  {
   "cell_type": "markdown",
   "id": "4058d37b",
   "metadata": {},
   "source": [
    "## Tagged Templates\n",
    "\n",
    "Also string literals or template literals have another feature on them which allows you to more fully control that pre-processing process when the string is generated..."
   ]
  },
  {
   "cell_type": "code",
   "execution_count": 4,
   "id": "6553db01",
   "metadata": {},
   "outputs": [
    {
     "data": {
      "text/plain": [
       "'The total for your order is 12.3'"
      ]
     },
     "execution_count": 4,
     "metadata": {},
     "output_type": "execute_result"
    }
   ],
   "source": [
    "let amount = 12.3;\n",
    "message = `The total for your order is ${amount}`;\n",
    "message;"
   ]
  },
  {
   "cell_type": "code",
   "execution_count": 5,
   "id": "dbbaa099",
   "metadata": {},
   "outputs": [
    {
     "name": "stdout",
     "output_type": "stream",
     "text": [
      "[ 'The total for your order is ', '' ]\n",
      "[ 12.3 ]\n"
     ]
    },
    {
     "data": {
      "text/plain": [
       "'The total for your order is $12.30'"
      ]
     },
     "execution_count": 5,
     "metadata": {},
     "output_type": "execute_result"
    }
   ],
   "source": [
    "let formatCurrency = function(strings, ...values) {\n",
    "    console.log(strings);\n",
    "    console.log(values);\n",
    "    \n",
    "    let str = \"\";\n",
    "    for (let i = 0; i < strings.length; i++) {\n",
    "        if (i > 0) {\n",
    "            if (typeof values[i-1] == \"number\") {\n",
    "                str += `$${values[i-1].toFixed(2)}`;\n",
    "            } else {\n",
    "                str += values[i-1];\n",
    "            }\n",
    "        }\n",
    "        str += strings[i];\n",
    "    }\n",
    "\n",
    "    return str;\n",
    "};\n",
    "\n",
    "message = formatCurrency`The total for your order is ${amount}`;\n",
    "message;"
   ]
  },
  {
   "cell_type": "code",
   "execution_count": 6,
   "id": "3c580ef7",
   "metadata": {},
   "outputs": [
    {
     "data": {
      "text/plain": [
       "'Hello, World'"
      ]
     },
     "execution_count": 6,
     "metadata": {},
     "output_type": "execute_result"
    }
   ],
   "source": [
    "function helloWorld(template, ...values) {\n",
    "    return \"Hello, World\";\n",
    "}\n",
    "\n",
    "message = helloWorld`The total for your order is ${amount}`;\n",
    "message;"
   ]
  },
  {
   "cell_type": "markdown",
   "id": "effa79ca",
   "metadata": {},
   "source": [
    "## Exercise\n",
    "\n",
    "```js\n",
    "funtion upper(template, ...values) {}\n",
    "\n",
    "var name = \"kyle\";\n",
    "var twitter = \"getify\";\n",
    "var topic = \"JS Recent Parts\";\n",
    "\n",
    "console.log(`Hello ___ (@____), welcome to ____!` === `Hello KYLE (@GETIFY), welcome to JS RECENT PARTS!`);\n",
    "```\n",
    "\n",
    "If you notice the `template` array has a length of 4; essentially `${}` acts as the value separator for the indicies of the strings array, notice how spaces are preserved...\n",
    "\n",
    "```js\n",
    "[Hello , (@,), welcome to ,!]\n",
    "template[0] === \"Hello \"\n",
    "template[1] === \" (@,)\"\n",
    "template[2] === \" welcome to \"\n",
    "template[3] === \"!\"\n",
    "```\n",
    "\n",
    "`...values` is just the array of interpolated values."
   ]
  },
  {
   "cell_type": "code",
   "execution_count": 7,
   "id": "ab6a73a0",
   "metadata": {},
   "outputs": [
    {
     "data": {
      "text/plain": [
       "'Hello KYLE (@GETIFY), welcome to JS RECENT PARTS!'"
      ]
     },
     "execution_count": 7,
     "metadata": {},
     "output_type": "execute_result"
    }
   ],
   "source": [
    "var name = \"kyle\";\n",
    "var twitter = \"getify\";\n",
    "var topic = \"JS Recent Parts\";\n",
    "\n",
    "function upper(template, ...values) {\n",
    "    let str = \"\";\n",
    "    \n",
    "    for (let i = 0; i < template.length; i++) {\n",
    "        if (i < values.length) {\n",
    "            str += `${template[i]}${values[i].toUpperCase()}`;\n",
    "        } else {\n",
    "            str += `${template[i]}`; // string's last part\n",
    "        }\n",
    "    }\n",
    "    \n",
    "    return str;\n",
    "}\n",
    "\n",
    "upper_str = upper`Hello ${name} (@${twitter}), welcome to ${topic}!`;\n",
    "upper_str;"
   ]
  },
  {
   "cell_type": "code",
   "execution_count": 8,
   "id": "1f44ac9b",
   "metadata": {},
   "outputs": [
    {
     "data": {
      "text/plain": [
       "true"
      ]
     },
     "execution_count": 8,
     "metadata": {},
     "output_type": "execute_result"
    }
   ],
   "source": [
    "upper_str === `Hello KYLE (@GETIFY), welcome to JS RECENT PARTS!`;"
   ]
  },
  {
   "cell_type": "code",
   "execution_count": 9,
   "id": "7c69f65d",
   "metadata": {},
   "outputs": [
    {
     "data": {
      "text/plain": [
       "'Hello KYLE (@GETIFY), welcome to JS RECENT PARTS!'"
      ]
     },
     "execution_count": 9,
     "metadata": {},
     "output_type": "execute_result"
    }
   ],
   "source": [
    "// Kyle Simpson's solution\n",
    "function upper(template, ...values) {\n",
    "    let res = \"\";\n",
    "    for (let i = 0; i < template.length; i++) {\n",
    "        if (i > 0) {\n",
    "            res += String(values[i-1]).toUpperCase();\n",
    "        }\n",
    "        \n",
    "        res += template[i];\n",
    "    }\n",
    "    \n",
    "    return res;\n",
    "}\n",
    "\n",
    "upper_str = upper`Hello ${name} (@${twitter}), welcome to ${topic}!`;\n",
    "upper_str;"
   ]
  },
  {
   "cell_type": "code",
   "execution_count": 10,
   "id": "618a6f0f",
   "metadata": {},
   "outputs": [
    {
     "data": {
      "text/plain": [
       "true"
      ]
     },
     "execution_count": 10,
     "metadata": {},
     "output_type": "execute_result"
    }
   ],
   "source": [
    "upper_str === `Hello KYLE (@GETIFY), welcome to JS RECENT PARTS!`;"
   ]
  },
  {
   "cell_type": "markdown",
   "id": "2c9fce21",
   "metadata": {},
   "source": [
    "## Padding & Trimming\n",
    "\n",
    "### padStart\n",
    "\n",
    "`str.padStart(n)` - Takes two arguments, first one is required the second one is optional. *You are telling it how many characters to pad to and not how much padding you want to add*. So if you already have a string that is 5 characters long, and you say `str.padStart(5)`, it's not going to do anything.\n",
    "\n",
    "By default it uses the standard ASCII 32 character space for default padding. You can override it."
   ]
  },
  {
   "cell_type": "code",
   "execution_count": 11,
   "id": "31a628ac",
   "metadata": {},
   "outputs": [],
   "source": [
    "// left start padding (it's not actually add pad from left, rather add padd from the start of the string)\n",
    "let str = \"Hello\";"
   ]
  },
  {
   "cell_type": "code",
   "execution_count": 12,
   "id": "e4fd8dca",
   "metadata": {},
   "outputs": [
    {
     "data": {
      "text/plain": [
       "'Hello'"
      ]
     },
     "execution_count": 12,
     "metadata": {},
     "output_type": "execute_result"
    }
   ],
   "source": [
    "str.padStart(5);"
   ]
  },
  {
   "cell_type": "code",
   "execution_count": 13,
   "id": "d35fa838",
   "metadata": {},
   "outputs": [
    {
     "data": {
      "text/plain": [
       "'   Hello'"
      ]
     },
     "execution_count": 13,
     "metadata": {},
     "output_type": "execute_result"
    }
   ],
   "source": [
    "str.padStart(8);"
   ]
  },
  {
   "cell_type": "code",
   "execution_count": 14,
   "id": "1d78454a",
   "metadata": {},
   "outputs": [
    {
     "data": {
      "text/plain": [
       "'***Hello'"
      ]
     },
     "execution_count": 14,
     "metadata": {},
     "output_type": "execute_result"
    }
   ],
   "source": [
    "str.padStart(8, \"*\");"
   ]
  },
  {
   "cell_type": "code",
   "execution_count": 15,
   "id": "8d946059",
   "metadata": {},
   "outputs": [
    {
     "data": {
      "text/plain": [
       "'123Hello'"
      ]
     },
     "execution_count": 15,
     "metadata": {},
     "output_type": "execute_result"
    }
   ],
   "source": [
    "str.padStart(8, \"12345\");"
   ]
  },
  {
   "cell_type": "code",
   "execution_count": 16,
   "id": "c9eca50a",
   "metadata": {},
   "outputs": [
    {
     "data": {
      "text/plain": [
       "'abaHello'"
      ]
     },
     "execution_count": 16,
     "metadata": {},
     "output_type": "execute_result"
    }
   ],
   "source": [
    "str.padStart(8, \"ab\");"
   ]
  },
  {
   "cell_type": "code",
   "execution_count": 17,
   "id": "0fbb2b51",
   "metadata": {},
   "outputs": [
    {
     "data": {
      "text/plain": [
       "'دخول الجامعة'"
      ]
     },
     "execution_count": 17,
     "metadata": {},
     "output_type": "execute_result"
    }
   ],
   "source": [
    "str = \"دخول الجامعة\";"
   ]
  },
  {
   "cell_type": "code",
   "execution_count": 18,
   "id": "8353cd53",
   "metadata": {},
   "outputs": [
    {
     "data": {
      "text/plain": [
       "'-------------دخول الجامعة'"
      ]
     },
     "execution_count": 18,
     "metadata": {},
     "output_type": "execute_result"
    }
   ],
   "source": [
    "str.padStart(25, \"-\");"
   ]
  },
  {
   "cell_type": "markdown",
   "id": "2ebba50f",
   "metadata": {},
   "source": [
    "### padEnd"
   ]
  },
  {
   "cell_type": "code",
   "execution_count": 19,
   "id": "a5884c84",
   "metadata": {},
   "outputs": [
    {
     "data": {
      "text/plain": [
       "'Hello'"
      ]
     },
     "execution_count": 19,
     "metadata": {},
     "output_type": "execute_result"
    }
   ],
   "source": [
    "str = \"Hello\";"
   ]
  },
  {
   "cell_type": "code",
   "execution_count": 20,
   "id": "35e23838",
   "metadata": {},
   "outputs": [
    {
     "data": {
      "text/plain": [
       "'Hello'"
      ]
     },
     "execution_count": 20,
     "metadata": {},
     "output_type": "execute_result"
    }
   ],
   "source": [
    "str.padEnd(5);"
   ]
  },
  {
   "cell_type": "code",
   "execution_count": 21,
   "id": "aa23648d",
   "metadata": {},
   "outputs": [
    {
     "data": {
      "text/plain": [
       "'Hello   '"
      ]
     },
     "execution_count": 21,
     "metadata": {},
     "output_type": "execute_result"
    }
   ],
   "source": [
    "str.padEnd(8);"
   ]
  },
  {
   "cell_type": "code",
   "execution_count": 22,
   "id": "0931d112",
   "metadata": {},
   "outputs": [
    {
     "data": {
      "text/plain": [
       "'Hello***'"
      ]
     },
     "execution_count": 22,
     "metadata": {},
     "output_type": "execute_result"
    }
   ],
   "source": [
    "str.padEnd(8, \"*\");"
   ]
  },
  {
   "cell_type": "code",
   "execution_count": 23,
   "id": "38d8d6b2",
   "metadata": {},
   "outputs": [
    {
     "data": {
      "text/plain": [
       "'Hello123'"
      ]
     },
     "execution_count": 23,
     "metadata": {},
     "output_type": "execute_result"
    }
   ],
   "source": [
    "str.padEnd(8, \"12345\");"
   ]
  },
  {
   "cell_type": "code",
   "execution_count": 24,
   "id": "3fe31b2b",
   "metadata": {},
   "outputs": [
    {
     "data": {
      "text/plain": [
       "'Helloaba'"
      ]
     },
     "execution_count": 24,
     "metadata": {},
     "output_type": "execute_result"
    }
   ],
   "source": [
    "str.padEnd(8, \"ab\");"
   ]
  },
  {
   "cell_type": "code",
   "execution_count": 25,
   "id": "c8d2d9fb",
   "metadata": {},
   "outputs": [
    {
     "data": {
      "text/plain": [
       "'المستندة إلى البيانات'"
      ]
     },
     "execution_count": 25,
     "metadata": {},
     "output_type": "execute_result"
    }
   ],
   "source": [
    "str = \"المستندة إلى البيانات\";"
   ]
  },
  {
   "cell_type": "code",
   "execution_count": 26,
   "id": "4b183033",
   "metadata": {},
   "outputs": [
    {
     "data": {
      "text/plain": [
       "'المستندة إلى البيانات----'"
      ]
     },
     "execution_count": 26,
     "metadata": {},
     "output_type": "execute_result"
    }
   ],
   "source": [
    "str.padEnd(25, \"-\");"
   ]
  },
  {
   "cell_type": "markdown",
   "id": "cd345144",
   "metadata": {},
   "source": [
    "### trinmStart / trimEnd\n",
    "\n",
    "* `str.trim` has been a part of the lang for a while now, but ES2019 adds `.trimStart` and `.trimEnd`\n",
    "* `.trimStart` and `.trimEnd` take no arguments because there is no configuration to do there: they only trim whitespace, but not just ASCII 32 whitespace but all unicode representations of whitespace (space, tab, newline, etc.) left start trimming, right end trimming."
   ]
  },
  {
   "cell_type": "code",
   "execution_count": 27,
   "id": "4370097f",
   "metadata": {},
   "outputs": [
    {
     "data": {
      "text/plain": [
       "'   some stuff    \\t\\t'"
      ]
     },
     "execution_count": 27,
     "metadata": {},
     "output_type": "execute_result"
    }
   ],
   "source": [
    "str = \"   some stuff    \\t\\t\";"
   ]
  },
  {
   "cell_type": "code",
   "execution_count": 28,
   "id": "4fb6a0c7",
   "metadata": {},
   "outputs": [
    {
     "data": {
      "text/plain": [
       "'some stuff'"
      ]
     },
     "execution_count": 28,
     "metadata": {},
     "output_type": "execute_result"
    }
   ],
   "source": [
    "str.trim();"
   ]
  },
  {
   "cell_type": "code",
   "execution_count": 29,
   "id": "5c0cbdfb",
   "metadata": {},
   "outputs": [
    {
     "data": {
      "text/plain": [
       "'   some stuff'"
      ]
     },
     "execution_count": 29,
     "metadata": {},
     "output_type": "execute_result"
    }
   ],
   "source": [
    "str.trimEnd();"
   ]
  },
  {
   "cell_type": "code",
   "execution_count": 30,
   "id": "08c635f0",
   "metadata": {},
   "outputs": [
    {
     "data": {
      "text/plain": [
       "'some stuff    \\t\\t'"
      ]
     },
     "execution_count": 30,
     "metadata": {},
     "output_type": "execute_result"
    }
   ],
   "source": [
    "str.trimStart();"
   ]
  },
  {
   "cell_type": "code",
   "execution_count": 31,
   "id": "f4df025f",
   "metadata": {},
   "outputs": [
    {
     "data": {
      "text/plain": [
       "'              دخول الجامعة                '"
      ]
     },
     "execution_count": 31,
     "metadata": {},
     "output_type": "execute_result"
    }
   ],
   "source": [
    "str = \"              دخول الجامعة                \";"
   ]
  },
  {
   "cell_type": "code",
   "execution_count": 32,
   "id": "1c44d8ac",
   "metadata": {},
   "outputs": [
    {
     "data": {
      "text/plain": [
       "'              دخول الجامعة'"
      ]
     },
     "execution_count": 32,
     "metadata": {},
     "output_type": "execute_result"
    }
   ],
   "source": [
    "str.trimEnd();"
   ]
  },
  {
   "cell_type": "code",
   "execution_count": 33,
   "id": "ec0ec8fd",
   "metadata": {},
   "outputs": [
    {
     "data": {
      "text/plain": [
       "'              دخول الجامعة'"
      ]
     },
     "execution_count": 33,
     "metadata": {},
     "output_type": "execute_result"
    }
   ],
   "source": [
    "str.trimRight(); // it's not part of the Js Specfiication, browser added it"
   ]
  },
  {
   "cell_type": "code",
   "execution_count": 34,
   "id": "0cc3f2de",
   "metadata": {},
   "outputs": [
    {
     "data": {
      "text/plain": [
       "'دخول الجامعة                '"
      ]
     },
     "execution_count": 34,
     "metadata": {},
     "output_type": "execute_result"
    }
   ],
   "source": [
    "str.trimLeft();"
   ]
  }
 ],
 "metadata": {
  "kernelspec": {
   "display_name": "Javascript (Node.js)",
   "language": "javascript",
   "name": "javascript"
  },
  "language_info": {
   "file_extension": ".js",
   "mimetype": "application/javascript",
   "name": "javascript",
   "version": "18.17.1"
  }
 },
 "nbformat": 4,
 "nbformat_minor": 5
}
