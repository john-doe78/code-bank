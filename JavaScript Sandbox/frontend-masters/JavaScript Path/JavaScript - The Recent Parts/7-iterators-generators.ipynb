{
 "cells": [
  {
   "cell_type": "markdown",
   "id": "232a8d18-ae67-4e8a-8179-96d826fcc96c",
   "metadata": {},
   "source": [
    "# Iterators & Generators\n",
    "\n",
    "* [ES6 Iterators - the Essential Guide - JavaScript Bangla ( বাংলা ) Tutorial](https://www.youtube.com/watch?v=JXzQ0Aarnzc)\n",
    "* [ES6 Generators - What | Why | How - JavaScript Bangla ( বাংলা ) Tutorial](https://www.youtube.com/watch?v=DNC6MxpCueY)"
   ]
  },
  {
   "cell_type": "code",
   "execution_count": 1,
   "id": "51289a20-8c1c-4317-9fed-0428bbeedae3",
   "metadata": {},
   "outputs": [],
   "source": [
    "let hello = [\"h\", \"e\", \"l\", \"l\", \"o\"];\n",
    "let world = [\"w\", \"o\", \"r\", \"l\", \"d\"];\n",
    "\n",
    "let it1 = hello[Symbol.iterator]();"
   ]
  },
  {
   "cell_type": "code",
   "execution_count": 2,
   "id": "3f137740-7df9-4c16-b4cd-b2c57852f278",
   "metadata": {},
   "outputs": [
    {
     "data": {
      "text/plain": [
       "{ value: 'h', done: false }"
      ]
     },
     "execution_count": 2,
     "metadata": {},
     "output_type": "execute_result"
    }
   ],
   "source": [
    "it1.next();"
   ]
  },
  {
   "cell_type": "code",
   "execution_count": 3,
   "id": "9887e0d1-dc5a-4c1b-b8c7-39c622436e2f",
   "metadata": {},
   "outputs": [
    {
     "data": {
      "text/plain": [
       "{ value: 'e', done: false }"
      ]
     },
     "execution_count": 3,
     "metadata": {},
     "output_type": "execute_result"
    }
   ],
   "source": [
    "it1.next();"
   ]
  },
  {
   "cell_type": "code",
   "execution_count": 4,
   "id": "bd5bfa09-5dbc-4b5e-90ae-475e233f7b68",
   "metadata": {},
   "outputs": [
    {
     "data": {
      "text/plain": [
       "{ value: 'l', done: false }"
      ]
     },
     "execution_count": 4,
     "metadata": {},
     "output_type": "execute_result"
    }
   ],
   "source": [
    "it1.next();"
   ]
  },
  {
   "cell_type": "code",
   "execution_count": 5,
   "id": "e3324ce1-ce03-462e-9883-10d6ba8a7858",
   "metadata": {},
   "outputs": [
    {
     "data": {
      "text/plain": [
       "{ value: 'l', done: false }"
      ]
     },
     "execution_count": 5,
     "metadata": {},
     "output_type": "execute_result"
    }
   ],
   "source": [
    "it1.next();"
   ]
  },
  {
   "cell_type": "code",
   "execution_count": 6,
   "id": "a1a92bf1-f493-4ada-ac3e-be5eb5236cc9",
   "metadata": {},
   "outputs": [
    {
     "data": {
      "text/plain": [
       "{ value: 'o', done: false }"
      ]
     },
     "execution_count": 6,
     "metadata": {},
     "output_type": "execute_result"
    }
   ],
   "source": [
    "it1.next();"
   ]
  },
  {
   "cell_type": "code",
   "execution_count": 7,
   "id": "4cef68d4-e421-4d27-806f-c64a6a99ee81",
   "metadata": {},
   "outputs": [
    {
     "data": {
      "text/plain": [
       "{ value: undefined, done: true }"
      ]
     },
     "execution_count": 7,
     "metadata": {},
     "output_type": "execute_result"
    }
   ],
   "source": [
    "it1.next();"
   ]
  },
  {
   "cell_type": "code",
   "execution_count": 8,
   "id": "30a39ca7-233b-4515-8be3-6403edc4a337",
   "metadata": {},
   "outputs": [],
   "source": [
    "let it2 = world[Symbol.iterator]();"
   ]
  },
  {
   "cell_type": "code",
   "execution_count": 9,
   "id": "dfb71dbf-f52f-4cb4-b90b-bbedf8b800c1",
   "metadata": {},
   "outputs": [
    {
     "data": {
      "text/plain": [
       "{ value: 'w', done: false }"
      ]
     },
     "execution_count": 9,
     "metadata": {},
     "output_type": "execute_result"
    }
   ],
   "source": [
    "it2.next();"
   ]
  },
  {
   "cell_type": "code",
   "execution_count": 10,
   "id": "a7c410e3-2f98-4824-b3ae-c6e25649f9a2",
   "metadata": {},
   "outputs": [
    {
     "data": {
      "text/plain": [
       "{ value: 'o', done: false }"
      ]
     },
     "execution_count": 10,
     "metadata": {},
     "output_type": "execute_result"
    }
   ],
   "source": [
    "it2.next();"
   ]
  },
  {
   "cell_type": "code",
   "execution_count": 11,
   "id": "b9f2e576-748f-4715-a1b1-3bae9e51d45f",
   "metadata": {},
   "outputs": [
    {
     "data": {
      "text/plain": [
       "{ value: 'r', done: false }"
      ]
     },
     "execution_count": 11,
     "metadata": {},
     "output_type": "execute_result"
    }
   ],
   "source": [
    "it2.next();"
   ]
  },
  {
   "cell_type": "code",
   "execution_count": 12,
   "id": "9d4ac794-31ea-423e-a542-2f0c89bfb5ca",
   "metadata": {},
   "outputs": [
    {
     "data": {
      "text/plain": [
       "{ value: 'l', done: false }"
      ]
     },
     "execution_count": 12,
     "metadata": {},
     "output_type": "execute_result"
    }
   ],
   "source": [
    "it2.next();"
   ]
  },
  {
   "cell_type": "code",
   "execution_count": 13,
   "id": "2280a4ee-a88b-4834-91ef-7e9bb53ccfa0",
   "metadata": {},
   "outputs": [
    {
     "data": {
      "text/plain": [
       "{ value: 'd', done: false }"
      ]
     },
     "execution_count": 13,
     "metadata": {},
     "output_type": "execute_result"
    }
   ],
   "source": [
    "it2.next();"
   ]
  },
  {
   "cell_type": "code",
   "execution_count": 14,
   "id": "c6f3b107",
   "metadata": {},
   "outputs": [
    {
     "data": {
      "text/plain": [
       "{ value: undefined, done: true }"
      ]
     },
     "execution_count": 14,
     "metadata": {},
     "output_type": "execute_result"
    }
   ],
   "source": [
    "it2.next();"
   ]
  },
  {
   "cell_type": "markdown",
   "id": "82dec465-a860-45bb-b9bd-2f8abc75aefd",
   "metadata": {},
   "source": [
    "## Imperative Iterator"
   ]
  },
  {
   "cell_type": "code",
   "execution_count": 15,
   "id": "75f9c733-4837-476c-8d89-2cec40a20d03",
   "metadata": {},
   "outputs": [],
   "source": [
    "let str = \"hello\";"
   ]
  },
  {
   "cell_type": "code",
   "execution_count": 16,
   "id": "a30f5b38-7d73-495e-8b9a-d420506218ac",
   "metadata": {},
   "outputs": [
    {
     "name": "stdout",
     "output_type": "stream",
     "text": [
      "h\n",
      "e\n",
      "l\n",
      "l\n",
      "o\n"
     ]
    }
   ],
   "source": [
    "for (let it=str[Symbol.iterator](), v, result;\n",
    "    (result=it.next()) && !result.done && (v=result.value || true);) {\n",
    "    console.log(v);\n",
    "}"
   ]
  },
  {
   "cell_type": "markdown",
   "id": "a1dcd03f-30ef-4db0-b77f-3bcf8d4b3c96",
   "metadata": {},
   "source": [
    "## Declarative Iterator"
   ]
  },
  {
   "cell_type": "code",
   "execution_count": 17,
   "id": "1b7e981a-5eb4-4ad8-a18d-20edb0225795",
   "metadata": {},
   "outputs": [
    {
     "name": "stdout",
     "output_type": "stream",
     "text": [
      "h\n",
      "e\n",
      "l\n",
      "l\n",
      "o\n"
     ]
    }
   ],
   "source": [
    "for (let letter of str) {\n",
    "    console.log(letter);\n",
    "}"
   ]
  },
  {
   "cell_type": "code",
   "execution_count": 18,
   "id": "55eb4253-67d0-4a2d-9a43-89c377da3cae",
   "metadata": {},
   "outputs": [
    {
     "name": "stdout",
     "output_type": "stream",
     "text": [
      "h\n",
      "e\n",
      "l\n",
      "l\n",
      "o\n"
     ]
    }
   ],
   "source": [
    "let it = str[Symbol.iterator]();\n",
    "\n",
    "for(let letter of it) {\n",
    "    console.log(letter);\n",
    "}"
   ]
  },
  {
   "cell_type": "code",
   "execution_count": 19,
   "id": "5f7c44e8-7a8d-4a68-a35d-839f48046856",
   "metadata": {},
   "outputs": [
    {
     "data": {
      "text/plain": [
       "[ 'h', 'e', 'l', 'l', 'o' ]"
      ]
     },
     "execution_count": 19,
     "metadata": {},
     "output_type": "execute_result"
    }
   ],
   "source": [
    "[...str];"
   ]
  },
  {
   "cell_type": "markdown",
   "id": "d7143cb2-6eec-44b0-b432-a0c647eb776f",
   "metadata": {},
   "source": [
    "## Generators"
   ]
  },
  {
   "cell_type": "code",
   "execution_count": 20,
   "id": "df808de5-e5da-4992-91b1-8c66f7023573",
   "metadata": {},
   "outputs": [
    {
     "data": {
      "text/plain": [
       "[ 1, 2, 3 ]"
      ]
     },
     "execution_count": 20,
     "metadata": {},
     "output_type": "execute_result"
    }
   ],
   "source": [
    "// *functionName indicates that it's a generator function\n",
    "function *main() {\n",
    "    yield 1;\n",
    "    yield 2;\n",
    "    yield 3;\n",
    "    return 4; // return anything from generator is a bad practice\n",
    "}\n",
    "\n",
    "it = main(); // produce iterators instead of value\n",
    "[...it];"
   ]
  },
  {
   "cell_type": "markdown",
   "id": "dbfca536-c36b-456e-991f-76237edff6fd",
   "metadata": {},
   "source": [
    "## Iterator on Object\n",
    "\n",
    "Object is not iterable, so if we run (for..of) loop over it we get TypeError"
   ]
  },
  {
   "cell_type": "code",
   "execution_count": 21,
   "id": "9ee7cc5b-882f-4950-8323-131e37ceacb5",
   "metadata": {},
   "outputs": [],
   "source": [
    "let obj = {\n",
    "    a: 1,\n",
    "    b: 2,\n",
    "    c: 3\n",
    "};"
   ]
  },
  {
   "cell_type": "code",
   "execution_count": 22,
   "id": "7a211ab9-e305-4ff9-99c9-98a721b0281c",
   "metadata": {},
   "outputs": [
    {
     "ename": "TypeError",
     "evalue": "obj is not iterable",
     "output_type": "error",
     "traceback": [
      "evalmachine.<anonymous>:1",
      "for (let ele of obj) {",
      "                ^",
      "",
      "TypeError: obj is not iterable",
      "    at evalmachine.<anonymous>:1:17",
      "    at Script.runInThisContext (node:vm:123:12)",
      "    at Object.runInThisContext (node:vm:299:38)",
      "    at run ([eval]:1020:15)",
      "    at onRunRequest ([eval]:864:18)",
      "    at onMessage ([eval]:828:13)",
      "    at process.emit (node:events:514:28)",
      "    at emit (node:internal/child_process:937:14)",
      "    at process.processTicksAndRejections (node:internal/process/task_queues:83:21)"
     ]
    }
   ],
   "source": [
    "for (let ele of obj) {\n",
    "    console.log(ele);\n",
    "}"
   ]
  },
  {
   "cell_type": "markdown",
   "id": "c945e48f-0658-4687-bc6d-edc980eb6582",
   "metadata": {},
   "source": [
    "## Custom Iterator\n",
    "\n",
    "We can make custom iterator to make object iterable.\n",
    "\n",
    "### Imperative"
   ]
  },
  {
   "cell_type": "code",
   "execution_count": 23,
   "id": "c7dc1271-2cde-4201-9ff5-7042106d7e07",
   "metadata": {},
   "outputs": [],
   "source": [
    "let obj2 = {\n",
    "    a: 1,\n",
    "    b: 2,\n",
    "    c: 3,\n",
    "    [Symbol.iterator]: function() {\n",
    "        let keys = Object.keys(this);\n",
    "        let index = 0;\n",
    "\n",
    "        return {\n",
    "            next: () => (index < keys.length) ? {done: false, value: this[keys[index++]]} : {done: true, value: undefined}\n",
    "        };\n",
    "    }\n",
    "};"
   ]
  },
  {
   "cell_type": "code",
   "execution_count": 24,
   "id": "0952a56d-58f8-4062-b092-492a0eae7c9b",
   "metadata": {},
   "outputs": [
    {
     "data": {
      "text/plain": [
       "[ 1, 2, 3 ]"
      ]
     },
     "execution_count": 24,
     "metadata": {},
     "output_type": "execute_result"
    }
   ],
   "source": [
    "[...obj2];"
   ]
  },
  {
   "cell_type": "markdown",
   "id": "63b9feed-6101-4dba-9168-e3d39ae9985b",
   "metadata": {},
   "source": [
    "### Declarative"
   ]
  },
  {
   "cell_type": "code",
   "execution_count": 25,
   "id": "7a878ad8-d0a5-46d7-8896-6327b6555f94",
   "metadata": {},
   "outputs": [],
   "source": [
    "let obj3 = {\n",
    "    a: 1,\n",
    "    b: 2,\n",
    "    c: 3,\n",
    "    *[Symbol.iterator]() {\n",
    "        for (let key of Object.keys(this)) {\n",
    "            yield this[key];\n",
    "        }\n",
    "    }\n",
    "};"
   ]
  },
  {
   "cell_type": "code",
   "execution_count": 26,
   "id": "c9f067b1-312d-47a3-8e5d-0d72448e1bc6",
   "metadata": {},
   "outputs": [
    {
     "data": {
      "text/plain": [
       "[ 1, 2, 3 ]"
      ]
     },
     "execution_count": 26,
     "metadata": {},
     "output_type": "execute_result"
    }
   ],
   "source": [
    "[...obj3];"
   ]
  },
  {
   "cell_type": "code",
   "execution_count": 27,
   "id": "2c4c8a16-e896-495b-aaf9-afa3423e3146",
   "metadata": {},
   "outputs": [
    {
     "data": {
      "text/plain": [
       "{\n",
       "  a: 1,\n",
       "  b: 2,\n",
       "  c: 3,\n",
       "  [Symbol(Symbol.iterator)]: [GeneratorFunction: [Symbol.iterator]]\n",
       "}"
      ]
     },
     "execution_count": 27,
     "metadata": {},
     "output_type": "execute_result"
    }
   ],
   "source": [
    "// return (key, value) pairs\n",
    "obj = {\n",
    "    a: 1,\n",
    "    b: 2,\n",
    "    c: 3,\n",
    "    *[Symbol.iterator]() {\n",
    "        for (let [key, value] of Object.entries(this)) {\n",
    "            yield [key, value];\n",
    "        }\n",
    "    }\n",
    "};"
   ]
  },
  {
   "cell_type": "code",
   "execution_count": 28,
   "id": "0e8a13d0-d7a5-41ae-9957-f747bdde631d",
   "metadata": {},
   "outputs": [
    {
     "data": {
      "text/plain": [
       "[ [ 'a', 1 ], [ 'b', 2 ], [ 'c', 3 ] ]"
      ]
     },
     "execution_count": 28,
     "metadata": {},
     "output_type": "execute_result"
    }
   ],
   "source": [
    "[...obj];"
   ]
  },
  {
   "cell_type": "markdown",
   "id": "4fe79f34-2a62-4fc1-a3b3-237f07b31106",
   "metadata": {},
   "source": [
    "## Exercise\n",
    "\n",
    "```js\n",
    "let numbers = {\n",
    "\n",
    "};\n",
    "\n",
    "// should print 0...100 by 1s\n",
    "for (let num of numbers) {\n",
    "\tconsole.log(num);\n",
    "}\n",
    "\n",
    "// should print 6...30 by 4s\n",
    "console.log(\"My lucky numbers are: _____\");\n",
    "\n",
    "// hint: [...numbers[Symbol.iterator](??)]\n",
    "```"
   ]
  },
  {
   "cell_type": "code",
   "execution_count": 29,
   "id": "9d982556-ee8f-404e-9a31-8b2c9b5e697e",
   "metadata": {},
   "outputs": [],
   "source": [
    "let numbers = {\n",
    "    *[Symbol.iterator]({\n",
    "        start = 0,\n",
    "        end = 10,\n",
    "        step = 1\n",
    "    } = {}) {\n",
    "        for(let i = start; i <= end; i += step) {\n",
    "            yield i;\n",
    "        }\n",
    "    }\n",
    "};"
   ]
  },
  {
   "cell_type": "code",
   "execution_count": 30,
   "id": "b2ca7c23-4f79-4fa9-9569-06e3ebb4c071",
   "metadata": {},
   "outputs": [
    {
     "name": "stdout",
     "output_type": "stream",
     "text": [
      "0\n",
      "1\n",
      "2\n",
      "3\n",
      "4\n",
      "5\n",
      "6\n",
      "7\n",
      "8\n",
      "9\n",
      "10\n"
     ]
    }
   ],
   "source": [
    "// should print 0...100 by 1s\n",
    "for (let num of numbers) {\n",
    "    console.log(num);\n",
    "}"
   ]
  },
  {
   "cell_type": "code",
   "execution_count": 31,
   "id": "2e1d6dc8-4820-433b-95f3-45c9d5dc80f3",
   "metadata": {},
   "outputs": [
    {
     "name": "stdout",
     "output_type": "stream",
     "text": [
      "My lucky numbers are: 6,10,14,18,22,26,30\n"
     ]
    }
   ],
   "source": [
    "// should print 6...30 by 4s\n",
    "console.log(`My lucky numbers are: ${\n",
    "    [...numbers[Symbol.iterator]({\n",
    "        start: 6,\n",
    "        end: 30,\n",
    "        step: 4\n",
    "    })]\n",
    "}`);"
   ]
  }
 ],
 "metadata": {
  "kernelspec": {
   "display_name": "Javascript (Node.js)",
   "language": "javascript",
   "name": "javascript"
  },
  "language_info": {
   "file_extension": ".js",
   "mimetype": "application/javascript",
   "name": "javascript",
   "version": "18.17.1"
  }
 },
 "nbformat": 4,
 "nbformat_minor": 5
}
