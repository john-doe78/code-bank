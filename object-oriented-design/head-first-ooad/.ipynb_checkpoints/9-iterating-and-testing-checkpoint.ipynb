{
 "cells": [
  {
   "cell_type": "markdown",
   "id": "57d2227e",
   "metadata": {},
   "source": [
    "# Chapter 9｜Iterating and Testing: The Software is Still for the Customer"
   ]
  },
  {
   "cell_type": "code",
   "execution_count": null,
   "id": "f077a364",
   "metadata": {},
   "outputs": [],
   "source": []
  }
 ],
 "metadata": {
  "kernelspec": {
   "display_name": "Python 3 (system-wide)",
   "language": "python",
   "name": "python3"
  },
  "language_info": {
   "codemirror_mode": {
    "name": "ipython",
    "version": 3
   },
   "file_extension": ".py",
   "mimetype": "text/x-python",
   "name": "python",
   "nbconvert_exporter": "python",
   "pygments_lexer": "ipython3",
   "version": "3.10.12"
  }
 },
 "nbformat": 4,
 "nbformat_minor": 5
}
