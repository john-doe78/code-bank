{
 "cells": [
  {
   "cell_type": "markdown",
   "id": "a2e093f4",
   "metadata": {},
   "source": [
    "# Chapter 12 - The Real World: Having a process in life"
   ]
  },
  {
   "cell_type": "code",
   "execution_count": null,
   "id": "997b3c97",
   "metadata": {},
   "outputs": [],
   "source": []
  }
 ],
 "metadata": {
  "kernelspec": {
   "display_name": "Python 3 (system-wide)",
   "language": "python",
   "name": "python3"
  },
  "language_info": {
   "codemirror_mode": {
    "name": "ipython",
    "version": 3
   },
   "file_extension": ".py",
   "mimetype": "text/x-python",
   "name": "python",
   "nbconvert_exporter": "python",
   "pygments_lexer": "ipython3",
   "version": "3.10.12"
  }
 },
 "nbformat": 4,
 "nbformat_minor": 5
}
