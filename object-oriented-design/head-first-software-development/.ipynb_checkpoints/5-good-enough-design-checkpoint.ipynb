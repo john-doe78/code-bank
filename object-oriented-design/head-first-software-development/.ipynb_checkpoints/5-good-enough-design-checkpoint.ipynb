{
 "cells": [
  {
   "cell_type": "markdown",
   "id": "02c4dbb7",
   "metadata": {},
   "source": [
    "# Chapter 5 - Good-Enough Design: Getting it done with great design"
   ]
  },
  {
   "cell_type": "code",
   "execution_count": null,
   "id": "622415c6",
   "metadata": {},
   "outputs": [],
   "source": []
  }
 ],
 "metadata": {
  "kernelspec": {
   "display_name": "Python 3 (system-wide)",
   "language": "python",
   "name": "python3"
  },
  "language_info": {
   "codemirror_mode": {
    "name": "ipython",
    "version": 3
   },
   "file_extension": ".py",
   "mimetype": "text/x-python",
   "name": "python",
   "nbconvert_exporter": "python",
   "pygments_lexer": "ipython3",
   "version": "3.10.12"
  }
 },
 "nbformat": 4,
 "nbformat_minor": 5
}
