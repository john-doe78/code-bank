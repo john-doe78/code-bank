{
 "cells": [
  {
   "cell_type": "markdown",
   "id": "f81009ed",
   "metadata": {},
   "source": [
    "# Chapter 11 - Bugs: Squashing bugs like a pro"
   ]
  },
  {
   "cell_type": "code",
   "execution_count": null,
   "id": "b8dc5aca",
   "metadata": {},
   "outputs": [],
   "source": []
  }
 ],
 "metadata": {
  "kernelspec": {
   "display_name": "Python 3 (system-wide)",
   "language": "python",
   "name": "python3"
  },
  "language_info": {
   "codemirror_mode": {
    "name": "ipython",
    "version": 3
   },
   "file_extension": ".py",
   "mimetype": "text/x-python",
   "name": "python",
   "nbconvert_exporter": "python",
   "pygments_lexer": "ipython3",
   "version": "3.10.12"
  }
 },
 "nbformat": 4,
 "nbformat_minor": 5
}
